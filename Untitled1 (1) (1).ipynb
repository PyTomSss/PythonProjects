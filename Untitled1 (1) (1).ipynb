{
 "cells": [
  {
   "cell_type": "code",
   "execution_count": 2,
   "id": "65bf0b66-86ad-46ce-93fb-aa7a3e7a05ce",
   "metadata": {},
   "outputs": [],
   "source": [
    "!pip install -q lxml\n",
    "\n",
    "import bs4\n",
    "import lxml\n",
    "import pandas\n",
    "import urllib\n",
    "\n",
    "from urllib import request"
   ]
  },
  {
   "cell_type": "code",
   "execution_count": 3,
   "id": "d4f2f4c0-349b-43c9-a7ad-0108ff5dbe9e",
   "metadata": {},
   "outputs": [
    {
     "name": "stdout",
     "output_type": "stream",
     "text": [
      "<title>What Games to Play on PC - Metacritic</title>\n"
     ]
    }
   ],
   "source": [
    "file=open(\"1.html\",\"r\")\n",
    "# adresse : https://www.metacritic.com/browse/game/pc/all/all-time/metascore/?platform=pc&releaseYearMin=2014&releaseYearMax=2023&page=1\n",
    "\n",
    "page = bs4.BeautifulSoup(file.read(), \"lxml\")\n",
    "print(page.find(\"title\"))\n"
   ]
  },
  {
   "cell_type": "code",
   "execution_count": 4,
   "id": "6b979d5f-4ecd-4208-a718-6282cd6c2412",
   "metadata": {},
   "outputs": [
    {
     "name": "stdout",
     "output_type": "stream",
     "text": [
      "Persona 5 Royal\n"
     ]
    },
    {
     "data": {
      "text/plain": [
       "'95'"
      ]
     },
     "execution_count": 4,
     "metadata": {},
     "output_type": "execute_result"
    }
   ],
   "source": [
    "tableau_participants = page.findAll('div', {'class' : 'c-finderProductCard c-finderProductCard-game'})\n",
    "game_info = tableau_participants[3].text.strip()\n",
    "title_text = game_info.partition('\\n')[0]\n",
    "if title_text[1] not in [\"0\", \"1\", \"2\", \"3\", \"4\", \"5\", \"6\", \"7\", \"8\", \"9\"] :\n",
    "    print(title_text[3:-1])\n",
    "elif title_text[2] not in [\"0\", \"1\", \"2\", \"3\", \"4\", \"5\", \"6\", \"7\", \"8\", \"9\"] :\n",
    "    print(title_text[4:-1])\n",
    "elif title_text[3] not in [\"0\", \"1\", \"2\", \"3\", \"4\", \"5\", \"6\", \"7\", \"8\", \"9\"] :\n",
    "    print(title_text[5:-1])\n",
    "else :\n",
    "    print(title_text[6:-1])\n",
    "\n",
    "\n",
    "game_info.partition('\\n')[-1][-12:-10]\n",
    "\n",
    "\n"
   ]
  },
  {
   "cell_type": "code",
   "execution_count": 5,
   "id": "6873dfe9-a180-4f4c-aded-bea07fd96875",
   "metadata": {},
   "outputs": [
    {
     "name": "stdout",
     "output_type": "stream",
     "text": [
      "Collecting igdb-api-v4\n",
      "  Downloading igdb_api_v4-0.3.2-py3-none-any.whl (15 kB)\n",
      "Requirement already satisfied: requests in /opt/anaconda3/lib/python3.9/site-packages (from igdb-api-v4) (2.26.0)\n",
      "Collecting protobuf\n",
      "  Downloading protobuf-4.25.1-cp37-abi3-macosx_10_9_universal2.whl (394 kB)\n",
      "\u001b[K     |████████████████████████████████| 394 kB 2.1 MB/s eta 0:00:01\n",
      "\u001b[?25hRequirement already satisfied: charset-normalizer~=2.0.0 in /opt/anaconda3/lib/python3.9/site-packages (from requests->igdb-api-v4) (2.0.4)\n",
      "Requirement already satisfied: idna<4,>=2.5 in /opt/anaconda3/lib/python3.9/site-packages (from requests->igdb-api-v4) (3.2)\n",
      "Requirement already satisfied: urllib3<1.27,>=1.21.1 in /opt/anaconda3/lib/python3.9/site-packages (from requests->igdb-api-v4) (1.26.7)\n",
      "Requirement already satisfied: certifi>=2017.4.17 in /opt/anaconda3/lib/python3.9/site-packages (from requests->igdb-api-v4) (2021.10.8)\n",
      "Installing collected packages: protobuf, igdb-api-v4\n",
      "Successfully installed igdb-api-v4-0.3.2 protobuf-4.25.1\n",
      "Note: you may need to restart the kernel to use updated packages.\n"
     ]
    }
   ],
   "source": [
    "pip install igdb-api-v4\n"
   ]
  },
  {
   "cell_type": "code",
   "execution_count": 6,
   "id": "458b586d-255e-4286-8f62-61d9ba1c7b36",
   "metadata": {},
   "outputs": [],
   "source": [
    "from igdb.wrapper import IGDBWrapper\n",
    "wrapper = IGDBWrapper(\"wlqlv1d19z5t69oqlf9xx69znfahze\", \"g81w0ggci139gey9je2z6iigitk1ld\")"
   ]
  },
  {
   "cell_type": "code",
   "execution_count": 7,
   "id": "1d95a02b-8d9a-465d-bf95-89cb8596b70c",
   "metadata": {},
   "outputs": [],
   "source": [
    "# JSON API request\n",
    "#byte_array = wrapper.api_request(client_id=wlqlv1d19z5t69oqlf9xx69znfahze, client_secret=g81w0ggci139gey9je2z6iigitk1ld, grant_type=client_credential)\n"
   ]
  },
  {
   "cell_type": "code",
   "execution_count": 8,
   "id": "b9cc6668-eec0-4683-9f25-6f1ccfd011f2",
   "metadata": {},
   "outputs": [
    {
     "name": "stdout",
     "output_type": "stream",
     "text": [
      "Token d'accès :  hy4zn8uk5vkv74dnydjdx1npg6pr2r\n"
     ]
    }
   ],
   "source": [
    "import requests\n",
    "\n",
    "url = \"https://id.twitch.tv/oauth2/token\"\n",
    "data = {\n",
    "    \"client_id\": \"wlqlv1d19z5t69oqlf9xx69znfahze\",\n",
    "    \"client_secret\": \"g81w0ggci139gey9je2z6iigitk1ld\",\n",
    "    \"grant_type\": \"client_credentials\"\n",
    "}\n",
    "\n",
    "response = requests.post(url, data=data)\n",
    "\n",
    "if response.status_code == 200:\n",
    "    token = response.json()[\"access_token\"]\n",
    "    print(\"Token d'accès : \", token)\n",
    "else:\n",
    "    print(\"La requête a échoué avec le code d'état :\", response.status_code)"
   ]
  },
  {
   "cell_type": "code",
   "execution_count": 9,
   "id": "4143243c-ab4a-4fba-964f-339cbcfd7197",
   "metadata": {},
   "outputs": [],
   "source": [
    "from igdb.wrapper import IGDBWrapper\n",
    "wrapper = IGDBWrapper(\"wlqlv1d19z5t69oqlf9xx69znfahze\", \"o2strnp2xj90l3p982n4jg9ko1utad\")"
   ]
  },
  {
   "cell_type": "code",
   "execution_count": 10,
   "id": "c57713ff-1e51-4de4-bec2-6a8cb07e7c5e",
   "metadata": {},
   "outputs": [
    {
     "name": "stdout",
     "output_type": "stream",
     "text": [
      "b'[\\n  {\\n    \"id\": 119066,\\n    \"name\": \"Left Alive: Day One Edition\"\\n  },\\n  {\\n    \"id\": 214527,\\n    \"name\": \"Taco Break: Head to Head\"\\n  },\\n  {\\n    \"id\": 26095,\\n    \"name\": \"Assassin\\\\u0027s Creed IV Black Flag: Aveline\"\\n  },\\n  {\\n    \"id\": 26086,\\n    \"name\": \"Assassin\\\\u0027s Creed IV Black Flag: Kraken Ship Pack\"\\n  },\\n  {\\n    \"id\": 58921,\\n    \"name\": \"ArmaGallant: Decks of Destiny\"\\n  },\\n  {\\n    \"id\": 120546,\\n    \"name\": \"Gravity Ghost: Deluxe Edition\"\\n  },\\n  {\\n    \"id\": 222072,\\n    \"name\": \"Tantei Jinguuji Saburou: Prism of Eyes - Shisha ni Sasageru Ishi\"\\n  },\\n  {\\n    \"id\": 99519,\\n    \"name\": \"Flying Bunny\"\\n  },\\n  {\\n    \"id\": 42927,\\n    \"name\": \"Worms WMD All-Stars\"\\n  },\\n  {\\n    \"id\": 172716,\\n    \"name\": \"Magicians Dead: Force of the Soul\"\\n  }\\n]'\n"
     ]
    }
   ],
   "source": [
    "'''With a wrapper instance already created'''\n",
    "# JSON API request\n",
    "byte_array = wrapper.api_request(\n",
    "            'games',\n",
    "            'fields id, name; offset 0; where platforms=48;'\n",
    "          )\n",
    "# parse into JSON however you like...\n",
    "print(byte_array)\n",
    "# Protobuf API request\n",
    "from igdb.igdbapi_pb2 import GameResult\n",
    "byte_array = wrapper.api_request(\n",
    "            'games.pb', # Note the '.pb' suffix at the endpoint\n",
    "            'fields id, name; offset 0; where platforms=48;'\n",
    "          )\n",
    "games_message = GameResult()\n",
    "games_message.ParseFromString(byte_array) # Fills the protobuf message object with the response\n",
    "games = games_message.games"
   ]
  },
  {
   "cell_type": "code",
   "execution_count": 11,
   "id": "f0f93bfc-0bff-44c7-9d88-4d28f53f14c3",
   "metadata": {},
   "outputs": [
    {
     "name": "stdout",
     "output_type": "stream",
     "text": [
      "[id: 119066\n",
      "name: \"Left Alive: Day One Edition\"\n",
      ", id: 214527\n",
      "name: \"Taco Break: Head to Head\"\n",
      ", id: 26095\n",
      "name: \"Assassin\\'s Creed IV Black Flag: Aveline\"\n",
      ", id: 26086\n",
      "name: \"Assassin\\'s Creed IV Black Flag: Kraken Ship Pack\"\n",
      ", id: 58921\n",
      "name: \"ArmaGallant: Decks of Destiny\"\n",
      ", id: 120546\n",
      "name: \"Gravity Ghost: Deluxe Edition\"\n",
      ", id: 222072\n",
      "name: \"Tantei Jinguuji Saburou: Prism of Eyes - Shisha ni Sasageru Ishi\"\n",
      ", id: 99519\n",
      "name: \"Flying Bunny\"\n",
      ", id: 42927\n",
      "name: \"Worms WMD All-Stars\"\n",
      ", id: 172716\n",
      "name: \"Magicians Dead: Force of the Soul\"\n",
      "]\n"
     ]
    }
   ],
   "source": [
    "print(games)"
   ]
  },
  {
   "cell_type": "code",
   "execution_count": null,
   "id": "dd4db1d8-e10f-4174-a401-2988ad76a6f7",
   "metadata": {},
   "outputs": [],
   "source": []
  }
 ],
 "metadata": {
  "kernelspec": {
   "display_name": "Python 3 (ipykernel)",
   "language": "python",
   "name": "python3"
  },
  "language_info": {
   "codemirror_mode": {
    "name": "ipython",
    "version": 3
   },
   "file_extension": ".py",
   "mimetype": "text/x-python",
   "name": "python",
   "nbconvert_exporter": "python",
   "pygments_lexer": "ipython3",
   "version": "3.9.7"
  }
 },
 "nbformat": 4,
 "nbformat_minor": 5
}
