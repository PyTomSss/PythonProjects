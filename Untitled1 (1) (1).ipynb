{
 "cells": [
  {
   "cell_type": "code",
   "execution_count": 1,
   "id": "65bf0b66-86ad-46ce-93fb-aa7a3e7a05ce",
   "metadata": {},
   "outputs": [],
   "source": [
    "!pip install -q lxml\n",
    "\n",
    "import bs4\n",
    "import lxml\n",
    "import pandas\n",
    "import urllib\n",
    "\n",
    "from urllib import request"
   ]
  },
  {
   "cell_type": "code",
   "execution_count": 2,
   "id": "d4f2f4c0-349b-43c9-a7ad-0108ff5dbe9e",
   "metadata": {},
   "outputs": [
    {
     "name": "stdout",
     "output_type": "stream",
     "text": [
      "<title>What Games to Play on PC - Metacritic</title>\n"
     ]
    }
   ],
   "source": [
    "file=open(\"1.html\",\"r\")\n",
    "# adresse : https://www.metacritic.com/browse/game/pc/all/all-time/metascore/?platform=pc&releaseYearMin=2014&releaseYearMax=2023&page=1\n",
    "\n",
    "page = bs4.BeautifulSoup(file.read(), \"lxml\")\n",
    "print(page.find(\"title\"))\n"
   ]
  },
  {
   "cell_type": "code",
   "execution_count": 3,
   "id": "6b979d5f-4ecd-4208-a718-6282cd6c2412",
   "metadata": {},
   "outputs": [
    {
     "name": "stdout",
     "output_type": "stream",
     "text": [
      "Persona 5 Royal\n"
     ]
    },
    {
     "data": {
      "text/plain": [
       "'95'"
      ]
     },
     "execution_count": 3,
     "metadata": {},
     "output_type": "execute_result"
    }
   ],
   "source": [
    "tableau_participants = page.findAll('div', {'class' : 'c-finderProductCard c-finderProductCard-game'})\n",
    "game_info = tableau_participants[3].text.strip()\n",
    "title_text = game_info.partition('\\n')[0]\n",
    "if title_text[1] not in [\"0\", \"1\", \"2\", \"3\", \"4\", \"5\", \"6\", \"7\", \"8\", \"9\"] :\n",
    "    print(title_text[3:-1])\n",
    "elif title_text[2] not in [\"0\", \"1\", \"2\", \"3\", \"4\", \"5\", \"6\", \"7\", \"8\", \"9\"] :\n",
    "    print(title_text[4:-1])\n",
    "elif title_text[3] not in [\"0\", \"1\", \"2\", \"3\", \"4\", \"5\", \"6\", \"7\", \"8\", \"9\"] :\n",
    "    print(title_text[5:-1])\n",
    "else :\n",
    "    print(title_text[6:-1])\n",
    "\n",
    "\n",
    "game_info.partition('\\n')[-1][-12:-10]\n",
    "\n",
    "\n"
   ]
  },
  {
   "cell_type": "code",
   "execution_count": 4,
   "id": "6873dfe9-a180-4f4c-aded-bea07fd96875",
   "metadata": {},
   "outputs": [
    {
     "name": "stdout",
     "output_type": "stream",
     "text": [
      "Requirement already satisfied: igdb-api-v4 in /opt/mamba/lib/python3.10/site-packages (0.3.2)\n",
      "Requirement already satisfied: requests in /opt/mamba/lib/python3.10/site-packages (from igdb-api-v4) (2.31.0)\n",
      "Requirement already satisfied: protobuf in /opt/mamba/lib/python3.10/site-packages (from igdb-api-v4) (4.24.4)\n",
      "Requirement already satisfied: charset-normalizer<4,>=2 in /opt/mamba/lib/python3.10/site-packages (from requests->igdb-api-v4) (3.2.0)\n",
      "Requirement already satisfied: idna<4,>=2.5 in /opt/mamba/lib/python3.10/site-packages (from requests->igdb-api-v4) (3.4)\n",
      "Requirement already satisfied: urllib3<3,>=1.21.1 in /opt/mamba/lib/python3.10/site-packages (from requests->igdb-api-v4) (1.26.18)\n",
      "Requirement already satisfied: certifi>=2017.4.17 in /opt/mamba/lib/python3.10/site-packages (from requests->igdb-api-v4) (2023.11.17)\n",
      "Note: you may need to restart the kernel to use updated packages.\n"
     ]
    }
   ],
   "source": [
    "pip install igdb-api-v4\n"
   ]
  },
  {
   "cell_type": "code",
   "execution_count": 5,
   "id": "458b586d-255e-4286-8f62-61d9ba1c7b36",
   "metadata": {},
   "outputs": [],
   "source": [
    "from igdb.wrapper import IGDBWrapper\n",
    "wrapper = IGDBWrapper(\"wlqlv1d19z5t69oqlf9xx69znfahze\", \"g81w0ggci139gey9je2z6iigitk1ld\")"
   ]
  },
  {
   "cell_type": "code",
   "execution_count": 6,
   "id": "1d95a02b-8d9a-465d-bf95-89cb8596b70c",
   "metadata": {},
   "outputs": [],
   "source": [
    "# JSON API request\n",
    "#byte_array = wrapper.api_request(client_id=wlqlv1d19z5t69oqlf9xx69znfahze, client_secret=g81w0ggci139gey9je2z6iigitk1ld, grant_type=client_credential)\n"
   ]
  },
  {
   "cell_type": "code",
   "execution_count": 7,
   "id": "b9cc6668-eec0-4683-9f25-6f1ccfd011f2",
   "metadata": {},
   "outputs": [
    {
     "name": "stdout",
     "output_type": "stream",
     "text": [
      "Token d'accès :  uve1jquz6msk3mttwwaag7yedmntfq\n"
     ]
    }
   ],
   "source": [
    "import requests\n",
    "\n",
    "url = \"https://id.twitch.tv/oauth2/token\"\n",
    "data = {\n",
    "    \"client_id\": \"wlqlv1d19z5t69oqlf9xx69znfahze\",\n",
    "    \"client_secret\": \"g81w0ggci139gey9je2z6iigitk1ld\",\n",
    "    \"grant_type\": \"client_credentials\"\n",
    "}\n",
    "\n",
    "response = requests.post(url, data=data)\n",
    "\n",
    "if response.status_code == 200:\n",
    "    token = response.json()[\"access_token\"]\n",
    "    print(\"Token d'accès : \", token)\n",
    "else:\n",
    "    print(\"La requête a échoué avec le code d'état :\", response.status_code)"
   ]
  },
  {
   "cell_type": "code",
   "execution_count": 8,
   "id": "4143243c-ab4a-4fba-964f-339cbcfd7197",
   "metadata": {},
   "outputs": [],
   "source": [
    "from igdb.wrapper import IGDBWrapper\n",
    "wrapper = IGDBWrapper(\"wlqlv1d19z5t69oqlf9xx69znfahze\", \"o2strnp2xj90l3p982n4jg9ko1utad\")"
   ]
  },
  {
   "cell_type": "code",
   "execution_count": null,
   "id": "c57713ff-1e51-4de4-bec2-6a8cb07e7c5e",
   "metadata": {},
   "outputs": [],
   "source": [
    "'''With a wrapper instance already created'''\n",
    "# JSON API request\n",
    "#byte_array = wrapper.api_request(\n",
    "#            'games',\n",
    "#            'fields first_release_date, franchise, genres, hypes, language_supports, platforms, themes; where slug = \"hollow-knight\";'\n",
    "#          )\n",
    "#parse into JSON however you lµike...\n",
    "#print(byte_array)\n"
   ]
  },
  {
   "cell_type": "code",
   "execution_count": 141,
   "id": "50db3c06-3434-4785-a58b-7e784d20a029",
   "metadata": {},
   "outputs": [
    {
     "data": {
      "text/plain": [
       "int"
      ]
     },
     "execution_count": 141,
     "metadata": {},
     "output_type": "execute_result"
    }
   ],
   "source": [
    "#Protobuf API request\n",
    "from igdb.igdbapi_pb2 import GameResult\n",
    "byte_array = wrapper.api_request(\n",
    "            'games.pb',\n",
    "            'fields first_release_date, franchise, genres, hypes, language_supports, platforms, themes; where slug = \"hollow-knight\";'\n",
    "          )\n",
    "games_message = GameResult()\n",
    "games_message.ParseFromString(byte_array) # Fills the protobuf message object with the response\n",
    "games = games_message.games\n",
    "\n",
    "len(games[0].themes)\n"
   ]
  },
  {
   "cell_type": "raw",
   "id": "d941bd72-03a8-4d80-90e3-4a5cc869330e",
   "metadata": {},
   "source": []
  },
  {
   "cell_type": "code",
   "execution_count": null,
   "id": "f0f93bfc-0bff-44c7-9d88-4d28f53f14c3",
   "metadata": {},
   "outputs": [],
   "source": [
    "print(games)"
   ]
  },
  {
   "cell_type": "code",
   "execution_count": null,
   "id": "dd4db1d8-e10f-4174-a401-2988ad76a6f7",
   "metadata": {},
   "outputs": [],
   "source": []
  }
 ],
 "metadata": {
  "kernelspec": {
   "display_name": "Python 3 (ipykernel)",
   "language": "python",
   "name": "python3"
  },
  "language_info": {
   "codemirror_mode": {
    "name": "ipython",
    "version": 3
   },
   "file_extension": ".py",
   "mimetype": "text/x-python",
   "name": "python",
   "nbconvert_exporter": "python",
   "pygments_lexer": "ipython3",
   "version": "3.10.13"
  }
 },
 "nbformat": 4,
 "nbformat_minor": 5
}
