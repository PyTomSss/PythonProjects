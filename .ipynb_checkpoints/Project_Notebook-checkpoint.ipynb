{
 "cells": [
  {
   "cell_type": "markdown",
   "metadata": {},
   "source": [
    "# Préambule\n",
    "\n",
    "## Introduction & Contexte\n",
    "\n",
    "Ce projet a été réalisé par 3 étudiants de Master 1 à l'ENSAE, dans le cadre du cours \"Python for Data Science\". L'idée de ce projet vient d'une intuition que nous avons eu selon laquelle il était possible de prédire le succès d'un jeu vidéo auprès des utilisateurs à partir de certaines de ses caractéristiques. L'objectif principal de ce travail est donc de tenter de vérifier ou infirmer cette intuition à l'aide de techniques statistiques de traitement de données. \n",
    "\n",
    "De plus, nous voulions y incorporer une partie plus originale (traitement d'images...)"
   ]
  },
  {
   "cell_type": "markdown",
   "metadata": {},
   "source": [
    "# Importation des modules \n",
    "\n",
    "## Modules de webscrapping\n",
    "\n",
    "On installe les packages utiles au Webscrapping des données sur les jeux"
   ]
  },
  {
   "cell_type": "code",
   "execution_count": 1,
   "metadata": {},
   "outputs": [
    {
     "name": "stdout",
     "output_type": "stream",
     "text": [
      "Requirement already satisfied: unicode in /opt/mamba/lib/python3.10/site-packages (2.9)\n",
      "Requirement already satisfied: unidecode in /opt/mamba/lib/python3.10/site-packages (1.3.7)\n"
     ]
    }
   ],
   "source": [
    "# On importe les packages\n",
    "!pip install unicode\n",
    "!pip install unidecode\n",
    "import requests \n",
    "import urllib\n",
    "import bs4\n",
    "from requests_html import HTMLSession\n",
    "from tqdm import tqdm\n",
    "from unidecode import unidecode\n",
    "\n"
   ]
  },
  {
   "cell_type": "markdown",
   "metadata": {},
   "source": [
    "## Importation des modules de Visualisation & Modélisation des données"
   ]
  },
  {
   "cell_type": "code",
   "execution_count": 2,
   "metadata": {},
   "outputs": [],
   "source": [
    "#Là on importe les autres packages\n",
    "import numpy as np\n",
    "import pandas as pd"
   ]
  },
  {
   "cell_type": "markdown",
   "metadata": {},
   "source": [
    "# I/ Récupération des données"
   ]
  },
  {
   "cell_type": "markdown",
   "metadata": {},
   "source": [
    "## I/A Webscrapping des titres des jeux vidéos sur Wikipédia\n",
    "\n",
    "A partir du site Wikipédia, nous allons récupérer les titres de tous les jeux vidéos sortis depuis l'année 2000. Par exemple, depuis l'URL : https://en.wikipedia.org/wiki/Category:2023_video_games nous avons accès à la liste de la quasi-totalité des jeux vidéos sortis en 2023. Nous allons donc modifier l'URL pour chaque année et constituer une liste (Liste_VG)"
   ]
  },
  {
   "cell_type": "code",
   "execution_count": null,
   "metadata": {},
   "outputs": [],
   "source": [
    "#Url initial : https://en.wikipedia.org/wiki/2023_in_video_games\n",
    "Liste_VG = []\n",
    "\n",
    "d = {17: 11, 18 : 9, 19 : 9, 20: 12, 21: 11, 22 : 7}\n",
    "for i in range(17, 23) :\n",
    "    \n",
    "    \n",
    "    response = requests.get(url=\"https://en.wikipedia.org/wiki/20\"+str(i)+\"_in_video_games\")\n",
    "    soup = bs4.BeautifulSoup(response.content, 'html.parser')\n",
    "    tableau_participants = soup.findAll('table', {'class' : 'wikitable'})\n",
    "    for j in range(d[i], d[i]+4) :\n",
    "        rows = tableau_participants[j].find_all('tr')\n",
    "        first = True\n",
    "        for row in rows :\n",
    "            if first :\n",
    "                first = False\n",
    "            else:\n",
    "                title = row.find('i')\n",
    "                if title != None :\n",
    "                    Liste_VG.append((row.find('i').text))\n",
    "                \n",
    "                    \n",
    "print(Liste_VG)\n"
   ]
  },
  {
   "cell_type": "code",
   "execution_count": 4,
   "metadata": {},
   "outputs": [
    {
     "name": "stdout",
     "output_type": "stream",
     "text": [
      "[<th>Month</th>, <th>Day</th>, <th>Title</th>, <th>Platform(s)</th>, <th>Genre(s)</th>, <th>Developer(s)</th>, <th>Publisher(s)</th>, <th><abbr title=\"Reference(s)\">Ref.</abbr>\n",
      "</th>]\n"
     ]
    }
   ],
   "source": [
    "print(tableau_participants[8].find_all('th'))\n",
    "\n",
    "#ce que j'ai rajouté pour extraire les autres trucs de wikipédia mais pue un peu la merde\n",
    "#col = row.find_all(['td', 'th'])\n",
    "                #if len(col) >= 2 and title != None and col[1].name and col[2] != None :\n",
    "                    #Liste_VG.append([title.text, col[1].text, col[2].text])\n",
    "\n",
    "\n",
    "#print(platforms[0].text)"
   ]
  },
  {
   "cell_type": "markdown",
   "metadata": {},
   "source": [
    "## I/B Récupération des notes des jeux\n",
    "\n",
    "L'objectif de cette partie est d'extraire du site \"Métacritic\", un site spécialisé qui répertorie les avis de professionnels et d'utilisateurs sur les nouvelles sorties jeux vidéos. Pour chaque jeu dans la base de données du site, une note sur 100 est attribuée (moyenne des reviews de sites spécialisés jeux vidéos) et une note sur 10 attribuée par les utilisateurs du site. Nous allons ici récupérer pour chaque jeu ses notes Métacritic qui deviendront les variables que nous tenteront de prédire par la suite. \n",
    "\n",
    "On remarque que l'on peut atteindre la review du jeu à partir de l'URL, il suffit d'indiquer le titre du jeu dans l'URL, en faisant attention aux espaces. "
   ]
  },
  {
   "cell_type": "code",
   "execution_count": 5,
   "metadata": {},
   "outputs": [
    {
     "name": "stdout",
     "output_type": "stream",
     "text": [
      "403\n"
     ]
    }
   ],
   "source": [
    "#URL du site : https://www.metacritic.com/game/\n",
    "#URL d'une recherche : https://www.metacritic.com/search/gran%20theft%20auto/\n",
    "#URL d'une review : https://www.metacritic.com/game/grand-theft-auto-v/\n",
    "#URL d'une review d'un autre site spécialisé : https://www.ign.com/games/grand-theft-auto-v\n",
    "\n",
    "#Base URL de toutes les reviews\n",
    "URL = \"https://www.metacritic.com/game/\"\n",
    "URLbis = \"https://www.metacritic.com/game/grand-theft-auto-v/\"\n",
    "user_agent = {'User-agent': 'Mozilla/5.0 (Windows NT 10.0; Win64; x64) AppleWebKit/537.36 (KHTML, like Gecko) Chrome/62.0.3202.94 Safari/537.36'}\n",
    "site = requests.get(URLbis, user_agent)\n",
    "\n",
    "print(site.status_code)"
   ]
  },
  {
   "cell_type": "code",
   "execution_count": 14,
   "metadata": {},
   "outputs": [],
   "source": [
    "def title_to_slug(title):\n",
    "    \n",
    "    title = title.lower()\n",
    "    title = title.replace(':', '')\n",
    "    title = title.replace('/', '-')\n",
    "    title = title.replace('.', '')\n",
    "    title = title.replace('&', 'and')\n",
    "    title = title.replace(\"'\", '')\n",
    "    title = title.replace(' ', '-')\n",
    "    \n",
    "    return(str(title))\n"
   ]
  },
  {
   "cell_type": "code",
   "execution_count": 15,
   "metadata": {},
   "outputs": [],
   "source": [
    "def recup_metascore(list) : \n",
    "    session = HTMLSession()\n",
    "    liste_ratings = []\n",
    "\n",
    "    for i in tqdm(range(len(list))) :\n",
    "        #on remplace les espaces des titres par des tirets\n",
    "        title = unidecode(list[i])\n",
    "        Url = URL + title_to_slug(title) + '/'\n",
    "        #on get l'url\n",
    "        DOM_Html = session.get(Url)\n",
    "        chemin_metascore = DOM_Html.html.find('#__layout > div > div.c-layoutDefault_page > div.c-pageProductGame > div:nth-child(1) > div > div \\\n",
    "                                  > div.c-productHero_player-scoreInfo.u-grid.g-grid-container > \\\n",
    "                                  div.c-productHero_score-container.u-flexbox.u-flexbox-column.g-bg-white > \\\n",
    "                                  div.c-productHero_scoreInfo.g-inner-spacing-top-medium.g-outer-spacing-bottom-medium.g-outer-spacing-top-medium \\\n",
    "                                  > div:nth-child(1) > div > div.c-productScoreInfo_scoreContent.u-flexbox.u-flexbox-alignCenter.u-flexbox-justifyFlexEnd.g-width-100.u-flexbox-nowrap > \\\n",
    "                                  div.c-productScoreInfo_scoreNumber.u-float-right > div > div', first = True)\n",
    "        \n",
    "        chemin_userscore = DOM_Html.html.find('#__layout > div > div.c-layoutDefault_page > div.c-pageProductGame > div:nth-child(1) > div > div > \\\n",
    "                                      div.c-productHero_player-scoreInfo.u-grid.g-grid-container > div.c-productHero_score-container.u-flexbox.u-flexbox-column.g-bg-white > \\\n",
    "                                      div.c-productHero_scoreInfo.g-inner-spacing-top-medium.g-outer-spacing-bottom-medium.g-outer-spacing-top-medium > \\\n",
    "                                      div.c-productScoreInfo.u-clearfix > div.c-productScoreInfo_scoreContent.u-flexbox.u-flexbox-alignCenter.u-flexbox-justifyFlexEnd.g-width-100.u-flexbox-nowrap > \\\n",
    "                                      div.c-productScoreInfo_scoreNumber.u-float-right > div > div' , first = True)\n",
    "\n",
    "        #on extrait le rating\n",
    "        if chemin_metascore != None :\n",
    "            metacritic_rating_inter = chemin_metascore.attrs['title']\n",
    "            metacritic_rating = metacritic_rating_inter.split(' ')[1]\n",
    "        else : \n",
    "            metacritic_rating = 'N/A'\n",
    "        \n",
    "        if chemin_userscore != None :  \n",
    "            users_ratings_inter = chemin_userscore.attrs['title']\n",
    "            users_ratings = float(users_ratings_inter.split(' ')[2])\n",
    "        else:\n",
    "            users_ratings = 'N/A'\n",
    "\n",
    "        liste_ratings.append([list[i], metacritic_rating, users_ratings])\n",
    "\n",
    "    return liste_ratings\n",
    "\n",
    "    "
   ]
  },
  {
   "cell_type": "code",
   "execution_count": 7,
   "metadata": {},
   "outputs": [
    {
     "name": "stdout",
     "output_type": "stream",
     "text": [
      "https://www.metacritic.com/game/rise-and-shine/\n"
     ]
    }
   ],
   "source": [
    "texte = 'Rise & Shine'\n",
    "title = unidecode(texte)\n",
    "title = title.lower()\n",
    "title = title.replace(':', '')\n",
    "title = title.replace('/', '-')\n",
    "title = title.replace('.', '')\n",
    "title = title.replace('&', 'and')\n",
    "title = title.replace(' ', '-')\n",
    "Url = URL + str(title) + '/'\n",
    "print(Url)\n"
   ]
  },
  {
   "cell_type": "code",
   "execution_count": 9,
   "metadata": {},
   "outputs": [
    {
     "name": "stdout",
     "output_type": "stream",
     "text": [
      "66\n"
     ]
    }
   ],
   "source": [
    "session = HTMLSession() \n",
    "DOM_Html = session.get(Url)\n",
    "chemin_metascore = DOM_Html.html.find('#__layout > div > div.c-layoutDefault_page > div.c-pageProductGame > div:nth-child(1) > div > div \\\n",
    "                                  > div.c-productHero_player-scoreInfo.u-grid.g-grid-container > \\\n",
    "                                  div.c-productHero_score-container.u-flexbox.u-flexbox-column.g-bg-white > \\\n",
    "                                  div.c-productHero_scoreInfo.g-inner-spacing-top-medium.g-outer-spacing-bottom-medium.g-outer-spacing-top-medium \\\n",
    "                                  > div:nth-child(1) > div > div.c-productScoreInfo_scoreContent.u-flexbox.u-flexbox-alignCenter.u-flexbox-justifyFlexEnd.g-width-100.u-flexbox-nowrap > \\\n",
    "                                  div.c-productScoreInfo_scoreNumber.u-float-right > div > div', first = True)\n",
    "\n",
    "print(chemin_metascore.attrs['title'].split(' ')[1])"
   ]
  },
  {
   "cell_type": "code",
   "execution_count": 16,
   "metadata": {},
   "outputs": [
    {
     "name": "stderr",
     "output_type": "stream",
     "text": [
      "100%|██████████| 20/20 [00:06<00:00,  3.21it/s]\n"
     ]
    },
    {
     "data": {
      "text/plain": [
       "[['Milkmaid of the Milky Way', '74', 6.9],\n",
       " ['Hatsune Miku: Project DIVA Future Tone', 'N/A', 7.5],\n",
       " ['Criminal Girls: Invite Only', '55', 6.8],\n",
       " ['Danganronpa V3: Killing Harmony', '81', 7.5],\n",
       " ['School Girl/Zombie Hunter', 'N/A', 'N/A'],\n",
       " ['Rise & Shine', '66', 6.2],\n",
       " ['Atelier Shallie Plus: Alchemists of the Dusk Sea', '78', 7.6],\n",
       " ['Fate/Extella: The Umbral Star', '67', 7.1],\n",
       " ['Mighty Morphin Power Rangers: Mega Battle', '49', 7.6],\n",
       " ['Birthdays the Beginning', '65', 6.5],\n",
       " ['Valkyria Revolution', '54', 5.6],\n",
       " ['Dragon Quest VIII: Journey of the Cursed King', '89', 8.7],\n",
       " ['Gravity Rush 2', '80', 8.1],\n",
       " ['Urban Empire', '62', 5.3],\n",
       " ['Don Bradman Cricket 17', '83', 7.6],\n",
       " ['Kingdom Hearts HD 2.8 Final Chapter Prologue', '76', 8.2],\n",
       " ['Pokémon Duel', '63', 5.6],\n",
       " ['Resident Evil 7: Biohazard', '86', 8.1],\n",
       " ['Tales of Berseria', '79', 7.2],\n",
       " ['Yakuza 0', '85', 8.6]]"
      ]
     },
     "execution_count": 16,
     "metadata": {},
     "output_type": "execute_result"
    }
   ],
   "source": [
    "recup_metascore(Liste_VG[: 20])"
   ]
  },
  {
   "cell_type": "code",
   "execution_count": null,
   "metadata": {},
   "outputs": [],
   "source": []
  },
  {
   "cell_type": "code",
   "execution_count": null,
   "metadata": {},
   "outputs": [],
   "source": []
  },
  {
   "cell_type": "code",
   "execution_count": 11,
   "metadata": {},
   "outputs": [],
   "source": [
    "from igdb.wrapper import IGDBWrapper\n",
    "wrapper = IGDBWrapper(\"wlqlv1d19z5t69oqlf9xx69znfahze\", \"o2strnp2xj90l3p982n4jg9ko1utad\")"
   ]
  },
  {
   "cell_type": "code",
   "execution_count": 80,
   "metadata": {},
   "outputs": [
    {
     "name": "stdout",
     "output_type": "stream",
     "text": [
      "{4: 'Fighting', 5: 'Shooter', 7: 'Music', 8: 'Platform', 9: 'Puzzle', 10: 'Racing', 11: 'Real Time Strategy (RTS)', 12: 'Role-playing (RPG)', 13: 'Simulator', 14: 'Sport', 15: 'Strategy', 16: 'Turn-based strategy (TBS)', 24: 'Tactical', 26: 'Quiz/Trivia', 25: \"Hack and slash/Beat 'em up\", 30: 'Pinball', 31: 'Adventure', 33: 'Arcade', 34: 'Visual Novel', 32: 'Indie', 35: 'Card & Board Game', 36: 'MOBA', 2: 'Point-and-click'}\n"
     ]
    }
   ],
   "source": [
    "from igdb.igdbapi_pb2 import GenreResult\n",
    "byte_array = wrapper.api_request(\n",
    "            'genres.pb',\n",
    "            'fields *; limit 100;'\n",
    "          )\n",
    "genres_message = GenreResult()\n",
    "genres_message.ParseFromString(byte_array) # Fills the protobuf message object with the response\n",
    "genres = genres_message.genres\n",
    "genre_nbr = len(genres)\n",
    "genre_dictionnary = {}\n",
    "\n",
    "for i in range(genre_nbr) :\n",
    "    genre_dictionnary[genres[i].id] = genres[i].name\n",
    "print(genre_dictionnary)"
   ]
  },
  {
   "cell_type": "code",
   "execution_count": 101,
   "metadata": {},
   "outputs": [
    {
     "name": "stdout",
     "output_type": "stream",
     "text": [
      "{20: 'Thriller', 18: 'Science fiction', 1: 'Action', 19: 'Horror', 21: 'Survival', 17: 'Fantasy', 22: 'Historical', 23: 'Stealth', 27: 'Comedy', 28: 'Business', 31: 'Drama', 32: 'Non-fiction', 35: 'Kids', 33: 'Sandbox', 38: 'Open world', 39: 'Warfare', 41: '4X (explore, expand, exploit, and exterminate)', 34: 'Educational', 43: 'Mystery', 40: 'Party', 44: 'Romance', 42: 'Erotic'}\n"
     ]
    }
   ],
   "source": [
    "from igdb.igdbapi_pb2 import ThemeResult\n",
    "byte_array = wrapper.api_request(\n",
    "            'themes.pb',\n",
    "            'fields *; limit 100;'\n",
    "          )\n",
    "themes_message = ThemeResult()\n",
    "themes_message.ParseFromString(byte_array) # Fills the protobuf message object with the response\n",
    "themes = themes_message.themes\n",
    "theme_nbr = len(themes)\n",
    "theme_dictionnary = {}\n",
    "\n",
    "for i in range(theme_nbr) :\n",
    "    theme_dictionnary[themes[i].id] = themes[i].name\n",
    "print(theme_dictionnary)"
   ]
  },
  {
   "cell_type": "code",
   "execution_count": 108,
   "metadata": {},
   "outputs": [
    {
     "name": "stdout",
     "output_type": "stream",
     "text": [
      "2018\n"
     ]
    },
    {
     "data": {
      "text/plain": [
       "[2018, , ['Platform', 'Adventure', 'Indie'], 2, 23, 7, ['Action', 'Fantasy']]"
      ]
     },
     "execution_count": 108,
     "metadata": {},
     "output_type": "execute_result"
    }
   ],
   "source": [
    "import datetime\n",
    "\n",
    "def game_API_Info(game_slug) :\n",
    "\n",
    "    #Protobuf API request\n",
    "    from igdb.igdbapi_pb2 import GameResult\n",
    "    byte_array = wrapper.api_request(\n",
    "                'games.pb',\n",
    "                'fields first_release_date, franchise, genres, hypes, language_supports, platforms, themes; where slug = \"'+ game_slug +'\";'\n",
    "              )\n",
    "    games_message = GameResult()\n",
    "    games_message.ParseFromString(byte_array) # Fills the protobuf message object with the response\n",
    "    games = games_message.games\n",
    "    \n",
    "    if len(games) == 0 :\n",
    "        return([\"NA\"])\n",
    "    unix_time = games[0].first_release_date\n",
    "    seconds = unix_time.seconds\n",
    "    dt_object = datetime.datetime.utcfromtimestamp(seconds)\n",
    "    year = dt_object.year\n",
    "    \n",
    "    \n",
    "    \n",
    "    genres_nbr = len(games[0].genres)\n",
    "    genres_names_list = []\n",
    "    for j in range(genres_nbr):\n",
    "        genres_names_list.append(genre_dictionnary[games[0].genres[j].id])\n",
    "\n",
    "\n",
    "    themes_nbr = len(games[0].themes)\n",
    "    themes_names_list = []\n",
    "    for j in range(themes_nbr):\n",
    "        themes_names_list.append(theme_dictionnary[games[0].themes[j].id])\n",
    "\n",
    "\n",
    "\n",
    "    \n",
    "    return([year,games[0].franchise,genres_names_list, games[0].hypes, len(games[0].language_supports),len(games[0].platforms), themes_names_list])\n",
    "\n",
    "\n",
    "\n",
    "game_API_Info(\"celeste\")"
   ]
  },
  {
   "cell_type": "code",
   "execution_count": 111,
   "metadata": {},
   "outputs": [
    {
     "name": "stderr",
     "output_type": "stream",
     "text": [
      "  5%|▌         | 1/20 [00:00<00:12,  1.46it/s]"
     ]
    },
    {
     "name": "stdout",
     "output_type": "stream",
     "text": [
      "2017\n"
     ]
    },
    {
     "name": "stderr",
     "output_type": "stream",
     "text": [
      " 10%|█         | 2/20 [00:01<00:12,  1.45it/s]"
     ]
    },
    {
     "name": "stdout",
     "output_type": "stream",
     "text": [
      "2016\n"
     ]
    },
    {
     "name": "stderr",
     "output_type": "stream",
     "text": [
      " 15%|█▌        | 3/20 [00:02<00:11,  1.45it/s]"
     ]
    },
    {
     "name": "stdout",
     "output_type": "stream",
     "text": [
      "2013\n"
     ]
    },
    {
     "name": "stderr",
     "output_type": "stream",
     "text": [
      " 30%|███       | 6/20 [00:04<00:10,  1.38it/s]"
     ]
    },
    {
     "name": "stdout",
     "output_type": "stream",
     "text": [
      "2017\n"
     ]
    },
    {
     "name": "stderr",
     "output_type": "stream",
     "text": [
      " 35%|███▌      | 7/20 [00:04<00:09,  1.39it/s]"
     ]
    },
    {
     "name": "stdout",
     "output_type": "stream",
     "text": [
      "2016\n"
     ]
    },
    {
     "name": "stderr",
     "output_type": "stream",
     "text": [
      " 50%|█████     | 10/20 [00:06<00:05,  1.86it/s]"
     ]
    },
    {
     "name": "stdout",
     "output_type": "stream",
     "text": [
      "2017\n"
     ]
    },
    {
     "name": "stderr",
     "output_type": "stream",
     "text": [
      " 55%|█████▌    | 11/20 [00:07<00:05,  1.61it/s]"
     ]
    },
    {
     "name": "stdout",
     "output_type": "stream",
     "text": [
      "2017\n"
     ]
    },
    {
     "name": "stderr",
     "output_type": "stream",
     "text": [
      " 60%|██████    | 12/20 [00:07<00:05,  1.53it/s]"
     ]
    },
    {
     "name": "stdout",
     "output_type": "stream",
     "text": [
      "2004\n"
     ]
    },
    {
     "name": "stderr",
     "output_type": "stream",
     "text": [
      " 65%|██████▌   | 13/20 [00:08<00:04,  1.68it/s]"
     ]
    },
    {
     "name": "stdout",
     "output_type": "stream",
     "text": [
      "2017\n"
     ]
    },
    {
     "name": "stderr",
     "output_type": "stream",
     "text": [
      " 70%|███████   | 14/20 [00:09<00:03,  1.56it/s]"
     ]
    },
    {
     "name": "stdout",
     "output_type": "stream",
     "text": [
      "2017\n"
     ]
    },
    {
     "name": "stderr",
     "output_type": "stream",
     "text": [
      " 75%|███████▌  | 15/20 [00:09<00:02,  1.70it/s]"
     ]
    },
    {
     "name": "stdout",
     "output_type": "stream",
     "text": [
      "2016\n"
     ]
    },
    {
     "name": "stderr",
     "output_type": "stream",
     "text": [
      " 90%|█████████ | 18/20 [00:11<00:01,  1.77it/s]"
     ]
    },
    {
     "name": "stdout",
     "output_type": "stream",
     "text": [
      "2017\n"
     ]
    },
    {
     "name": "stderr",
     "output_type": "stream",
     "text": [
      " 95%|█████████▌| 19/20 [00:11<00:00,  1.67it/s]"
     ]
    },
    {
     "name": "stdout",
     "output_type": "stream",
     "text": [
      "2016\n"
     ]
    },
    {
     "name": "stderr",
     "output_type": "stream",
     "text": [
      "100%|██████████| 20/20 [00:12<00:00,  1.60it/s]"
     ]
    },
    {
     "name": "stdout",
     "output_type": "stream",
     "text": [
      "2015\n",
      "[['Milkmaid of the Milky Way', 2017, , ['Point-and-click', 'Puzzle', 'Adventure', 'Indie'], 0, 6, 6, ['Fantasy', 'Science fiction']], ['Hatsune Miku: Project DIVA Future Tone', 2016, , ['Music'], 0, 5, 1, ['Action']], ['Criminal Girls: Invite Only', 2013, , ['Role-playing (RPG)', 'Simulator', 'Strategy'], 0, 5, 2, ['Action', 'Erotic']], ['Danganronpa V3: Killing Harmony', 'NA'], ['School Girl/Zombie Hunter', 'NA'], ['Rise & Shine', 2017, , ['Shooter', 'Platform', 'Puzzle', 'Adventure', 'Indie', 'Arcade'], 2, 12, 6, ['Action', 'Fantasy']], ['Atelier Shallie Plus: Alchemists of the Dusk Sea', 2016, , ['Role-playing (RPG)', 'Adventure'], 0, 0, 1, ['Fantasy']], ['Fate/Extella: The Umbral Star', 'NA'], ['Mighty Morphin Power Rangers: Mega Battle', 'NA'], ['Birthdays the Beginning', 2017, , ['Simulator', 'Strategy'], 0, 18, 3, ['Sandbox', 'Open world']], ['Valkyria Revolution', 2017, , ['Role-playing (RPG)', 'Strategy'], 2, 0, 3, ['Action', 'Fantasy', 'Warfare']], ['Dragon Quest VIII: Journey of the Cursed King', 2004, , ['Role-playing (RPG)', 'Strategy', 'Adventure'], 0, 0, 1, ['Action', 'Fantasy']], ['Gravity Rush 2', 2017, , ['Platform', 'Adventure'], 18, 0, 1, ['Action']], ['Urban Empire', 2017, , ['Simulator', 'Strategy'], 5, 15, 1, []], ['Don Bradman Cricket 17', 2016, , ['Simulator', 'Sport'], 0, 2, 3, []], ['Kingdom Hearts HD 2.8 Final Chapter Prologue', 'NA'], ['Pokémon Duel', 'NA'], ['Resident Evil 7: Biohazard', 2017, , ['Shooter', 'Puzzle', 'Adventure'], 20, 34, 7, ['Action', 'Horror', 'Survival']], ['Tales of Berseria', 2016, , ['Role-playing (RPG)'], 1, 18, 3, ['Action', 'Fantasy', 'Open world']], ['Yakuza 0', 2015, , ['Role-playing (RPG)', 'Simulator', \"Hack and slash/Beat 'em up\", 'Adventure'], 0, 9, 4, ['Action', 'Fantasy', 'Historical', 'Drama', 'Sandbox', 'Open world']]]\n"
     ]
    },
    {
     "name": "stderr",
     "output_type": "stream",
     "text": [
      "\n"
     ]
    }
   ],
   "source": [
    "import time\n",
    "Liste_VG_with_Info = []\n",
    "for i in tqdm(range(min(len(Liste_VG), 20))) :\n",
    "    slug = title_to_slug(Liste_VG[i])\n",
    "    Liste_VG_with_Info.append([Liste_VG[i]]+game_API_Info(slug))\n",
    "print(Liste_VG_with_Info)"
   ]
  },
  {
   "cell_type": "code",
   "execution_count": null,
   "metadata": {},
   "outputs": [],
   "source": []
  }
 ],
 "metadata": {
  "kernelspec": {
   "display_name": "Python 3 (ipykernel)",
   "language": "python",
   "name": "python3"
  },
  "language_info": {
   "codemirror_mode": {
    "name": "ipython",
    "version": 3
   },
   "file_extension": ".py",
   "mimetype": "text/x-python",
   "name": "python",
   "nbconvert_exporter": "python",
   "pygments_lexer": "ipython3",
   "version": "3.10.13"
  }
 },
 "nbformat": 4,
 "nbformat_minor": 4
}
