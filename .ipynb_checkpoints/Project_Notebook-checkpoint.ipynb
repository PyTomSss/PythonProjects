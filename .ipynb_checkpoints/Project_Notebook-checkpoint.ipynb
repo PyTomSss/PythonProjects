{
 "cells": [
  {
   "cell_type": "markdown",
   "metadata": {},
   "source": [
    "# Préambule\n",
    "\n",
    "## Introduction & Contexte\n",
    "\n",
    "Ce projet a été réalisé par 3 étudiants de Master 1 à l'ENSAE, dans le cadre du cours \"Python for Data Science\". L'idée de ce projet vient d'une intuition que nous avons eu selon laquelle il était possible de prédire le succès d'un jeu vidéo auprès des utilisateurs à partir de certaines de ses caractéristiques. L'objectif principal de ce travail est donc de tenter de vérifier ou infirmer cette intuition à l'aide de techniques statistiques de traitement de données. \n",
    "\n",
    "De plus, nous voulions y incorporer une partie plus originale (traitement d'images...)"
   ]
  },
  {
   "cell_type": "markdown",
   "metadata": {},
   "source": [
    "# Importation des modules \n",
    "\n",
    "## Modules de webscrapping\n",
    "\n",
    "On installe les packages utiles au Webscrapping des données sur les jeux"
   ]
  },
  {
   "cell_type": "code",
   "execution_count": 254,
   "metadata": {},
   "outputs": [
    {
     "name": "stdout",
     "output_type": "stream",
     "text": [
      "Requirement already satisfied: requests_html in /opt/anaconda3/lib/python3.9/site-packages (0.10.0)\n",
      "Requirement already satisfied: fake-useragent in /opt/anaconda3/lib/python3.9/site-packages (from requests_html) (1.4.0)\n",
      "Requirement already satisfied: w3lib in /opt/anaconda3/lib/python3.9/site-packages (from requests_html) (2.1.2)\n",
      "Requirement already satisfied: parse in /opt/anaconda3/lib/python3.9/site-packages (from requests_html) (1.20.0)\n",
      "Requirement already satisfied: requests in /opt/anaconda3/lib/python3.9/site-packages (from requests_html) (2.26.0)\n",
      "Requirement already satisfied: pyquery in /opt/anaconda3/lib/python3.9/site-packages (from requests_html) (2.0.0)\n",
      "Requirement already satisfied: pyppeteer>=0.0.14 in /opt/anaconda3/lib/python3.9/site-packages (from requests_html) (1.0.2)\n",
      "Requirement already satisfied: bs4 in /opt/anaconda3/lib/python3.9/site-packages (from requests_html) (0.0.1)\n",
      "Requirement already satisfied: importlib-metadata>=1.4 in /opt/anaconda3/lib/python3.9/site-packages (from pyppeteer>=0.0.14->requests_html) (4.8.1)\n",
      "Requirement already satisfied: tqdm<5.0.0,>=4.42.1 in /opt/anaconda3/lib/python3.9/site-packages (from pyppeteer>=0.0.14->requests_html) (4.62.3)\n",
      "Requirement already satisfied: certifi>=2021 in /opt/anaconda3/lib/python3.9/site-packages (from pyppeteer>=0.0.14->requests_html) (2021.10.8)\n",
      "Requirement already satisfied: urllib3<2.0.0,>=1.25.8 in /opt/anaconda3/lib/python3.9/site-packages (from pyppeteer>=0.0.14->requests_html) (1.26.7)\n",
      "Requirement already satisfied: websockets<11.0,>=10.0 in /opt/anaconda3/lib/python3.9/site-packages (from pyppeteer>=0.0.14->requests_html) (10.4)\n",
      "Requirement already satisfied: appdirs<2.0.0,>=1.4.3 in /opt/anaconda3/lib/python3.9/site-packages (from pyppeteer>=0.0.14->requests_html) (1.4.4)\n",
      "Requirement already satisfied: pyee<9.0.0,>=8.1.0 in /opt/anaconda3/lib/python3.9/site-packages (from pyppeteer>=0.0.14->requests_html) (8.2.2)\n",
      "Requirement already satisfied: zipp>=0.5 in /opt/anaconda3/lib/python3.9/site-packages (from importlib-metadata>=1.4->pyppeteer>=0.0.14->requests_html) (3.6.0)\n",
      "Requirement already satisfied: beautifulsoup4 in /opt/anaconda3/lib/python3.9/site-packages (from bs4->requests_html) (4.10.0)\n",
      "Requirement already satisfied: soupsieve>1.2 in /opt/anaconda3/lib/python3.9/site-packages (from beautifulsoup4->bs4->requests_html) (2.2.1)\n",
      "Requirement already satisfied: importlib-resources>=5.0 in /opt/anaconda3/lib/python3.9/site-packages (from fake-useragent->requests_html) (6.1.1)\n",
      "Requirement already satisfied: lxml>=2.1 in /opt/anaconda3/lib/python3.9/site-packages (from pyquery->requests_html) (4.6.3)\n",
      "Requirement already satisfied: cssselect>=1.2.0 in /opt/anaconda3/lib/python3.9/site-packages (from pyquery->requests_html) (1.2.0)\n",
      "Requirement already satisfied: charset-normalizer~=2.0.0 in /opt/anaconda3/lib/python3.9/site-packages (from requests->requests_html) (2.0.4)\n",
      "Requirement already satisfied: idna<4,>=2.5 in /opt/anaconda3/lib/python3.9/site-packages (from requests->requests_html) (3.2)\n",
      "Note: you may need to restart the kernel to use updated packages.\n"
     ]
    }
   ],
   "source": [
    "pip install requests_html"
   ]
  },
  {
   "cell_type": "code",
   "execution_count": 255,
   "metadata": {},
   "outputs": [],
   "source": [
    "# On importe les packages\n",
    "\n",
    "import requests \n",
    "import urllib\n",
    "import bs4\n",
    "from requests_html import HTMLSession\n",
    "\n"
   ]
  },
  {
   "cell_type": "markdown",
   "metadata": {},
   "source": [
    "## Importation des modules de Visualisation & Modélisation des données"
   ]
  },
  {
   "cell_type": "code",
   "execution_count": 2,
   "metadata": {},
   "outputs": [],
   "source": [
    "#Là on importe les autres packages\n",
    "import numpy as np\n",
    "import pandas as pd"
   ]
  },
  {
   "cell_type": "markdown",
   "metadata": {},
   "source": [
    "# I/ Récupération des données"
   ]
  },
  {
   "cell_type": "markdown",
   "metadata": {},
   "source": [
    "## I/A Webscrapping des titres des jeux vidéos sur Wikipédia\n",
    "\n",
    "A partir du site Wikipédia, nous allons récupérer les titres de tous les jeux vidéos sortis depuis l'année 2000. Par exemple, depuis l'URL : https://en.wikipedia.org/wiki/Category:2023_video_games nous avons accès à la liste de la quasi-totalité des jeux vidéos sortis en 2023. Nous allons donc modifier l'URL pour chaque année et constituer une liste (Liste_VG)"
   ]
  },
  {
   "cell_type": "code",
   "execution_count": 21,
   "metadata": {},
   "outputs": [
    {
     "name": "stdout",
     "output_type": "stream",
     "text": [
      "None\n"
     ]
    }
   ],
   "source": [
    "#response = requests.get(url=\"https://en.wikipedia.org/wiki/Category:2022_video_games\", params = {\"title\" : \"Dome Keeper\"})\n",
    "requests.get(url=\"https://en.wikipedia.org/wiki/Category:2022_video_games\")\n",
    "soup = bs4.BeautifulSoup(response.content, 'html.parser')\n",
    "title = soup.find(id=\"firstHeading\")\n",
    "print(title.string)"
   ]
  },
  {
   "cell_type": "markdown",
   "metadata": {},
   "source": [
    "## I/B Récupération des notes des jeux\n",
    "\n",
    "L'objectif de cette partie est d'extraire du site \"Métacritic\", un site spécialisé qui répertorie les avis de professionnels et d'utilisateurs sur les nouvelles sorties jeux vidéos. Pour chaque jeu dans la base de données du site, une note sur 100 est attribuée (moyenne des reviews de sites spécialisés jeux vidéos) et une note sur 10 attribuée par les utilisateurs du site. Nous allons ici récupérer pour chaque jeu ses notes Métacritic qui deviendront les variables que nous tenteront de prédire par la suite. \n",
    "\n",
    "On remarque que l'on peut atteindre la review du jeu à partir de l'URL, il suffit d'indiquer le titre du jeu dans l'URL, en faisant attention aux espaces. "
   ]
  },
  {
   "cell_type": "code",
   "execution_count": 75,
   "metadata": {},
   "outputs": [
    {
     "name": "stdout",
     "output_type": "stream",
     "text": [
      "403\n"
     ]
    }
   ],
   "source": [
    "#URL du site : https://www.metacritic.com/game/\n",
    "#URL d'une recherche : https://www.metacritic.com/search/gran%20theft%20auto/\n",
    "#URL d'une review : https://www.metacritic.com/game/grand-theft-auto-v/\n",
    "#URL d'une review d'un autre site spécialisé : https://www.ign.com/games/grand-theft-auto-v\n",
    "\n",
    "#Base URL de toutes les reviews\n",
    "URL = \"https://www.metacritic.com/game/\"\n",
    "URLbis = \"https://www.metacritic.com/game/grand-theft-auto-v/\"\n",
    "user_agent = {'User-agent': 'Mozilla/5.0 (Windows NT 10.0; Win64; x64) AppleWebKit/537.36 (KHTML, like Gecko) Chrome/62.0.3202.94 Safari/537.36'}\n",
    "site = requests.get(URLbis, user_agent)\n",
    "\n",
    "print(site.status_code)"
   ]
  },
  {
   "cell_type": "code",
   "execution_count": 394,
   "metadata": {},
   "outputs": [],
   "source": [
    "session = HTMLSession()\n"
   ]
  },
  {
   "cell_type": "code",
   "execution_count": 423,
   "metadata": {},
   "outputs": [],
   "source": [
    "DOM_Html = session.get(URLbis)\n",
    "#chemin_note  = DOM_Html.html.find('body > div > div > div.c-layoutDefault > div.c-layoutDefault_page > div.c-pageProductGame \\\n",
    "                                #> div > div.c-productHero > div.c-productHero_container > div.c-productHero_player-scoreInfo \\\n",
    "                                #> div.c-productHero_score-container > div.c-productHero_scoreInfo > div > div.c-productScoreInfo \\\n",
    "                                #> div.c-productScoreInfo_scoreContent > div.c-productScoreInfo_scoreNumber > div.c-siteReviewScore_background \\\n",
    "                                #> div ', first = True)\n",
    "\n",
    "#On accède sur chaque page aux notes que l'on souhaite via le chemin et on extrait la note d'une façon un peu wtf\n",
    "#Sur le site on peut aussi extraire des trucs genre la date, les plateformes, le nombre de critiques et de notes, on a les comments de chacun, le nombre d'avis positifs/neutres/négatifs...\n",
    "\n",
    "chemin_metascore = DOM_Html.html.find('#__layout > div > div.c-layoutDefault_page > div.c-pageProductGame > div:nth-child(1) > div > div \\\n",
    "                                  > div.c-productHero_player-scoreInfo.u-grid.g-grid-container > \\\n",
    "                                  div.c-productHero_score-container.u-flexbox.u-flexbox-column.g-bg-white > \\\n",
    "                                  div.c-productHero_scoreInfo.g-inner-spacing-top-medium.g-outer-spacing-bottom-medium.g-outer-spacing-top-medium \\\n",
    "                                  > div:nth-child(1) > div > div.c-productScoreInfo_scoreContent.u-flexbox.u-flexbox-alignCenter.u-flexbox-justifyFlexEnd.g-width-100.u-flexbox-nowrap > \\\n",
    "                                  div.c-productScoreInfo_scoreNumber.u-float-right > div > div', first = True)\n",
    "\n",
    "chemin_userscore = DOM_Html.html.find('#__layout > div > div.c-layoutDefault_page > div.c-pageProductGame > div:nth-child(1) > div > div > \\\n",
    "                                      div.c-productHero_player-scoreInfo.u-grid.g-grid-container > div.c-productHero_score-container.u-flexbox.u-flexbox-column.g-bg-white > \\\n",
    "                                      div.c-productHero_scoreInfo.g-inner-spacing-top-medium.g-outer-spacing-bottom-medium.g-outer-spacing-top-medium > \\\n",
    "                                      div.c-productScoreInfo.u-clearfix > div.c-productScoreInfo_scoreContent.u-flexbox.u-flexbox-alignCenter.u-flexbox-justifyFlexEnd.g-width-100.u-flexbox-nowrap > \\\n",
    "                                      div.c-productScoreInfo_scoreNumber.u-float-right > div > div' , first = True)\n",
    "\n",
    "#On reformate les titres afin d'avoir simplement les notes\n",
    "\n",
    "metacritic_rating_inter = chemin_metascore.attrs['title']\n",
    "metacritic_rating = metacritic_rating_inter.split(' ')[1]\n",
    "users_ratings_inter = chemin_userscore.attrs['title']\n",
    "users_ratings = float(users_ratings_inter.split(' ')[2])\n",
    "\n",
    "\n",
    "#info_jeu = chemin_note.text\n",
    "#info_jeu_split = info_jeu.split(' ')\n",
    "#metacritic_rating = info_jeu_split[0][0:2]\n",
    "#users_ratings = info_jeu_split[9][8:11]\n",
    "#nb_ratings = int(info_jeu_split[6].replace(',', ''))"
   ]
  },
  {
   "cell_type": "code",
   "execution_count": 425,
   "metadata": {},
   "outputs": [
    {
     "name": "stdout",
     "output_type": "stream",
     "text": [
      "97 <class 'float'>\n"
     ]
    }
   ],
   "source": [
    "#print(chemin_note.attrs['title'])\n",
    "print(metacritic_rating, type(users_ratings))\n",
    "#__layout > div > div.c-layoutDefault_page > div.c-pageProductGame > div:nth-child(1) > div > div > div.c-productHero_player-scoreInfo.u-grid.g-grid-container > div.c-productHero_score-container.u-flexbox.u-flexbox-column.g-bg-white > div.c-productHero_scoreInfo.g-inner-spacing-top-medium.g-outer-spacing-bottom-medium.g-outer-spacing-top-medium > div:nth-child(1) > div > div.c-productScoreInfo_scoreContent.u-flexbox.u-flexbox-alignCenter.u-flexbox-justifyFlexEnd.g-width-100.u-flexbox-nowrap > div.c-productScoreInfo_scoreNumber.u-float-right > div > div > span\n",
    "#__layout > div > div.c-layoutDefault_page > div.c-pageProductGame > div:nth-child(1) > div > div > div.c-productHero_player-scoreInfo.u-grid.g-grid-container > div.c-productHero_score-container.u-flexbox.u-flexbox-column.g-bg-white > div.c-productHero_scoreInfo.g-inner-spacing-top-medium.g-outer-spacing-bottom-medium.g-outer-spacing-top-medium > div:nth-child(1) > div > div.c-productScoreInfo_scoreContent.u-flexbox.u-flexbox-alignCenter.u-flexbox-justifyFlexEnd.g-width-100.u-flexbox-nowrap > div.c-productScoreInfo_scoreNumber.u-float-right > div > div > span\n",
    "#print(nb_ratings)"
   ]
  },
  {
   "cell_type": "code",
   "execution_count": 286,
   "metadata": {},
   "outputs": [],
   "source": [
    "DOM_Html1 = session.get('https://www.metacritic.com/game/assassins-creed-2007/')\n",
    "DOM_Html2 = session.get('https://www.metacritic.com/game/red-dead-redemption-2/')\n",
    "jeu1 = DOM_Html1.html.find('body > div > div > div.c-layoutDefault > div.c-layoutDefault_page > div.c-pageProductGame > div > div.c-productHero > div.c-productHero_container > div.c-productHero_player-scoreInfo > div.c-productHero_score-container > div.c-productHero_scoreInfo > div > div.c-productScoreInfo > div.c-productScoreInfo_scoreContent > div.c-productScoreInfo_scoreNumber > div.c-siteReviewScore_background > div', first = True).text\n",
    "Jeu1 = jeu1.split(' ')\n",
    "metacritic_rating = Jeu1[0][0:2]\n",
    "users_ratings = Jeu1[9][8:11]\n",
    "#print(Jeu1[10])"
   ]
  }
 ],
 "metadata": {
  "kernelspec": {
   "display_name": "Python 3",
   "language": "python",
   "name": "python3"
  },
  "language_info": {
   "codemirror_mode": {
    "name": "ipython",
    "version": 3
   },
   "file_extension": ".py",
   "mimetype": "text/x-python",
   "name": "python",
   "nbconvert_exporter": "python",
   "pygments_lexer": "ipython3",
   "version": "3.9.7"
  }
 },
 "nbformat": 4,
 "nbformat_minor": 2
}
