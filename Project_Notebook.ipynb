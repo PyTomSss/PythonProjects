{
 "cells": [
  {
   "cell_type": "markdown",
   "metadata": {},
   "source": [
    "# Préambule\n",
    "\n",
    "## Introduction & Contexte\n",
    "\n",
    "Ce projet a été réalisé par 3 étudiants de Master 1 à l'ENSAE, dans le cadre du cours \"Python for Data Science\". L'idée de ce projet vient d'une intuition que nous avons eu selon laquelle il était possible de prédire le succès commercial d'un jeu vidéo à partir de certaines de ses caractéristiques. L'objectif principal de ce travail est donc de tenter de vérifier ou infirmer cette intuition à l'aide de techniques statistiques de traitement de données. \n",
    "\n",
    "De plus, nous voulions y incorporer une partie plus originale (traitement d'images...)"
   ]
  },
  {
   "cell_type": "markdown",
   "metadata": {},
   "source": []
  }
 ],
 "metadata": {
  "language_info": {
   "name": "python"
  }
 },
 "nbformat": 4,
 "nbformat_minor": 2
}
