{
 "cells": [
  {
   "cell_type": "markdown",
   "metadata": {},
   "source": [
    "# Préambule\n",
    "\n",
    "## Introduction & Contexte\n",
    "\n",
    "Ce projet a été réalisé par 3 étudiants de Master 1 à l'ENSAE, dans le cadre du cours \"Python for Data Science\". L'idée de ce projet vient d'une intuition que nous avons eu selon laquelle il était possible de prédire le succès d'un jeu vidéo auprès des utilisateurs à partir de certaines de ses caractéristiques. L'objectif principal de ce travail est donc de tenter de vérifier ou infirmer cette intuition à l'aide de techniques statistiques de traitement de données. \n",
    "\n",
    "De plus, nous voulions y incorporer une partie plus originale (traitement d'images...)"
   ]
  },
  {
   "cell_type": "markdown",
   "metadata": {},
   "source": [
    "# Importation des modules \n",
    "\n",
    "## Modules de webscrapping\n",
    "\n",
    "On installe les packages utiles au Webscrapping des données sur les jeux"
   ]
  },
  {
   "cell_type": "code",
   "execution_count": null,
   "metadata": {
    "scrolled": true
   },
   "outputs": [],
   "source": [
    "pip install requests_html"
   ]
  },
  {
   "cell_type": "code",
   "execution_count": 2,
   "metadata": {},
   "outputs": [],
   "source": [
    "# On importe les packages\n",
    "\n",
    "import requests \n",
    "import urllib\n",
    "import bs4\n",
    "from requests_html import HTMLSession\n",
    "\n"
   ]
  },
  {
   "cell_type": "markdown",
   "metadata": {},
   "source": [
    "## Importation des modules de Visualisation & Modélisation des données"
   ]
  },
  {
   "cell_type": "code",
   "execution_count": 3,
   "metadata": {},
   "outputs": [],
   "source": [
    "#Là on importe les autres packages\n",
    "import numpy as np\n",
    "import pandas as pd"
   ]
  },
  {
   "cell_type": "markdown",
   "metadata": {},
   "source": [
    "# I/ Récupération des données"
   ]
  },
  {
   "cell_type": "markdown",
   "metadata": {},
   "source": [
    "## I/A Webscrapping des titres des jeux vidéos sur Wikipédia\n",
    "\n",
    "A partir du site Wikipédia, nous allons récupérer les titres de tous les jeux vidéos sortis depuis l'année 2000. Par exemple, depuis l'URL : https://en.wikipedia.org/wiki/Category:2023_video_games nous avons accès à la liste de la quasi-totalité des jeux vidéos sortis en 2023. Nous allons donc modifier l'URL pour chaque année et constituer une liste (Liste_VG)"
   ]
  },
  {
   "cell_type": "code",
   "execution_count": null,
   "metadata": {},
   "outputs": [],
   "source": [
    "\n",
    "from tqdm import tqdm\n",
    "Liste_VG = []\n",
    "\n",
    "d = {17: 11, 18 : 9, 19 : 9, 20: 12, 21: 11, 22 : 7}\n",
    "for i in range(17, 23) :\n",
    "    \n",
    "    \n",
    "    response = requests.get(url=\"https://en.wikipedia.org/wiki/20\"+str(i)+\"_in_video_games\")\n",
    "    soup = bs4.BeautifulSoup(response.content, 'html.parser')\n",
    "    tableau_participants = soup.findAll('table', {'class' : 'wikitable'})\n",
    "    for j in range(d[i], d[i]+4) :\n",
    "        rows = tableau_participants[j].find_all('tr')\n",
    "        first = True\n",
    "        for row in rows :\n",
    "            if first :\n",
    "                first = False\n",
    "            else:\n",
    "                title = row.find('i')\n",
    "                if title != None :\n",
    "                    Liste_VG.append((row.find('i').text))\n",
    "                    \n",
    "print(Liste_VG)\n"
   ]
  },
  {
   "cell_type": "markdown",
   "metadata": {},
   "source": [
    "## I/B Récupération des notes des jeux\n",
    "\n",
    "L'objectif de cette partie est d'extraire du site \"Métacritic\", un site spécialisé qui répertorie les avis de professionnels et d'utilisateurs sur les nouvelles sorties jeux vidéos. Pour chaque jeu dans la base de données du site, une note sur 100 est attribuée (moyenne des reviews de sites spécialisés jeux vidéos) et une note sur 10 attribuée par les utilisateurs du site. Nous allons ici récupérer pour chaque jeu ses notes Métacritic qui deviendront les variables que nous tenteront de prédire par la suite. \n",
    "\n",
    "On remarque que l'on peut atteindre la review du jeu à partir de l'URL, il suffit d'indiquer le titre du jeu dans l'URL, en faisant attention aux espaces. "
   ]
  },
  {
   "cell_type": "code",
   "execution_count": null,
   "metadata": {},
   "outputs": [],
   "source": [
    "#URL du site : https://www.metacritic.com/game/\n",
    "#URL d'une recherche : https://www.metacritic.com/search/gran%20theft%20auto/\n",
    "#URL d'une review : https://www.metacritic.com/game/grand-theft-auto-v/\n",
    "#URL d'une review d'un autre site spécialisé : https://www.ign.com/games/grand-theft-auto-v\n",
    "\n",
    "#Base URL de toutes les reviews\n",
    "URL = \"https://www.metacritic.com/game/\"\n",
    "URLbis = \"https://www.metacritic.com/game/grand-theft-auto-v/\"\n",
    "user_agent = {'User-agent': 'Mozilla/5.0 (Windows NT 10.0; Win64; x64) AppleWebKit/537.36 (KHTML, like Gecko) Chrome/62.0.3202.94 Safari/537.36'}\n",
    "site = requests.get(URLbis, user_agent)\n",
    "\n",
    "print(site.status_code)"
   ]
  },
  {
   "cell_type": "code",
   "execution_count": null,
   "metadata": {},
   "outputs": [],
   "source": [
    "session = HTMLSession()\n"
   ]
  },
  {
   "cell_type": "code",
   "execution_count": null,
   "metadata": {},
   "outputs": [],
   "source": [
    "DOM_Html = session.get(URLbis)\n",
    "#chemin_note  = DOM_Html.html.find('body > div > div > div.c-layoutDefault > div.c-layoutDefault_page > div.c-pageProductGame \\\n",
    "                                #> div > div.c-productHero > div.c-productHero_container > div.c-productHero_player-scoreInfo \\\n",
    "                                #> div.c-productHero_score-container > div.c-productHero_scoreInfo > div > div.c-productScoreInfo \\\n",
    "                                #> div.c-productScoreInfo_scoreContent > div.c-productScoreInfo_scoreNumber > div.c-siteReviewScore_background \\\n",
    "                                #> div ', first = True)\n",
    "\n",
    "#On accède sur chaque page aux notes que l'on souhaite via le chemin et on extrait la note d'une façon un peu wtf\n",
    "#Sur le site on peut aussi extraire des trucs genre la date, les plateformes, le nombre de critiques et de notes, on a les comments de chacun, le nombre d'avis positifs/neutres/négatifs...\n",
    "\n",
    "chemin_metascore = DOM_Html.html.find('#__layout > div > div.c-layoutDefault_page > div.c-pageProductGame > div:nth-child(1) > div > div \\\n",
    "                                  > div.c-productHero_player-scoreInfo.u-grid.g-grid-container > \\\n",
    "                                  div.c-productHero_score-container.u-flexbox.u-flexbox-column.g-bg-white > \\\n",
    "                                  div.c-productHero_scoreInfo.g-inner-spacing-top-medium.g-outer-spacing-bottom-medium.g-outer-spacing-top-medium \\\n",
    "                                  > div:nth-child(1) > div > div.c-productScoreInfo_scoreContent.u-flexbox.u-flexbox-alignCenter.u-flexbox-justifyFlexEnd.g-width-100.u-flexbox-nowrap > \\\n",
    "                                  div.c-productScoreInfo_scoreNumber.u-float-right > div > div', first = True)\n",
    "\n",
    "chemin_userscore = DOM_Html.html.find('#__layout > div > div.c-layoutDefault_page > div.c-pageProductGame > div:nth-child(1) > div > div > \\\n",
    "                                      div.c-productHero_player-scoreInfo.u-grid.g-grid-container > div.c-productHero_score-container.u-flexbox.u-flexbox-column.g-bg-white > \\\n",
    "                                      div.c-productHero_scoreInfo.g-inner-spacing-top-medium.g-outer-spacing-bottom-medium.g-outer-spacing-top-medium > \\\n",
    "                                      div.c-productScoreInfo.u-clearfix > div.c-productScoreInfo_scoreContent.u-flexbox.u-flexbox-alignCenter.u-flexbox-justifyFlexEnd.g-width-100.u-flexbox-nowrap > \\\n",
    "                                      div.c-productScoreInfo_scoreNumber.u-float-right > div > div' , first = True)\n",
    "\n",
    "#On reformate les titres afin d'avoir simplement les notes\n",
    "\n",
    "metacritic_rating_inter = chemin_metascore.attrs['title']\n",
    "metacritic_rating = metacritic_rating_inter.split(' ')[1]\n",
    "users_ratings_inter = chemin_userscore.attrs['title']\n",
    "users_ratings = float(users_ratings_inter.split(' ')[2])\n",
    "\n",
    "\n",
    "#info_jeu = chemin_note.text\n",
    "#info_jeu_split = info_jeu.split(' ')\n",
    "#metacritic_rating = info_jeu_split[0][0:2]\n",
    "#users_ratings = info_jeu_split[9][8:11]\n",
    "#nb_ratings = int(info_jeu_split[6].replace(',', ''))"
   ]
  },
  {
   "cell_type": "code",
   "execution_count": null,
   "metadata": {},
   "outputs": [],
   "source": [
    "#print(chemin_note.attrs['title'])\n",
    "print(metacritic_rating, type(users_ratings))\n",
    "#__layout > div > div.c-layoutDefault_page > div.c-pageProductGame > div:nth-child(1) > div > div > div.c-productHero_player-scoreInfo.u-grid.g-grid-container > div.c-productHero_score-container.u-flexbox.u-flexbox-column.g-bg-white > div.c-productHero_scoreInfo.g-inner-spacing-top-medium.g-outer-spacing-bottom-medium.g-outer-spacing-top-medium > div:nth-child(1) > div > div.c-productScoreInfo_scoreContent.u-flexbox.u-flexbox-alignCenter.u-flexbox-justifyFlexEnd.g-width-100.u-flexbox-nowrap > div.c-productScoreInfo_scoreNumber.u-float-right > div > div > span\n",
    "#__layout > div > div.c-layoutDefault_page > div.c-pageProductGame > div:nth-child(1) > div > div > div.c-productHero_player-scoreInfo.u-grid.g-grid-container > div.c-productHero_score-container.u-flexbox.u-flexbox-column.g-bg-white > div.c-productHero_scoreInfo.g-inner-spacing-top-medium.g-outer-spacing-bottom-medium.g-outer-spacing-top-medium > div:nth-child(1) > div > div.c-productScoreInfo_scoreContent.u-flexbox.u-flexbox-alignCenter.u-flexbox-justifyFlexEnd.g-width-100.u-flexbox-nowrap > div.c-productScoreInfo_scoreNumber.u-float-right > div > div > span\n",
    "#print(nb_ratings)"
   ]
  },
  {
   "cell_type": "code",
   "execution_count": null,
   "metadata": {},
   "outputs": [],
   "source": [
    "DOM_Html1 = session.get('https://www.metacritic.com/game/assassins-creed-2007/')\n",
    "DOM_Html2 = session.get('https://www.metacritic.com/game/red-dead-redemption-2/')\n",
    "jeu1 = DOM_Html1.html.find('body > div > div > div.c-layoutDefault > div.c-layoutDefault_page > div.c-pageProductGame > div > div.c-productHero > div.c-productHero_container > div.c-productHero_player-scoreInfo > div.c-productHero_score-container > div.c-productHero_scoreInfo > div > div.c-productScoreInfo > div.c-productScoreInfo_scoreContent > div.c-productScoreInfo_scoreNumber > div.c-siteReviewScore_background > div', first = True).text\n",
    "Jeu1 = jeu1.split(' ')\n",
    "metacritic_rating = Jeu1[0][0:2]\n",
    "users_ratings = Jeu1[9][8:11]\n",
    "#print(Jeu1[10])"
   ]
  }
 ],
 "metadata": {
  "kernelspec": {
   "display_name": "Python 3 (ipykernel)",
   "language": "python",
   "name": "python3"
  },
  "language_info": {
   "codemirror_mode": {
    "name": "ipython",
    "version": 3
   },
   "file_extension": ".py",
   "mimetype": "text/x-python",
   "name": "python",
   "nbconvert_exporter": "python",
   "pygments_lexer": "ipython3",
   "version": "3.10.13"
  }
 },
 "nbformat": 4,
 "nbformat_minor": 4
}
