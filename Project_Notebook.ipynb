{
 "cells": [
  {
   "cell_type": "markdown",
   "metadata": {},
   "source": [
    "# Préambule\n",
    "\n",
    "## Introduction & Contexte\n",
    "\n",
    "Ce projet a été réalisé par 3 étudiants de Master 1 à l'ENSAE, dans le cadre du cours \"Python for Data Science\". L'idée de ce projet vient d'une intuition que nous avons eu selon laquelle il était possible de prédire le succès d'un jeu vidéo auprès des utilisateurs à partir de certaines de ses caractéristiques. L'objectif principal de ce travail est donc de tenter de vérifier ou infirmer cette intuition à l'aide de techniques statistiques de traitement de données. \n",
    "\n",
    "De plus, nous voulions y incorporer une partie plus originale (traitement d'images...)"
   ]
  },
  {
   "cell_type": "markdown",
   "metadata": {},
   "source": [
    "# Importation des modules \n",
    "\n",
    "## Modules de webscrapping\n",
    "\n",
    "On installe les packages utiles au Webscrapping des données sur les jeux"
   ]
  },
  {
   "cell_type": "code",
   "execution_count": 1,
   "metadata": {},
   "outputs": [
    {
     "name": "stdout",
     "output_type": "stream",
     "text": [
      "Requirement already satisfied: unicode in /opt/mamba/lib/python3.10/site-packages (2.9)\n",
      "Requirement already satisfied: unidecode in /opt/mamba/lib/python3.10/site-packages (1.3.7)\n"
     ]
    }
   ],
   "source": [
    "# On importe les packages\n",
    "!pip install unicode\n",
    "!pip install unidecode\n",
    "import requests \n",
    "import urllib\n",
    "import bs4\n",
    "from requests_html import HTMLSession\n",
    "from tqdm import tqdm\n",
    "from unidecode import unidecode\n",
    "\n"
   ]
  },
  {
   "cell_type": "markdown",
   "metadata": {},
   "source": [
    "## Importation des modules de Visualisation & Modélisation des données"
   ]
  },
  {
   "cell_type": "code",
   "execution_count": 2,
   "metadata": {},
   "outputs": [],
   "source": [
    "#Là on importe les autres packages\n",
    "import numpy as np\n",
    "import pandas as pd"
   ]
  },
  {
   "cell_type": "markdown",
   "metadata": {},
   "source": [
    "# I/ Récupération des données"
   ]
  },
  {
   "cell_type": "markdown",
   "metadata": {},
   "source": [
    "## I/A Webscrapping des titres des jeux vidéos sur Wikipédia\n",
    "\n",
    "A partir du site Wikipédia, nous allons récupérer les titres de tous les jeux vidéos sortis depuis l'année 2000. Par exemple, depuis l'URL : https://en.wikipedia.org/wiki/Category:2023_video_games nous avons accès à la liste de la quasi-totalité des jeux vidéos sortis en 2023. Nous allons donc modifier l'URL pour chaque année et constituer une liste (Liste_VG)"
   ]
  },
  {
   "cell_type": "code",
   "execution_count": null,
   "metadata": {},
   "outputs": [],
   "source": [
    "#Url initial : https://en.wikipedia.org/wiki/2023_in_video_games\n",
    "Liste_VG = []\n",
    "\n",
    "d = {17: 11, 18 : 9, 19 : 9, 20: 12, 21: 11, 22 : 7}\n",
    "for i in range(17, 23) :\n",
    "    \n",
    "    \n",
    "    response = requests.get(url=\"https://en.wikipedia.org/wiki/20\"+str(i)+\"_in_video_games\")\n",
    "    soup = bs4.BeautifulSoup(response.content, 'html.parser')\n",
    "    tableau_participants = soup.findAll('table', {'class' : 'wikitable'})\n",
    "    for j in range(d[i], d[i]+4) :\n",
    "        rows = tableau_participants[j].find_all('tr')\n",
    "        first = True\n",
    "        for row in rows :\n",
    "            if first :\n",
    "                first = False\n",
    "            else:\n",
    "                title = row.find('i')\n",
    "                if title != None :\n",
    "                    Liste_VG.append((row.find('i').text))\n",
    "                \n",
    "                    \n",
    "print(Liste_VG)\n"
   ]
  },
  {
   "cell_type": "code",
   "execution_count": 4,
   "metadata": {},
   "outputs": [
    {
     "name": "stdout",
     "output_type": "stream",
     "text": [
      "[<th>Month</th>, <th>Day</th>, <th>Title</th>, <th>Platform(s)</th>, <th>Genre(s)</th>, <th>Developer(s)</th>, <th>Publisher(s)</th>, <th><abbr title=\"Reference(s)\">Ref.</abbr>\n",
      "</th>]\n"
     ]
    }
   ],
   "source": [
    "print(tableau_participants[8].find_all('th'))\n",
    "\n",
    "#ce que j'ai rajouté pour extraire les autres trucs de wikipédia mais pue un peu la merde\n",
    "#col = row.find_all(['td', 'th'])\n",
    "                #if len(col) >= 2 and title != None and col[1].name and col[2] != None :\n",
    "                    #Liste_VG.append([title.text, col[1].text, col[2].text])\n",
    "\n",
    "\n",
    "#print(platforms[0].text)"
   ]
  },
  {
   "cell_type": "markdown",
   "metadata": {},
   "source": [
    "## I/B Récupération des notes des jeux\n",
    "\n",
    "L'objectif de cette partie est d'extraire du site \"Métacritic\", un site spécialisé qui répertorie les avis de professionnels et d'utilisateurs sur les nouvelles sorties jeux vidéos. Pour chaque jeu dans la base de données du site, une note sur 100 est attribuée (moyenne des reviews de sites spécialisés jeux vidéos) et une note sur 10 attribuée par les utilisateurs du site. Nous allons ici récupérer pour chaque jeu ses notes Métacritic qui deviendront les variables que nous tenteront de prédire par la suite. \n",
    "\n",
    "On remarque que l'on peut atteindre la review du jeu à partir de l'URL, il suffit d'indiquer le titre du jeu dans l'URL, en faisant attention aux espaces. "
   ]
  },
  {
   "cell_type": "code",
   "execution_count": 5,
   "metadata": {},
   "outputs": [
    {
     "name": "stdout",
     "output_type": "stream",
     "text": [
      "403\n"
     ]
    }
   ],
   "source": [
    "#URL du site : https://www.metacritic.com/game/\n",
    "#URL d'une recherche : https://www.metacritic.com/search/gran%20theft%20auto/\n",
    "#URL d'une review : https://www.metacritic.com/game/grand-theft-auto-v/\n",
    "#URL d'une review d'un autre site spécialisé : https://www.ign.com/games/grand-theft-auto-v\n",
    "\n",
    "#Base URL de toutes les reviews\n",
    "URL = \"https://www.metacritic.com/game/\"\n",
    "URLbis = \"https://www.metacritic.com/game/grand-theft-auto-v/\"\n",
    "user_agent = {'User-agent': 'Mozilla/5.0 (Windows NT 10.0; Win64; x64) AppleWebKit/537.36 (KHTML, like Gecko) Chrome/62.0.3202.94 Safari/537.36'}\n",
    "site = requests.get(URLbis, user_agent)\n",
    "\n",
    "print(site.status_code)"
   ]
  },
  {
   "cell_type": "code",
   "execution_count": 17,
   "metadata": {},
   "outputs": [],
   "source": [
    "def recup_metascore(list) : \n",
    "    session = HTMLSession()\n",
    "    liste_ratings = []\n",
    "\n",
    "    for i in tqdm(range(len(list))) :\n",
    "        #on remplace les espaces des titres par des tirets\n",
    "        title = unidecode(list[i])\n",
    "        title = title.lower()\n",
    "        title = title.replace(':', '')\n",
    "        title = title.replace('/', '-')\n",
    "        title = title.replace('.', '')\n",
    "        title = title.replace('&', 'and')\n",
    "        title = title.replace(\"'\", '')\n",
    "        title = title.replace(' ', '-')\n",
    "        Url = URL + str(title) + '/'\n",
    "        #on get l'url\n",
    "        DOM_Html = session.get(Url)\n",
    "        chemin_metascore = DOM_Html.html.find('#__layout > div > div.c-layoutDefault_page > div.c-pageProductGame > div:nth-child(1) > div > div \\\n",
    "                                  > div.c-productHero_player-scoreInfo.u-grid.g-grid-container > \\\n",
    "                                  div.c-productHero_score-container.u-flexbox.u-flexbox-column.g-bg-white > \\\n",
    "                                  div.c-productHero_scoreInfo.g-inner-spacing-top-medium.g-outer-spacing-bottom-medium.g-outer-spacing-top-medium \\\n",
    "                                  > div:nth-child(1) > div > div.c-productScoreInfo_scoreContent.u-flexbox.u-flexbox-alignCenter.u-flexbox-justifyFlexEnd.g-width-100.u-flexbox-nowrap > \\\n",
    "                                  div.c-productScoreInfo_scoreNumber.u-float-right > div > div', first = True)\n",
    "        \n",
    "        chemin_userscore = DOM_Html.html.find('#__layout > div > div.c-layoutDefault_page > div.c-pageProductGame > div:nth-child(1) > div > div > \\\n",
    "                                      div.c-productHero_player-scoreInfo.u-grid.g-grid-container > div.c-productHero_score-container.u-flexbox.u-flexbox-column.g-bg-white > \\\n",
    "                                      div.c-productHero_scoreInfo.g-inner-spacing-top-medium.g-outer-spacing-bottom-medium.g-outer-spacing-top-medium > \\\n",
    "                                      div.c-productScoreInfo.u-clearfix > div.c-productScoreInfo_scoreContent.u-flexbox.u-flexbox-alignCenter.u-flexbox-justifyFlexEnd.g-width-100.u-flexbox-nowrap > \\\n",
    "                                      div.c-productScoreInfo_scoreNumber.u-float-right > div > div' , first = True)\n",
    "\n",
    "        #on extrait le rating\n",
    "        if chemin_metascore != None :\n",
    "            metacritic_rating_inter = chemin_metascore.attrs['title']\n",
    "            metacritic_rating = metacritic_rating_inter.split(' ')[1]\n",
    "        else : \n",
    "            metacritic_rating = 'N/A'\n",
    "        \n",
    "        if chemin_userscore != None :  \n",
    "            users_ratings_inter = chemin_userscore.attrs['title']\n",
    "            users_ratings = float(users_ratings_inter.split(' ')[2])\n",
    "        else:\n",
    "            users_ratings = 'N/A'\n",
    "\n",
    "        liste_ratings.append([list[i], metacritic_rating, users_ratings])\n",
    "\n",
    "    return liste_ratings\n",
    "\n",
    "    "
   ]
  },
  {
   "cell_type": "code",
   "execution_count": 13,
   "metadata": {},
   "outputs": [
    {
     "name": "stdout",
     "output_type": "stream",
     "text": [
      "https://www.metacritic.com/game/rise-and-shine/\n"
     ]
    }
   ],
   "source": [
    "texte = 'Rise & Shine'\n",
    "title = unidecode(texte)\n",
    "title = title.lower()\n",
    "title = title.replace(':', '')\n",
    "title = title.replace('/', '-')\n",
    "title = title.replace('.', '')\n",
    "title = title.replace('&', 'and')\n",
    "title = title.replace(' ', '-')\n",
    "Url = URL + str(title) + '/'\n",
    "print(Url)\n"
   ]
  },
  {
   "cell_type": "code",
   "execution_count": 14,
   "metadata": {},
   "outputs": [
    {
     "name": "stdout",
     "output_type": "stream",
     "text": [
      "66\n"
     ]
    }
   ],
   "source": [
    "\n",
    "DOM_Html = session.get(Url)\n",
    "chemin_metascore = DOM_Html.html.find('#__layout > div > div.c-layoutDefault_page > div.c-pageProductGame > div:nth-child(1) > div > div \\\n",
    "                                  > div.c-productHero_player-scoreInfo.u-grid.g-grid-container > \\\n",
    "                                  div.c-productHero_score-container.u-flexbox.u-flexbox-column.g-bg-white > \\\n",
    "                                  div.c-productHero_scoreInfo.g-inner-spacing-top-medium.g-outer-spacing-bottom-medium.g-outer-spacing-top-medium \\\n",
    "                                  > div:nth-child(1) > div > div.c-productScoreInfo_scoreContent.u-flexbox.u-flexbox-alignCenter.u-flexbox-justifyFlexEnd.g-width-100.u-flexbox-nowrap > \\\n",
    "                                  div.c-productScoreInfo_scoreNumber.u-float-right > div > div', first = True)\n",
    "\n",
    "print(chemin_metascore.attrs['title'].split(' ')[1])"
   ]
  },
  {
   "cell_type": "code",
   "execution_count": 18,
   "metadata": {},
   "outputs": [
    {
     "name": "stderr",
     "output_type": "stream",
     "text": [
      "100%|██████████| 20/20 [00:05<00:00,  3.74it/s]\n"
     ]
    },
    {
     "data": {
      "text/plain": [
       "[['Milkmaid of the Milky Way', '74', 6.9],\n",
       " ['Hatsune Miku: Project DIVA Future Tone', 'N/A', 7.5],\n",
       " ['Criminal Girls: Invite Only', '55', 6.8],\n",
       " ['Danganronpa V3: Killing Harmony', '81', 7.5],\n",
       " ['School Girl/Zombie Hunter', 'N/A', 'N/A'],\n",
       " ['Rise & Shine', '66', 6.2],\n",
       " ['Atelier Shallie Plus: Alchemists of the Dusk Sea', '78', 7.6],\n",
       " ['Fate/Extella: The Umbral Star', '67', 7.1],\n",
       " ['Mighty Morphin Power Rangers: Mega Battle', '49', 7.6],\n",
       " ['Birthdays the Beginning', '65', 6.5],\n",
       " ['Valkyria Revolution', '54', 5.6],\n",
       " ['Dragon Quest VIII: Journey of the Cursed King', '89', 8.7],\n",
       " ['Gravity Rush 2', '80', 8.1],\n",
       " ['Urban Empire', '62', 5.3],\n",
       " ['Don Bradman Cricket 17', '83', 7.6],\n",
       " ['Kingdom Hearts HD 2.8 Final Chapter Prologue', '76', 8.2],\n",
       " ['Pokémon Duel', '63', 5.6],\n",
       " ['Resident Evil 7: Biohazard', '86', 8.1],\n",
       " ['Tales of Berseria', '79', 7.2],\n",
       " ['Yakuza 0', '85', 8.6]]"
      ]
     },
     "execution_count": 18,
     "metadata": {},
     "output_type": "execute_result"
    }
   ],
   "source": [
    "recup_metascore(Liste_VG[: 20])"
   ]
  },
  {
   "cell_type": "code",
   "execution_count": null,
   "metadata": {},
   "outputs": [],
   "source": []
  }
 ],
 "metadata": {
  "kernelspec": {
   "display_name": "Python 3 (ipykernel)",
   "language": "python",
   "name": "python3"
  },
  "language_info": {
   "codemirror_mode": {
    "name": "ipython",
    "version": 3
   },
   "file_extension": ".py",
   "mimetype": "text/x-python",
   "name": "python",
   "nbconvert_exporter": "python",
   "pygments_lexer": "ipython3",
   "version": "3.10.13"
  }
 },
 "nbformat": 4,
 "nbformat_minor": 4
}
