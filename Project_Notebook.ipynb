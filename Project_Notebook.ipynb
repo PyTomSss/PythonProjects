{
 "cells": [
  {
   "cell_type": "markdown",
   "metadata": {},
   "source": [
    "# Préambule\n",
    "\n",
    "## Introduction & Contexte\n",
    "\n",
    "Ce projet a été réalisé par 3 étudiants de Master 1 à l'ENSAE, dans le cadre du cours \"Python for Data Science\". L'idée de ce projet vient d'une intuition que nous avons eu selon laquelle il était possible de prédire le succès d'un jeu vidéo auprès des utilisateurs à partir de certaines de ses caractéristiques. L'objectif principal de ce travail est donc de tenter de vérifier ou infirmer cette intuition à l'aide de techniques statistiques de traitement de données. \n",
    "\n",
    "De plus, nous voulions y incorporer une partie plus originale (traitement d'images...)"
   ]
  },
  {
   "cell_type": "markdown",
   "metadata": {},
   "source": [
    "# Importation des modules \n",
    "\n",
    "## Modules de webscrapping\n",
    "\n",
    "On installe les packages utiles au Webscrapping des données sur les jeux"
   ]
  },
  {
   "cell_type": "code",
   "execution_count": 422,
   "metadata": {},
   "outputs": [
    {
     "name": "stdout",
     "output_type": "stream",
     "text": [
      "Requirement already satisfied: unicode in /opt/anaconda3/lib/python3.9/site-packages (2.9)\n",
      "Requirement already satisfied: unidecode in /opt/anaconda3/lib/python3.9/site-packages (1.2.0)\n"
     ]
    }
   ],
   "source": [
    "# On importe les packages\n",
    "!pip install unicode\n",
    "!pip install unidecode\n",
    "import requests \n",
    "import urllib\n",
    "import bs4\n",
    "from requests_html import HTMLSession\n",
    "from tqdm import tqdm\n",
    "from unidecode import unidecode\n",
    "import datetime\n",
    "from igdb.wrapper import IGDBWrapper\n",
    "from igdb.igdbapi_pb2 import GenreResult\n",
    "from igdb.igdbapi_pb2 import ThemeResult\n",
    "from igdb.igdbapi_pb2 import GameResult\n",
    "from igdb.igdbapi_pb2 import InvolvedCompanyResult\n",
    "from igdb.igdbapi_pb2 import PlayerPerspectiveResult\n",
    "from igdb.igdbapi_pb2 import MultiplayerModeResult\n",
    "from igdb.igdbapi_pb2 import Genre\n",
    "\n"
   ]
  },
  {
   "cell_type": "markdown",
   "metadata": {},
   "source": [
    "## Importation des modules de Visualisation & Modélisation des données"
   ]
  },
  {
   "cell_type": "code",
   "execution_count": 3,
   "metadata": {},
   "outputs": [],
   "source": [
    "#Là on importe les autres packages\n",
    "import numpy as np\n",
    "import pandas as pd"
   ]
  },
  {
   "cell_type": "markdown",
   "metadata": {},
   "source": [
    "# I/ Récupération des données"
   ]
  },
  {
   "cell_type": "markdown",
   "metadata": {},
   "source": [
    "## I/A Webscrapping des titres des jeux vidéos sur Wikipédia\n",
    "\n",
    "A partir du site Wikipédia, nous allons récupérer les titres de tous les jeux vidéos sortis depuis l'année 2000. Par exemple, depuis l'URL : https://en.wikipedia.org/wiki/Category:2023_video_games nous avons accès à la liste de la quasi-totalité des jeux vidéos sortis en 2023. Nous allons donc modifier l'URL pour chaque année et constituer une liste (Liste_VG)"
   ]
  },
  {
   "cell_type": "code",
   "execution_count": 4,
   "metadata": {},
   "outputs": [
    {
     "name": "stdout",
     "output_type": "stream",
     "text": [
      "['Milkmaid of the Milky Way', 'Hatsune Miku: Project DIVA Future Tone', 'Criminal Girls: Invite Only', 'Danganronpa V3: Killing Harmony', 'School Girl/Zombie Hunter', 'Rise & Shine', 'Atelier Shallie Plus: Alchemists of the Dusk Sea', 'Fate/Extella: The Umbral Star', 'Mighty Morphin Power Rangers: Mega Battle', 'Birthdays the Beginning', 'Valkyria Revolution', 'Dragon Quest VIII: Journey of the Cursed King', 'Gravity Rush 2', 'Urban Empire', 'Don Bradman Cricket 17', 'Kingdom Hearts HD 2.8 Final Chapter Prologue', 'Pokémon Duel', 'Resident Evil 7: Biohazard', 'Tales of Berseria', 'Yakuza 0', 'Memoranda', 'Twin Star Exorcists', 'Disgaea 2', 'Double Dragon IV', 'Angels with Scaly Wings', 'Digimon World: Next Order', 'Divide', 'Dynasty Warriors: Godseekers', 'Poi', 'Fire Emblem Heroes', 'A House of Many Doors', 'Husk', \"Poochy & Yoshi's Woolly World\", 'Atelier Sophie: The Alchemist of the Mysterious Book', 'Nights of Azure', 'Nioh', 'Reconstrucción', 'Splasher', 'WWE 2K17', 'Bendy and the Ink Machine – Chapter One: Moving Pictures', 'Fairy Fencer F Advent Dark Force', 'For Honor', 'Ride 2', 'Sniper Elite 4', 'Mage: The Ascension – Refuge', 'Vampire: The Masquerade – We Eat Blood', \"A Demon's Game - Episode 1\", 'Berserk and the Band of the Hawk', 'Halo Wars 2', 'Night in the Woods', 'Psychonauts in the Rhombus of Ruin', 'Ys Origin', 'Hollow Knight', 'Horizon Zero Dawn', 'Story of Seasons: Trio of Towns', 'Torment: Tides of Numenera', 'Robo Recall', 'Winning Post 8 2017', '1-2-Switch', 'Human Resource Machine', 'I Am Setsuna', 'Just Dance 2017', 'Little Inferno', 'Skylanders: Imaginators', 'Snipperclips', 'Super Bomberman R', 'The Binding of Isaac: Afterbirth+', 'The Legend of Zelda: Breath of the Wild', 'World of Goo', 'Atelier Firis: The Alchemist and the Mysterious Journey', 'Lego Worlds', 'Loot Rascals', 'Nier: Automata', \"Tom Clancy's Ghost Recon Wildlands\", 'Ultimate Marvel vs. Capcom 3', 'Danganronpa 1•2 Reload', 'Styx: Shards of Darkness', 'Future Unfolding', 'Accel World vs. Sword Art Online: Millennium Twilight', 'Senran Kagura: Peach Beach Splash', 'Kona', 'Nier: Automata', 'EVERYTHING', 'Mass Effect: Andromeda', 'Toukiden 2', 'Troll and I', 'Super Mario Run', 'Mario Sports Superstars', 'Zero Escape: The Nonary Games', 'Operation Abyss: New Tokyo Legacy', 'Has-Been Heroes', 'Kingdom Hearts HD 1.5 Remix', 'Kingdom Hearts HD 2.5 Remix', 'MLB The Show 17', 'Old Time Hockey', 'Rain World', 'Rivals of Aether', 'Snake Pass', 'The Walking Dead: Season Three — Episode 3', 'Attack on Titan: Escape from Certain Death', 'Blue Reflection', 'Musou Stars', 'The Alliance Alive', 'Thimbleweed Park', 'Drawn to Death', 'Lego City Undercover', 'Mortal Blitz', 'PaRappa the Rapper Remastered', 'Persona 5', 'Paradigm', 'Bulletstorm: Full Clip Edition', 'The Signal from Tölva', 'A Rose in the Twilight', 'Aaero', 'Bayonetta', 'Lichtspeer', 'StarBlood Arena', 'The Sexy Brutale', 'Yooka-Laylee', 'Cosmic Star Heroine', 'The Jackbox Party Pack 3', 'Team Kirby Clash Deluxe', 'ATV Renegades', 'Bendy and the Ink Machine — Chapter Two: The Old Song', 'Flinthook', 'Full Throttle Remastered', 'Guardians of the Galaxy: The Telltale Series — Episode 1: Tangled Up in Blue', 'Herocade', 'Shiness: The Lightning Kingdom', 'The Disney Afternoon Collection', 'The Silver Case', 'Voodoo Vince: Remastered', \"Wonder Boy: The Dragon's Trap\", 'Cities: Skylines', 'Statik', 'Dragon Quest Heroes II', 'Outlast 2', 'Pinstripe', 'Puyo Puyo Tetris', 'Sniper Ghost Warrior 3', 'Syberia III', 'The Walking Dead: Season Three — Episode 4', 'What Remains of Edith Finch', 'De Blob', 'Expeditions: Vikings', 'Psycho-Pass: Mandatory Happiness', 'Warhammer 40,000: Dawn of War III', 'Little Nightmares', 'Mario Kart 8 Deluxe', 'GNOG', 'Gundam Breaker 3 Break Edition', 'The Caligula Effect', 'The Legend of Heroes: Trails in the Sky the 3rd', 'Dreamfall Chapters: The Longest Journey', 'Prey', 'World to the West', 'Creativerse', 'Birthdays the Beginning', 'Butcher', 'Elliot Quest', 'LocoRoco Remastered', 'Moonshot Galaxy', 'NBA Playgrounds', 'Polybius', 'Revenant Saga', 'Strafe', 'Butcher', 'Rakuen', 'Elliot Quest', 'Minecraft', \"Demon's Crystals\", 'To the Moon', \"Akiba's Beat\", 'Deemo: The Last Recital', 'Farpoint', 'Future Unfolding', 'Hakuoki: Kyoto Winds', 'Injustice 2', 'Operation Babel: New Tokyo Legacy', 'Phantom Dust Remaster', 'Seasons After Fall', 'The Surge', 'Black & White Bushido', 'Bokida: Heartfelt Reunion', 'Oceanhorn: Monster of Uncharted Seas', 'Mages of Mystralia', 'Thumper', 'A Hole New World', 'Chroma Squad', 'Fire Emblem Echoes: Shadows of Valentia', 'Shadow Warrior 2', 'Skylar & Plux: Adventure on Clover Island', 'Valkyrie Drive: Bhikkhuni', 'Darksiders: Warmastered Edition', 'Disgaea 5 Complete', 'Embers of Mirrim', 'Impact Winter', 'Utawarerumono: Mask of Deception', 'Global Soccer Manager 2017', \"Harvest Moon: Lil' Farmers\", 'Vanquish', 'Constructor HD', 'Drive Girls', 'Friday the 13th: The Game', 'Guilty Gear Xrd Rev.2', 'Rime', 'Samurai Warriors: Spirit of Sanada', 'Ultra Street Fighter II: The Final Challengers', 'Astro Duel Deluxe', 'Danger Zone', 'Deep Space Waifu', \"Don't Knock Twice\", 'MXGP3: The Official Motocross Videogame', 'Rising Storm 2: Vietnam', 'Star Trek: Bridge Crew', 'The Walking Dead: Season Three — Episode 5', 'Ys Origin', 'Damascus Gear: Operation Tokyo HD Edition', 'Thea: The Awakening', 'Tokyo 42', 'Seiken Densetsu Collection', 'Spirit Hunter: Death Mark', 'Dies irae: Amantes amentes', 'Tekken 7', 'Monument Valley 2', 'Cladun Returns: This is Sengoku!', 'Conarium', 'Dark Rose Valkyrie', 'Dirt 4', 'Farming Simulator 18', 'Guardians of the Galaxy: The Telltale Series — Episode 2: Under Pressure', 'Superbeat: Xonic', 'Wipeout Omega Collection', 'Superbeat: Xonic', 'Shantae: Half-Genie Hero', 'Superdimension Neptune VS Sega Hard Girls', 'Cars 3: Driven to Win', 'MotoGP 17', 'Arms', 'Dead by Daylight', 'Final Fantasy XIV: Stormblood', 'God Wars: Future Past', 'Nex Machina', 'Oceanhorn: Monster of Uncharted Seas', 'Ever Oasis', 'Get Even', 'Secret World Legends', 'Danganronpa Another Episode: Ultra Despair Girls', 'RPG Maker Fes', 'The Golf Club 2', 'Valkyria Revolution', 'Crash Bandicoot N. Sane Trilogy', 'Micro Machines World Series', 'Tokyo Xanadu', \"That's You!\", 'Walden, a game', \"Kirby's Blowout Blast\", 'Accel World VS. Sword Art Online', 'Derelict Fleet', 'Final Fantasy XII: The Zodiac Age', 'Energy Balance', 'The End Is Nigh', 'Antisphere', 'Children of Zodiarcs', 'Fallen Legion: Flames of Rebellion', 'Fallen Legion: Sins of an Empire', 'Yonder: The Cloud Catcher Chronicles', 'Kingdoms and Castles', 'Lone Echo', 'Splatoon 2', 'Heroes of the Seven Seas', 'Aven Colony', 'Fable Fortune', 'Pyre', 'Super CloudBuilt', 'Overcooked', 'Collar × Malice', 'Hey! Pikmin', 'Miitopia', 'Sundered', 'Super CloudBuilt', 'Dragon Quest XI', 'Dino Frontier', 'Patapon Remastered', 'Slime Rancher', 'Tacoma', 'Party Panic', 'Blackhole', \"Hellblade: Senua's Sacrifice\", 'Icey', 'LawBreakers', 'Neptune Flux', 'Sine Mora EX', 'West of Loathing', 'Code 7: A Story-Driven Hacking Adventure Episode 1: Threading', 'Sudden Strike 4', 'StarCraft: Remastered', 'Agents of Mayhem', 'Cities: Skylines', 'Matterfall', 'Nidhogg 2', 'Night Trap 25th Anniversary', 'Observer', 'Sonic Mania', 'Sudden Strike 4', 'The Pillars of The Earth Book 1: From The Ashes', 'Troll and I', 'Undertale', 'The Jackbox Party Pack', 'The Jackbox Party Pack 2', 'ChromaGun', 'Guardians of the Galaxy: The Telltale Series — Episode 3: More Than a Feeling', 'Mages of Mystralia', 'Minecraft: Story Mode', 'The Escapists 2', 'Uncharted: The Lost Legacy', 'White Day: A Labyrinth Named School', 'The Lost Child', 'F1 2017', 'Madden NFL 18', 'Naruto Shippuden: Ultimate Ninja Storm Legacy', 'One Piece: Unlimited World Red Deluxe Edition', 'Absolver', 'Ark: Survival Evolved', \"Everybody's Golf\", 'Mario + Rabbids Kingdom Battle', 'Obduction', 'Pillars of Eternity: Complete Edition', 'ReCore Definitive Edition', 'Redout', 'Sonic Mania', 'Warriors All-Stars', 'Windjammers', 'Yakuza Kiwami', 'X-Morph: Defense', 'Ys Seven', 'Life Is Strange: Before the Storm — Episode 1', 'Resident Evil: Revelations', 'Wonderful Everyday', 'Xenia', 'Antiquia Lost', 'Knack II', 'Lego Worlds', 'R.B.I. Baseball 17', 'Utawarerumono: Mask of Truth', 'Destiny 2', 'Senko no Ronde 2', 'Kono Subarashii Sekai ni Shukufuku o! Kono Yokubukai Game ni Shinpan o!', 'Senko no Ronde 2', 'Monster Hunter Stories', 'NASCAR Heat 2', 'Pro Evolution Soccer 2018', 'Rayman Legends Definitive Edition', 'Time Recoil', 'Tooth and Tail', 'Ys VIII: Lacrimosa of Dana', 'Baja: Edge of Control HD', 'Divinity: Original Sin II', 'Earthlock: Festival of Magic', 'Hiveswap', 'Iron Marines', 'Dishonored: Death of the Outsider', 'Metroid: Samus Returns', 'NHL 18', 'NBA Live 18', 'Tricky Towers', 'Muv Luv Alternative', 'The Solus Project', 'XING: The Land Beyond', 'Echo', 'Hidden Dragon: Legend', 'Marvel vs. Capcom: Infinite', 'Mary Skelter: Nightmares', 'NBA 2K18', 'Pankapu', 'SteamWorld Dig 2', 'Caveman Warriors', 'Doki Doki Literature Club!', 'Dragon Ball Xenoverse 2', 'Guild Wars 2: Path of Fire', 'Pokkén Tournament DX', 'Project CARS 2', 'SteamWorld Dig 2', 'The Lego Ninjago Movie Video Game', 'Danganronpa V3: Killing Harmony', 'DWVR', 'citation needed', 'Hob', 'Lightfield', 'Light Tracer', 'Pinball FX 3', 'Raid: World War II', 'Ruiner', 'Senran Kagura: Peach Beach Splash', 'Sine Mora EX', 'SteamWorld Dig 2', 'Butcher', 'Deemo', 'Goken', 'Golf Story', 'Outcast – Second Contact', 'The Legend of Heroes: Trails of Cold Steel III', 'Total War: Warhammer II', 'Picross S', 'Cuphead', 'FIFA 18', 'Gundam Versus', 'One Piece: Unlimited World Red Deluxe Edition', 'Star Fox 2', 'Yo-Kai Watch 2: Psychic Specters', 'Divided We Fall', 'Battle Chasers: Nightwar', 'Culdcept Revolt', 'Forza Motorsport 7', 'A Hat in Time', 'Arms Race - TCWE', 'Axiom Verge', \"Dragon's Dogma: Dark Arisen\", \"Raiden V: Director's Cut\", 'Stardew Valley', \"Layton's Mystery Journey\", \"Mario & Luigi: Superstar Saga + Bowser's Minions\", 'Oxenfree', '88 Heroes: 98 Heroes Edition', 'Arktika.1', 'Cyberdimension Neptunia: 4 Goddesses Online', 'Guardians of the Galaxy: The Telltale Series — Episode 4: Who Needs You', 'Middle-earth: Shadow of War', 'Raid: World War II', 'Tiny Barbarian DX', 'Touhou Kobuto V: Burst Battle', 'Unbox: Newbies Adventure', 'Chaos;Child', 'The Evil Within 2', 'Tear: Owari to Hajimari no Shizuku', 'ELEX', 'Etrian Odyssey V: Beyond the Myth', 'Gran Turismo Sport', 'The Jackbox Party Pack 4', 'Megaton Rainfall', 'Rogue Trooper Redux', 'South Park: The Fractured but Whole', 'WWE 2K18', \"A Mortician's Tale\", 'City Shrouded in Shadow', 'Spelunker Party!', 'Life Is Strange: Before the Storm — Episode 2', 'Fire Emblem Warriors', 'Syberia', 'Destiny 2', 'Hidden Agenda', 'Just Dance 2018', 'Nights of Azure 2: Bride of the New Moon', 'Observer', 'SingStar Celebration', 'The Mummy Demastered', 'This Is the Police', 'Yomawari: Midnight Shadows', 'Bury Me, My Love', \"Kowloon's Gate VR: Suzaku\", 'Taiko Drum Master: Drum Session', \"Assassin's Creed: Origins\", 'Super Mario Odyssey', 'Wolfenstein II: The New Colossus', 'Lost Dimension', 'Bubsy: The Woolies Strike Back', 'Cartoon Network: Battle Crashers', 'Creeping Terror', 'Monopoly for Nintendo Switch', 'Monster Jam: Crush It!', 'Summon Night 6: Lost Borders', 'Zwei: The Ilvard Insurrection', 'Sorcer Striker', 'Call of Duty: WWII', '.hack//G.U. Last Recode', \"Guardians of the Galaxy: The Telltale Series – Episode 5: Don't Stop Believin'\", 'Hand of Fate 2', 'Nioh', 'Sonic Forces', \"Super Lucky's Tale\", 'Ace of Seafood', 'Cat Quest', 'Doom', 'Football Manager 2018', 'Mario Party: The Top 100', 'Need for Speed Payback', 'Nekojishi', 'Batman: The Telltale Series', 'Ben 10', 'Demon Gaze II', 'Harvest Moon: Light of Hope', 'Ittle Dew 2+', 'L.A. Noire', 'Lego Marvel Super Heroes 2', 'Rime', 'Road Rage', 'Rocket League', 'Tokyo Tattoo Girls', 'Antiquia Lost', 'Tannenberg', 'Lumo', 'MXGP3: The Official Motocross Videogame', 'Pokémon Ultra Sun', 'School Girl/Zombie Hunter', 'Star Wars Battlefront II', 'The Elder Scrolls V: Skyrim', 'The Sims 4', 'Animal Crossing: Pocket Camp', 'Gear.Club Unlimited', 'Project Nimbus: Code Mirai', 'Superbeat: Xonic', 'Earth Defense Force 4.1: Wing Diver The Shooter', 'Portal Knights', 'Black Mirror', 'Resident Evil: Revelations', 'Resident Evil: Revelations 2', 'Little Witch Academia: Chamber of Time', 'Syberia II', 'The Game Paradise: CruisinMix', 'Seven: The Days Long Gone', 'Xenoblade Chronicles 2', 'Caveman Warriors', \"Dead Rising 4: Frank's Big Package\", 'Nine Parchments', 'A Hat in Time', 'WWE 2K18', 'Dreadnought', 'Earth Defense Force 5', 'Kamen Rider: Climax Fighters', 'SpellForce 3', 'Yakuza Kiwami 2', 'Hello Neighbor', 'Tokyo Xanadu eX+', 'LocoRoco 2 Remastered', 'Arcana Heart 3: Love Max Six Stars', 'Fearful Symmetry & The Cursed Prince', 'Ōkami HD', 'Party Planet', 'Pinball FX 3', 'The End Is Nigh', 'Enter the Gungeon', 'Finding Paradise', 'Gorogoa', 'Gungrave VR', \"Never Stop Sneakin'\", 'Yooka-Laylee', 'Omega Quintet', 'Romancing SaGa 2', 'Dragon Fang Z: The Rose & Dungeon of Time', 'Defunct', 'Life Is Strange: Before the Storm — Episode 3', 'Slice Dice and Rice', 'Civilization VI', 'Blossom Tales: The Sleeping King', 'Max: The Curse of Brotherhood', 'Tiny Metal', 'Style Savvy: Styling Star', 'The Escapists 2', 'InnerSpace', 'Kerbal Space Program: Enhanced Edition', 'Street Fighter V Arcade Edition', 'Darkest Dungeon', 'Genital Jousting', 'Gintama Rumble', 'Spirit Hunter: Death Mark', 'World to the West', \"Digimon Story: Cyber Sleuth – Hacker's Memory\", 'Kirby Battle Royale', 'Iconoclasts', 'Lost Sphear', 'Subnautica', 'The Inpatient', 'Celeste', 'Hello Lady! Superior Dynamis', 'Dragon Ball FighterZ', 'Monster Hunter: World', 'Railway Empire', 'Dissidia Final Fantasy NT', 'Night in the Woods', 'Sky Force Reloaded', 'SteamWorld Dig', 'EA Sports UFC 3', 'Gundemoniums', 'We Were Here Too', 'Marooners', 'Shadow of the Colossus', 'Aegis Defenders', 'Civilization VI: Rise and Fall', 'Octogeddon', 'Rust', 'Dragon Quest Builders', 'The Seven Deadly Sins: Knights of Britannia', 'Under Night In-Birth Exe: Late[st]', 'Dead Maze', 'Dynasty Warriors 9', 'Kingdom Come: Deliverance', 'Monster Energy Supercross: The Official Videogame', 'Owlboy', 'Radiant Historia: Perfect Chronology', 'The Longest 5 Minutes', 'The Legend of Heroes: Trails of Cold Steel II', 'A Certain Magical Virtual-On', 'Secret of Mana', 'Bayonetta', 'Bayonetta 2', 'Fe', 'Age of Empires: Definitive Edition', 'Armored Warfare', 'Metal Gear Survive', 'Layers of Fear: Legacy', 'Fist of the North Star: Lost Paradise', 'Kimi no Hitomi ni Hit Me', 'Pac-Man Championship Edition 2 Plus', 'Past Cure', 'Sword Art Online: Fatal Bullet', 'Yume Nikki: Dream Diary', 'Part Time UFO', 'De Blob 2', 'Girls und Panzer: Dream Tank Match', 'Gravel', 'Heroine Anthem Zero—Episode 1', 'Moss', 'Outlast', 'Payday 2', 'Darkest Dungeon', 'H1Z1', 'Pit People', 'Bravo Team', 'DJMax Respect', 'Fear Effect Sedna', 'Final Fantasy XV: Windows Edition', 'Frantics', 'Scribblenauts Showdown', 'Way of the Passive Fist', 'Damascus Gear: Operation Osaka', 'Chuchel', 'Northgard', 'Warhammer: Vermintide 2', 'Your Four Knight Princesses Training Story', 'Flinthook', 'Devil May Cry HD Collection', 'Ghost of a Tale', 'Q.U.B.E. 2', 'Gal Gunvolt Burst', 'Shin Hayarigami', 'Surviving Mars', 'Burnout Paradise Remastered', 'Kirby Star Allies', \"Assassin's Creed Rogue: Remastered\", 'Assault Gunners HD Edition', 'Attack on Titan 2', 'R.B.I. Baseball 18', 'Sea of Thieves', \"Shantae and the Pirate's Curse\", 'Valkyria Chronicles 4', 'A Way Out', 'Detective Pikachu', 'Ni no Kuni II: Revenant Kingdom', 'Atelier Lydie & Suelle: The Alchemists and the Mysterious Paintings', 'Far Cry 5', 'MLB The Show 18', 'MX vs. ATV All Out', 'Outlast 2', 'The Alliance Alive', 'The Witch and the Hundred Knight 2', 'Long Gone Days', 'Shining Resonance Refrain', 'Super Robot Wars X', \"Baldi's Basics in Education and Learning\", 'Crisis on the Planet of the Apes VR', \"King of Fighters '97 Global Match\", 'Minit', 'Penny-Punching Princess', \"King of Fighters '97 Global Match\", 'Global Soccer Manager 2018', 'Dark Rose Valkyrie', 'Extinction', 'Owlboy', 'Regalia: Of Men and Monarchs - Royal Edition', \"Hellblade: Senua's Sacrifice\", 'Robocraft Infinity', 'Ys Origin', 'Death end re;Quest', \"Don't Starve\", 'Regalia: Of Men and Monarchs - Royal Edition', 'Asdivine Hearts', 'Regalia: Of Men and Monarchs - Royal Edition', 'Ys VIII: Lacrimosa of Dana', 'Wild Guns Reloaded', 'Yakuza 6: The Song of Life', 'Aqua Moto Racing Utopia', 'God of War', 'Nintendo Labo Robot Kit', 'Nintendo Labo Variety Kit', 'BattleTech', 'Firefighters: Airport Fire Department', 'Firefighters: The Simulation', 'Frostpunk', 'Gal Gun 2', 'Hello Kitty Kruisers', 'South Park: The Fractured but Whole', 'The Swords of Ditto', 'Earth Defense Force 4.1: Wing Diver The Shooter', 'Light Fall', 'Saturday Morning RPG', 'Super Robot Wars X', 'The Legend of Heroes: Trails of Cold Steel II: Kai', 'Aqua Moto Racing Utopia', 'Psychedelica of the Black Butterfly', 'Snow Moto Racing Freedom', 'Battlezone: Gold Edition', 'Super Mega Baseball 2', 'Professional Construction: The Simulation', 'Total War Saga: Thrones of Britannia', 'City of Brass', 'Donkey Kong Country: Tropical Freeze', 'Conan Exiles', 'Pillars of Eternity II: Deadfire', 'Steins;Gate 0', 'Laser League', 'Project Nimbus: Code Mirai', 'Battle Chasers: Nightwar', 'Little Witch Academia: Chamber of Time', 'Omensight', 'Shin Megami Tensei: Strange Journey Redux', 'Touhou Azure Reflections', 'Walden, a Game', 'Floor Kids', 'FAR: Lone Sails', 'The Banner Saga', 'Yonder: The Cloud Catcher Chronicles', 'Hyrule Warriors: Definitive Edition', 'Little Nightmares: Complete Edition', 'The Elder Scrolls Online: Summerset', 'Mega Man Legacy Collection', 'Mega Man Legacy Collection 2', 'Runner3', 'Stardew Valley', 'State of Decay 2', 'Tennis World Tour', 'Biohazard 7: Resident Evil Cloud Version', 'Bloodstained: Curse of the Moon', \"Dillon's Dead-Heat Breakers\", 'Persona 3: Dancing in Moonlight', 'Persona 4: Dancing All Night', 'Persona 5: Dancing in Starlight', 'Punch Club', \"7'scarlet\", 'Dark Souls Remastered', 'Detroit: Become Human', 'Sudden Strike 4: European Battlefields Edition', 'Agony', 'Fallen Legion: Rise to Glory', 'Harvest Moon: Light of Hope Special Edition', 'Ikaruga', 'Legend of Kay Anniversary', 'Moonlighter', 'Sega Genesis Classics', 'Street Fighter 30th Anniversary Collection', \"Yoku's Island Express\", 'Pokémon Quest', 'Cultist Simulator', 'Full Metal Panic! Fight: Who Dares Wins', 'Just Shapes & Beats', 'Liar Princess and the Blind Prince', 'Overload', 'BlazBlue: Cross Tag Battle', 'Happy Birthdays', \"Nobunaga's Ambition: Taishi\", 'Onrush', 'Shaq Fu: A Legend Reborn', 'The Elder Scrolls Online: Summerset', 'Vampyr', 'Warhammer 40,000: Inquisitor – Martyr', 'Flashback: Remastered Edition', 'MotoGP 18', 'The Banner Saga 2', 'Muv-Luv', 'Muv-Luv Alternative', 'Sushi Striker: The Way of Sushido', 'Unravel Two', 'Fallout Shelter', 'Fortnite Battle Royale', 'Hollow Knight', 'Jurassic World Evolution', 'Paladins', 'Super Bomberman R', 'Nostalgic Train', 'R.B.I. Baseball 18', 'Wreckfest', 'Among Us', 'Lego The Incredibles', 'The Lost Child', 'MUSYNX', 'Vegas Party', 'Echo VR', 'Mario Tennis Aces', 'New Gundam Breaker', 'De Blob', 'Lumines Remastered', 'Nier: Automata', 'Rainbow Skies', 'The Awesome Adventures of Captain Spirit', 'Ys VIII: Lacrimosa of Dana', 'The Night Journey', 'Ultimate Custom Night', 'Fighting EX Layer', 'Inside', 'Limbo', 'Next Up Hero', 'Spirit Hunter: Death Mark', 'Crash Bandicoot N. Sane Trilogy', 'The Crew 2', 'MXGP Pro', 'Psychedelica of the Ashen Hawk', 'Wolfenstein II: The New Colossus', 'Red Faction Guerrilla: Re-Mars-tered Edition', 'Runbow', 'Hotel Transylvania 3: Monsters Overboard', 'Hunting Simulator', 'Indie Pogo', 'Shining Resonance Refrain', 'Warhammer: Vermintide 2', 'Captain Toad: Treasure Tracker', 'Octopath Traveler', 'Adventure Time: Pirates of the Enchiridion', 'Sonic Mania Plus', 'Touhou Genso Wanderer: Reloaded', 'Closed Nightmare', \"Taiko no Tatsujin: Drum 'n' Fun!\", 'Mega Man X Legacy Collection', \"No Man's Sky\", 'The Banner Saga 3', 'The Persistence', 'Ys: Memories of Celceta', 'Candle: The Power of the Flame', 'Heaven Will Be Mine', 'Mobile Suit Gundam: Battle Operation 2', 'Go Vacation', 'Hello Neighbor', 'Head AS Code', 'Raid: Shadow Legends', 'Chasm', 'Code of Princess EX', 'This Is the Police 2', 'Titan Quest', 'Yakuza 0', 'Salt and Sanctuary', 'WarioWare Gold', 'Dead Cells', 'Flipping Death', 'Overcooked 2', \"Layton's Mystery Journey DX\", 'Minit', 'Monster Hunter: World', 'Ōkami HD', 'Yakuza 3', 'Madden NFL 19', 'We Happy Few', 'Cosmic Star Heroine', \"Death's Gambit\", 'Tanglewood', 'The Walking Dead: The Final Season – Episode 1: Done Running', 'World of Warcraft: Battle for Azeroth', 'Fernz Gate', 'Penguin Wars', 'State of Mind', 'Next Up Hero', 'All-Star Fruit Racing', 'Guacamelee! 2', 'Return of Double Dragon', 'Shenmue', 'Shenmue II', \"My Hero One's Justice\", \"The King's Bird\", 'F1 2018', 'Little Dragons Café', 'Night Trap: 25th Anniversary Edition', 'Aggressors: Ancient Rome', 'Blade Strangers', 'De Blob 2', 'Donut County', 'Fernz Gate', 'Firewall: Zero Hour', 'Into the Breach', 'Monster Hunter Generations Ultimate', 'Pro Evolution Soccer 2019', 'Strange Brigade', 'Sunless Sea: Zubmariner Edition', 'Victor Vran: Overkill Edition', 'Yakuza Kiwami 2', 'The Messenger', 'Two Point Hospital', 'Divinity: Original Sin II', 'Naruto to Boruto: Shinobi Striker', '428: Shibuya Scramble', 'Destiny 2: Forsaken', 'Dragon Quest XI', 'God Wars: The Complete Legend', 'Planet Alpha', 'Gone Home', 'Immortal: Unchained', 'NASCAR Heat 3', 'NBA Live 19', 'SNK Heroines: Tag Team Frenzy', \"Marvel's Spider-Man\", 'Yo-Kai Watch Blasters: Red Cat Corp', 'Dust: An Elysian Tail', 'Boundless', 'Dakar 18', 'NBA 2K19', 'Super Street: The Game', 'Cities: Skylines', 'Final Fantasy XV: Pocket Edition', 'Frozen Synapse 2', 'Spirit Hunter: NG', \"Wasteland 2: Director's Cut\", 'Black Clover: Quartet Knights', 'NHL 19', 'Shadow of the Tomb Raider', \"The Bard's Tale IV: Barrows Deep\", \"Capcom Beat 'Em Up Bundle\", 'Labyrinth of Refrain: Coven of Dusk', 'Legendary Fishing', 'Scribblenauts Mega Pack', 'Undertale', '8-bit ADV Steins;Gate', 'CrossCode', 'Star Control: Origins', 'Steins;Gate Elite', 'Steins;Gate: Linear Bounded Phenogram', \"Broken Sword 5: The Serpent's Curse\", 'Xenoblade Chronicles 2: Torna – The Golden Country', 'Giana Sisters Twisted Dreams: Owltimate Edition', 'Metal Max Xeno', 'Pathfinder: Kingmaker', 'Punch Line', 'Psyvariar Delta', 'Revenant Dogma', 'South Park: The Stick of Truth', 'This Is the Police 2', 'Valkyria Chronicles 4', 'The Walking Dead: The Final Season – Episode 2: Suffer the Children', 'Hollow Knight', 'Let It Die', 'Dragalia Lost', 'Life Is Strange 2 – Episode 1: Roads', 'Super Neptunia RPG', 'Wandersong', 'Dragon Ball FighterZ', 'FIFA 19', 'Jake Hunter Detective Story: Ghost of the Dusk', 'ZeroRanger', 'Astro Bot Rescue Mission', 'Batman: The Enemy Within', 'Forza Horizon 4', 'Fist of the North Star: Lost Paradise', 'Mega Man 11', 'Valthirian Arc: Hero School Story', \"Assassin's Creed Odyssey\", 'Super Mario Party', 'Disgaea 1 Complete', 'Goosebumps: The Game', 'Mark of the Ninja: Remastered', 'WWE 2K19', 'Call of Duty: Black Ops 4', \"Luigi's Mansion\", 'The Missing: J.J. Macfield and the Island of Memories', 'The World Ends with You: Final Remix', 'Big Buck Hunter Arcade', 'Crayola Scoot', 'Lego DC Super-Villains', 'NBA 2K Playgrounds 2', 'Overload', 'Rapala Fishing Pro Series', 'Starlink: Battle for Atlas', 'Warriors Orochi 4', 'The Jackbox Party Pack 5', 'Dies irae: Amantes amentes', 'Return of the Obra Dinn', 'SINNER: Sacarifice for Redemption', 'Syberia 3', 'WILL: A Wonderful World', 'Dark Souls Remastered', 'Soulcalibur VI', 'The Unlikely Legend of Rusty Pup', 'SINNER: Sacrifice for Redemption', 'Bass Pro Shops: The Strike – Championship Edition', \"Cabela's: The Hunt - Championship Edition\", 'Gwent: The Witcher Card Game', 'Just Dance 2019', 'Nickelodeon Kart Racers', 'PAW Patrol: On a Roll!', 'Thronebreaker: The Witcher Tales', 'Chicken Range', 'Disaster Report 4 Plus: Summer Memories', 'Eve: Burst Error R', 'Spirit Hunter: Death Mark', 'Castlevania Requiem', \"My Hero One's Justice\", 'Red Dead Redemption 2', 'Call of Cthulhu', \"Dream Daddy: Dadrector's Cut\", 'Gal Metal', 'Lego Harry Potter Collection', 'Mutant Football League: Dynasty Edition', \"OK K.O.! Let's Play Heroes\", 'Old School RuneScape', 'Sports Party', 'Steven Universe: Save the Light', 'Yomawari: The Long Night Collection', 'Deltarune: Chapter 1', 'Hidden Folks', 'Spirit Hunter: Death Mark', 'The Quiet Man', 'Diablo III: Eternal Collection', \"Taiko no Tatsujin: Drum 'n' Fun!\", 'Taiko no Tatsujin: Drum Session!', 'Moonlighter', 'Carnival Games', 'Déraciné', 'The Forest', 'Grip: Combat Racing', 'Omen of Sorrow', \"Overkill's The Walking Dead\", 'World of Final Fantasy Maxima', 'Tsioque', 'Despotism 3k', '11-11: Memories Retold', 'Tetris Effect', 'Hitman 2', 'My Riding Stables - Life with Horses', \"Project Highrise: Architect's Edition\", 'SNK 40th Anniversary Collection', 'Spyro Reignited Trilogy', 'Fallout 76', 'Echo Combat', 'Monkey King: Master of the Clouds', 'Psychedelica of the Black Butterfly', 'RPG Maker MV Trinity', 'Trailblazers', 'Underworld Ascendant', \"Pokémon: Let's Go, Pikachu!\", 'Battlefield V', 'Bendy and the Ink Machine', 'Farming Simulator 19', 'Moto Racer 4', 'Wreckfest', 'ATV Drift & Tricks', 'Darksiders III', 'Spintires: Mudrunner – American Wilds Edition', 'Artifact', 'Ketsui Deathtiny: Kizuna Jigoku Tachi', 'Parkitect', 'Persona Q2: New Cinema Labyrinth', 'Ark: Survival Evolved', 'Fighting EX Layer', 'Ride 3', 'Gear.Club Unlimited 2', 'Gwent: The Witcher Card Game', 'Just Cause 4', 'Monster Boy and the Cursed Kingdom', 'Mutant Year Zero: Road to Eden', 'Override: Mech City Brawl', 'Persona 3: Dancing in Moonlight', 'Persona 4: Dancing All Night', 'Persona 5: Dancing in Starlight', 'Subnautica', 'Thronebreaker: The Witcher Tales', 'Toki', 'Ashen', 'Jagged Alliance: Rage!', 'The Last Remnant Remastered', 'Katamari Damacy Reroll', 'Path of Exile', \"PlayerUnknown's Battlegrounds\", 'Sega Genesis Classics', 'Super Smash Bros. Ultimate', 'Earth Defense Force 5', 'Insurgency: Sandstorm', 'DayZ', 'God Eater 3', 'GRIS', 'Judgment', 'Omensight: The Definitive Edition', 'Below', 'Borderlands 2 VR', 'London Detective Mysteria', 'Warhammer: Vermintide 2', 'Asdivine Hearts II', 'Dragon Quest Builders 2', 'Asdivine Hearts II', 'Fitness Boxing', 'Catherine Classic', 'Hitman HD Enhanced Collection', \"Mario & Luigi: Bowser's Inside Story + Bowser Jr.'s Journey\", 'New Super Mario Bros. U Deluxe', 'Tales of Vesperia: Definitive Edition', 'Bright Memory', 'Asdivine Hearts 2', 'Onimusha: Warlords', 'Vane', 'The Walking Dead: The Final Season – Episode 3: Broken Toys', 'Yakuza 4', 'YIIK: A Postmodern RPG', 'Ace Combat 7: Skies Unknown', 'Alvastia Chronicles', 'Travis Strikes Again: No More Heroes', 'Chaos;Child', 'The Raven Remastered', 'Senran Kagura Burst Re:Newal', 'At the Gates', 'Slay the Spire', 'Battlefleet Gothic: Armada 2', 'Life Is Strange 2 – Episode 2: Rules', 'My Memory of Us', 'Pikuniku', 'Resident Evil 2', 'Kingdom Hearts III', 'Penguin Wars', 'Sphinx and the Cursed Mummy', 'Dragon Marked For Death', 'Piczle Colors', 'Planetarian: The Reverie of a Little Planet', 'Robotics;Notes DaSH', 'Robotics;Notes Elite HD', 'Sunless Skies', 'Ace Combat 7: Skies Unknown', 'Wargroove', 'Apex Legends', 'The Book of Unwritten Tales 2', 'Etrian Odyssey Nexus', 'V-Rally 4', 'Art Sqool', 'BlazBlue: Central Fiction', 'God Eater 3', 'Monster Energy Supercross – The Official Videogame 2', 'Space Engineers', 'Conarium', \"The King's Bird\", 'The Liar Princess and the Blind Prince', 'Riot', 'Final Fantasy IX', 'Tetris 99', 'Crackdown 3', 'DreamWorks Dragons Dawn of New Riders', 'Far Cry New Dawn', 'Jump Force', 'Metro Exodus', '8-bit ADV Steins;Gate', 'Death end re;Quest', 'Steins;Gate Elite', 'Steins;Gate: Linear Bounded Phenogram', 'Yakuza Kiwami', 'Aragami: Shadow Edition', 'Phoenix Wright: Ace Attorney Trilogy', 'Spirit Hunter: NG', 'Anthem', 'The Coin Game', 'Touhou Luna Nights', 'Dirt Rally 2.0', 'The Lego Movie 2 Videogame', 'Stellaris: Console Edition', 'Trials Rising', 'Dies irae: Interview with Kaziklu Bey', 'Alien League', 'Dead or Alive 6', 'Swords and Soldiers 2 Shawarmageddon', 'ToeJam & Earl: Back in the Groove', 'Left Alive', 'The Occupation', 'R.B.I. Baseball 19', 'Overload', 'Flowers: Les Quatre Saisons', 'Devil May Cry 5', \"Kirby's Extra Epic Yarn\", 'The Caligula Effect: Overdose', 'Hypnospace Outlaw', 'Mystery Dungeon: Shiren the Wanderer', 'Baba Is You', 'Bonds of the Skies', 'Mystery Dungeon: Shiren the Wanderer', 'One Piece: World Seeker', 'Sephirothic Stories', \"Tom Clancy's The Division 2\", 'America Ninja Warrior Challenge', 'Fate/EXTELLA LINK', \"Chocobo's Mystery Dungeon Every Buddy!\", 'Super Robot Wars T', 'Sekiro: Shadows Die Twice', 'Unravel Two', 'Final Fantasy VII', 'Generation Zero', 'The Legend of Heroes: Trails of Cold Steel', 'MLB The Show 19', 'Nelke & the Legendary Alchemists: Ateliers of the New World', 'Outward', 'Power Rangers: Battle for the Grid', 'The Walking Dead: The Final Season – Episode 4: Take Us Back', 'Xenon Racer', 'Fun! Fun! Animal Park', \"Assassin's Creed III Remastered\", 'Operencia: The Stolen Sun', 'Tropico 6', 'Unheard', \"Yoshi's Crafted World\", 'Lovers of Aether', 'Darksiders: Warmastered Edition', 'FAR: Lone Sails', 'Power Rangers: Battle for the Grid', \"Frane: Dragons' Odyssey\", 'Islanders', 'Spirit Hunter: Death Mark', 'Super Dragon Ball Heroes: World Mission', 'Dangerous Driving', 'Phoenix Wright: Ace Attorney Trilogy', 'Zanki Zero: Last Beginning', 'Earth Defense Force: Iron Rain', \"Hellblade: Senua's Sacrifice\", 'Code 7: Episode 2 — Memory', 'Nintendo Labo Toy-Con 04: VR Kit', 'Konami Arcade Classics', 'Anno 1800', 'Final Fantasy X/X-2 HD Remaster', 'My Time at Portia', 'Table of Tales: The Crooked Crown', 'World War Z', 'Cuphead', 'Katana Zero', \"Dragon's Dogma: Dark Arisen\", 'Mortal Kombat 11', 'Imperator: Rome', 'Picross S3', 'SteamWorld Quest: Hand of Gilgamech', 'Umihara Kawase Fresh!', 'BoxBoy! + BoxGirl!', 'Days Gone', 'Final Fantasy XII: The Zodiac Age', 'UBOAT', 'Detective Di: The Silk Rose Murders', 'Close to the Sun', 'Jump King', 'Puyo Puyo Champions', 'Shakedown: Hawaii', 'Life Is Strange 2 – Episode 3: Wastelands', 'Yakuza Kiwami 2', 'Saints Row: The Third – The Full Package', 'A Plague Tale: Innocence', 'Darkwood', 'Rage 2', 'Redout', 'Sniper Elite V2 Remastered', 'World End Syndrome', 'Bubsy: Paws on Fire!', 'Castlevania Anniversary Collection', 'Darkwood', 'Darkwood', \"Assassin's Creed III Remastered\", 'Atelier Lulua: The Scion of Arland', 'Dauntless', 'Observation', 'Resident Evil', 'Resident Evil 4', 'Resident Evil Zero', 'Slay the Spire', 'Team Sonic Racing', 'Pokémon Rumble Rush', 'Total War: Three Kingdoms', 'Little Friends: Dogs & Cats', 'Among the Sleep: Enhanced Edition', 'Blood & Truth', 'Brothers: A Tale of Two Sons', 'Crystal Crisis', 'The House in Fata Morgana: Dream of the Revenants Edition', 'Layers of Fear 2', 'Void Bastards', 'Vectronom', 'Outer Wilds', 'Cricket 19', 'PixARK', 'Global Soccer Manager 2019', 'Trover Saves the Universe', 'Asdivine Dios', 'Kotodama: The 7 Mysteries of Fujisawa', 'The Legend of Heroes: Trails of Cold Steel II', 'Persona Q2: New Cinema Labyrinth', 'Timespinner', 'Trover Saves the Universe', 'Warhammer: Chaosbane', 'Journey', 'MotoGP 19', 'Slay the Spire', 'A-Train Express', 'Octopath Traveler', 'Omensight', 'Battle Worlds: Kronos', 'Collection of Mana', 'Contra Anniversary Collection', 'The House in Fata Morgana: Dream of the Revenants Edition', 'Doraemon Story of Seasons', 'Cadence of Hyrule', 'Blaster Master Zero', 'Bloodstained: Ritual of the Night', 'Crystal Crisis', '198X', 'Harry Potter: Wizards Unite', 'My Friend Pedro', 'Project Lux', 'Super Neptunia RPG', 'Yakuza 5', 'Yo-kai Watch 4', 'Crash Team Racing Nitro-Fueled', 'Heavy Rain', 'Bloodstained: Ritual of the Night', 'Devil May Cry', 'Judgment', 'Samurai Shodown', 'Super Neptunia RPG', 'Hardcore Mecha', 'Human: Fall Flat', 'Minit', 'MotoGP 19', 'The Sinking City', 'F1 2019', 'Super Mario Maker 2', 'Final Fantasy XIV: Shadowbringers', 'Psyvariar Delta', 'Red Faction: Guerrilla Re-Mars-tered', 'Alternate Jake Hunter: Daedalus The Awakening of Golden Jazz', 'Clannad', 'Stranger Things 3: The Game', 'Attack on Titan 2: Final Battle', 'Sea of Solitude', 'Teppen', 'Dr. Mario World', 'Senran Kagura: Peach Ball', 'Umihara Kawase Fresh!', 'Blazing Chrome', 'Earth Defense Force 5', 'Tiny Metal: Full Metal Rumble', 'Aggelos', 'Dragon Quest Builders 2', 'God Eater 3', 'Etherborn', 'Sky: Children of the Light', 'Horace', 'Marvel Ultimate Alliance 3: The Black Order', 'Beyond: Two Souls', 'Pokémon Rumble Rush', 'Tetris Effect', 'Vane', 'Hyper Light Drifter', 'Monster Boy and the Cursed Kingdom', \"Raiden V: Director's Cut\", 'Fire Emblem: Three Houses', 'Kill la Kill: If', 'Wolfenstein: Cyberpilot', 'Wolfenstein: Youngblood', 'Mutant Year Zero: Road to Eden: Deluxe Edition', 'Oxygen Not Included', 'Crystal Crisis', 'The Church in the Darkness', 'Dry Drowning', 'Madden NFL 20', 'Asdivine Menace', 'Age of Wonders: Planetfall', \"Illusion of L'Phalcia\", 'Metal Wolf Chaos XD', 'Pillars of Eternity: Complete Edition', 'Sword Art Online: Fatal Bullet Complete Edition', 'Anodyne 2 – Return to Dust', \"The Bard's Tale Trilogy\", 'Friday the 13th: The Game', 'Rebel Galaxy Outlaw', 'Ion Fury', 'Vasara HD Collection', 'Grandia HD Collection', 'FAR: Lone Sails', 'Rad', 'Remnant: From the Ashes', 'Yakuza 3', 'Yu-Gi-Oh! Legacy of the Duelist: Link Evolution', 'Winds of Change', 'Life Is Strange 2 – Episode 4: Faith', 'Oninaki', 'Tokyo Chronos', 'Ancestors: The Humankind Odyssey', \"The Bard's Tale IV: Director's Cut\", 'Control', 'Crystar', 'Hunt: Showdown', 'Knights and Bikes', 'Minoria', 'MXGP 2019', 'World of Warcraft Classic', 'Pokémon Masters', 'Azur Lane: Crosswave', 'Astral Chain', 'Blair Witch', 'Psychedelica of the Ashen Hawk', 'The Dark Pictures: Man of Medan', 'The Ninja Saviors: Return of the Warriors', 'Catherine: Full Body', 'Children of Morta', 'Final Fantasy VIII Remastered', 'Last Oasis', 'Root Letter: Last Answer', 'Spyro Reignited Trilogy', 'Deadly Premonition: Origins', 'Divinity: Original Sin II', 'Super Kirby Clash', 'River City Girls', 'Monster Hunter World: Iceborne', 'NBA 2K20', 'Caravan Stories', 'eFootball Pro Evolution Soccer 2020', 'Gears 5', 'GreedFall', 'Utawarerumono Zan', 'Borderlands 3', 'Daemon X Machina', 'NHL 20', 'AI: The Somnium Files', 'Lego Jurassic World', 'Reel Fishing: Road Trip Adventure', 'Devil May Cry 2', 'Sayonara Wild Hearts', 'Shakedown: Hawaii', 'Shantae and the Seven Sirens', 'Sonic Racing', \"The Legend of Zelda: Link's Awakening\", 'Untitled Goose Game', 'Ni no Kuni: Wrath of the White Witch', 'Ni no Kuni: Wrath of the White Witch Remastered', \"Baldur's Gate: Enhanced Edition\", \"Baldur's Gate: Siege of Dragonspear\", \"Baldur's Gate II: Enhanced Edition\", 'Contra: Rogue Corps', 'Icewind Dale: Enhanced Edition', 'Planescape: Torment: Enhanced Edition', 'The Surge 2', 'Mario Kart Tour', 'Darksiders II: Deathinitive Edition', 'Gunvolt Chronicles: Luminous Avenger iX', 'Ys IX: Monstrum Nox', 'Code Vein', 'Dragon Quest', 'Dragon Quest II', 'Dragon Quest III', 'Dragon Quest XI S', 'FIFA 20', 'Freedom Finger', 'Memorrha', 'Ori and the Blind Forest', 'Tropico 6', 'Cube World', 'Call of Duty: Mobile', 'Destiny 2: Shadowkeep', 'Mobile Suit Gundam: Battle Operation 2', 'ReadySet Heroes', 'What the Golf?', 'YU-NO: A Girl Who Chants Love at the Bound of this World', 'One Night Stand', 'Warsaw', 'Fault Milestone One', 'Ciconia When They Cry – Phase 1: For You, the Replaceable Ones', 'Ghostbusters: The Video Game Remastered', 'One Night Stand', \"Tom Clancy's Ghost Recon Breakpoint\", 'Shantae and the Seven Sirens', 'The Alliance Alive HD Remastered', 'BurgerTime Party!', 'Concrete Genie', 'John Wick Hex', 'Trine 4: The Nightmare Prince', 'Indivisible', 'Yooka-Laylee and the Impossible Lair', 'Corpse Party: Blood Drive', 'Moon: Remix RPG Adventure', 'Murder on the Island', 'River City Melee Mach!!', 'Spirit Hunter: NG', 'Valfaris', 'Doraemon Story of Seasons', 'Frostpunk', 'Grid', 'Killer Queen Black', 'Children of Morta', 'Disco Elysium', 'Earth Defense Force: Iron Rain', 'Grandia HD Remaster', 'Overwatch: Legendary Edition', 'Steins;Gate Elite', 'The Witcher 3: Wild Hunt Complete Edition', 'Little Town Hero', 'Monkey King: Hero is Back', 'Stranded Sails: Explorers of the Cursed Islands', 'The Jackbox Party Pack 6', 'Travis Strikes Again: No More Heroes Complete Edition', 'Vectronom', 'Digimon Story Cyber Sleuth: Complete Edition', \"Ice Age: Scrat's Nutty Adventure\", 'Plants vs Zombies: Battle for Neighborville', 'Return of the Obra Dinn', 'Ring Fit Adventure', 'Raging Loop', 'The Legend of Heroes: Trails of Cold Steel III', 'Skullgirls 2nd Encore', 'WWE 2K20', 'Corpse Party 2: Dead Patient – Chapter 1', 'Dusk Diver[e]', 'Call of Duty: Modern Warfare', 'MediEvil', 'The Outer Worlds', 'Afterparty', 'Atelier Ryza: Ever Darkness & the Secret Hideout', 'Disgaea 4 Complete+', 'Harvest Moon: Mad Dash', 'Resident Evil 5', 'Resident Evil 6', 'Super Monkey Ball: Banana Blitz HD', 'Vampyr', 'Yakuza 4', 'Ghost Parade', \"Luigi's Mansion 3\", 'Song of Horror: Complete Edition', 'Spirit of the North', 'Just Dance 2020', 'Mario & Sonic at the Olympic Games Tokyo 2020', 'Planet Zoo', 'Red Dead Redemption 2', 'Valfaris', 'Death Stranding', 'Disney Tsum Tsum Festival', 'Golem', \"Layton's Mystery Journey: Katrielle and the Millionaire's Conspiracy – Deluxe Edition\", 'Need for Speed Heat', \"New Super Lucky's Tale\", 'Valfaris', 'Romancing SaGa 3', 'Last Labyrinth', 'Age of Empires II: Definitive Edition', 'Terminator: Resistance', 'War of the Visions: Final Fantasy Brave Exvius', 'Pokémon Sword', 'Star Wars Jedi: Fallen Order', 'Tokyo Ghoul: re Call to Exist', \"Assassin's Creed Odyssey\", 'Attack on Titan 2: Final Battle', 'Destiny 2', 'Farming Simulator 19', 'Final Fantasy XV', 'Football Manager 2020', 'Grid', 'Gylt', 'Just Dance 2020', 'Metro Exodus', 'Mortal Kombat 11', 'NBA 2K20', 'Rage 2', 'Red Dead Redemption 2', 'Rise of the Tomb Raider', 'Shadow of the Tomb Raider', 'Tomb Raider', 'Shenmue III', 'Children of Morta', 'Sniper Ghost Warrior Contracts', 'Cyber Troopers Virtual-On Masterpiece 1995~2001', 'SD Gundam G Generation Cross Rays', 'Trover Saves the Universe', 'Blair Witch', 'Halo: The Master Chief Collection', 'Life Is Strange 2 – Episode 5: Wolves', 'Neverwinter Nights: Enhanced Edition', 'Phoenix Point', 'SaGa: Scarlet Grace – Ambitions', 'Trover Saves the Universe', 'Alien: Isolation', 'Darksiders Genesis', 'Interrogation', 'Raging Loop', 'Star Ocean: First Departure R', 'Ancestors: The Humankind Odyssey', 'Boneworks', 'Dragon Quest Builders 2', 'MechWarrior 5: Mercenaries', 'Shovel Knight: King of Cards', 'Shovel Knight: Showdown', 'Steins;Gate 0', \"Steins;Gate: My Darling's Embrace\", 'Vampire: The Masquerade – Coteries of New York', 'Detroit: Become Human', 'Touhou Project Genso Skydrift', 'Path of the Warrior', 'Sakura Wars', 'Balconing Simulator 2020', 'Borderlands 3', 'Wattam', 'Everquest: Torment of Velious', 'Brain Age: Nintendo Switch Training', \"William's Love Prelude\", 'AO Tennis 2', 'Monster Hunter World: Iceborne', 'Mythic Ocean', 'Deep the Game', 'Atelier Dusk Trilogy Deluxe Pack', 'Puzzle & Dragons Gold', 'Kandagawa Jet Girls', 'Yakuza: Like a Dragon', 'Dragon Ball Z: Kakarot', 'Tokyo Mirage Sessions ♯FE Encore', 'Psikyo Shooting Stars Alpha', 'The Walking Dead: Season Two', 'The Walking Dead: A New Frontier', \"Oddworld: Stranger's Wrath HD\", 'The Walking Dead: Saints and Sinners', 'Journey to the Savage Planet', 'Kentucky Route Zero', 'Pillars of Eternity II: Deadfire', 'Thronebreaker: The Witcher Tales', 'Warcraft III: Reforged', 'beatmania IIDX 27 HEROIC VERSE', 'Code Shifter', 'Coffee Talk', 'Patapon 2 Remastered', 'Hypercharge: Unboxed', 'Monster Energy Supercross 3', 'The Dark Crystal: Age of Resistance Tactics', 'Zombie Army 4: Dead War', 'Granblue Fantasy Versus', 'Crash Drive 2', 'Marooners', 'Knights and Bikes', 'Kunai', 'Boris and the Dark Survival', 'Yakuza 5', 'Azur Lane: Crosswave', 'Daemon X Machina', 'Death end re;Quest 2', 'Florence', 'Hatsune Miku: Project DIVA Mega Mix', 'Darksiders Genesis', 'Dreams', 'Snack World: The Dungeon Crawl - Gold', 'Street Fighter V: Champion Edition', 'Warriors Orochi 4 Ultimate', 'Warface', 'Bayonetta & Vanquish 10th Anniversary Bundle', 'Hunt: Showdown', 'Kingdom Hearts HD 1.5 + 2.5 Remix', 'Kingdom Hearts HD 2.8 Final Chapter Prologue', 'Psikyo Shooting Stars Bravo', 'Devil May Cry 3: Special Edition', 'Double Dragon & Kunio-kun Retro Brawler Bundle', 'Dreadout 2', 'Katana Kami: A Way of the Samurai Story', 'Persona 5 Strikers', 'Under Night In-Birth Exe:Late[cl-r]', 'Vitamin Connection', 'Dota Underlords', 'Dragon Quest of the Stars', 'Mega Man Zero/ZX Legacy Collection', 'Rune Factory 4 Special', 'Samurai Shodown', 'Sayonara Wild Hearts', 'Space Channel 5 VR: Kinda Funky News Flash', 'Two Point Hospital', 'Hero Must Die. Again', 'Yakuza 0', 'Hero Must Die. Again', 'MouseCraft', 'Kingdom Under Fire: The Crusaders', 'Metro Redux', 'One-Punch Man: A Hero Nobody Knows', 'Romance of the Three Kingdoms XIV', 'Granblue Fantasy Versus', 'The Political Machine 2020', 'Castlevania: Symphony of the Night', 'Black Mesa', 'ibb & obb', 'Murder by Numbers', 'Murder by Numbers', 'Pathologic 2', 'Pokémon Mystery Dungeon: Rescue Team DX', 'Call of Duty: Warzone', 'Langrisser I & II', 'Ori and the Will of the Wisps', 'Bless Unleashed', 'Collar × Malice', 'Shieldmaiden: Remix Edition', 'Dead or School', 'Granblue Fantasy Versus', \"My Hero: One's Justice 2\", 'Nioh 2', 'R.B.I. Baseball 20', 'Exit the Gungeon', 'MLB The Show 20', 'Panzer Corps 2', 'Teamfight Tactics', 'Animal Crossing: New Horizons', 'Doom 64', 'Doom Eternal', 'Half-Life: Alyx', 'The Legend of Heroes: Trails of Cold Steel III', 'Bleeding Edge', 'Paper Beast', 'Twin Breaker: A Sacred Symbols Adventure', 'Vampire: The Masquerade – Coteries of New York', 'Yu-Gi-Oh! Legacy of the Duelist: Link Evolution', 'Vampire: The Masquerade – Coteries of New York', 'Good Job!', 'Panzer Dragoon: Remake', 'Shinsekai: Into the Depths', 'Star Wars Jedi Knight: Jedi Academy', 'Biped', 'One Piece: Pirate Warriors 4', 'Saints Row IV: Re-Elected', 'Under Night In-Birth Exe:Late[cl-r]', 'Bubble Bobble 4 Friends', 'Call of Duty: Modern Warfare 2 Campaign Remastered', 'Cooking Mama: Cookstar', 'Persona 5 Royal', 'Ty the Tasmanian Tiger HD', 'My Friend Pedro', 'Resident Evil 3', 'Below', 'Disaster Report 4: Summer Memories', 'Biped', 'Final Fantasy VII Remake', 'Space Engineers', 'Phantasy Star Online 2', 'Vampire: The Masquerade – Coteries of New York', 'No One Lives Under the Lighthouse', 'Yakuza Kiwami', 'Azure Striker Gunvolt: Striker Pack', 'Bokuhime Project', 'Cloudpunk', 'Little Town Hero', 'MotoGP 20', 'Picross S4', 'Umihara Kawase Fresh!', 'Naruto Shippuden: Ultimate Ninja Storm 4 – Road to Boruto', 'Predator: Hunting Grounds', 'Silverio Ragnarok', 'Trials of Mana', 'XCOM: Chimera Squad', 'Gears Tactics', 'Moving Out', 'Octopath Traveler', 'Sakura Wars', 'SnowRunner', 'Telling Lies', 'Call of Duty: Modern Warfare 2 Campaign Remastered', 'Legends of Runeterra', 'Streets of Rage 4', \"Them's Fightin' Herds\", 'John Wick Hex', 'Void Bastards', 'Helltaker', 'Deep Rock Galactic', 'Super Mega Baseball 3', 'Signs of the Sojourner', 'The Elder Scrolls: Blades', 'Ion Fury', 'Hatsune Miku: Project DIVA Mega Mix', 'Golf with Your Friends', 'Mafia II: Definitive Edition', 'Mafia III: Definitive Edition', 'Umurangi Generation', 'The Wonderful 101: Remastered', 'Cannibal Cuisine', 'Crucible', 'Biped', 'Danganronpa: Trigger Happy Havoc Anniversary Edition', 'Monster Train', 'The Persistence', 'Spirit Hunter: NG', 'Maneater', 'Monstrum', 'Saints Row: The Third Remastered', 'Minecraft Dungeons', 'Utawarerumono: Prelude to the Fallen', 'Wildfire', 'Phantasy Star Online 2', 'Shantae and the Seven Sirens', 'Synaptic Drive', 'Those Who Remain', 'Umihara Kawase BaZooKa!!', 'Umihara Kawase Fresh!', 'BioShock: The Collection', 'Borderlands Legendary Collection', 'XCOM 2 Collection', 'Xenoblade Chronicles: Definitive Edition', 'Liberated', 'Valorant', 'Clubhouse Games: 51 Worldwide Classics', 'Command & Conquer Remastered Collection', 'The Outer Worlds', 'We Were Here Together', 'Project Warlock', 'Ys: Memories of Celceta', 'Project Warlock', 'Samurai Shodown', 'Samurai Shodown NeoGeo Collection', 'Project Warlock', 'Persona 4 Golden', 'Desperados III', 'Disintegration', 'Jump Rope Challenge', 'Burnout Paradise Remastered', 'The Last of Us Part II', 'Azure Striker Gunvolt 2', 'Kingdom Hearts: Dark Road', 'Duke Nukem 3D: 20th Anniversary World Tour', 'Little Town Hero', 'Pokémon Café Mix', 'SpongeBob SquarePants: Battle for Bikini Bottom – Rehydrated', 'Star Wars Episode I: Racer', 'Ninjala', 'Brigandine: The Legend of Runersia', 'Collar × Malice', 'Death Come True', 'Mr. Driller Drill Land', 'Blaster Master Zero', 'Blaster Master Zero 2', 'Automobilista 2', 'The Legend of Heroes: Trails of Cold Steel III', 'Trackmania', 'Little Town Hero', \"Marvel's Iron Man VR\", 'Catherine: Full Body', 'Superliminal', 'Vigor', 'CrossCode', 'Little Town Hero', 'Bloodstained: Curse of the Moon 2', 'Creaks', 'Deadly Premonition 2: A Blessing in Disguise', 'F1 2020', 'NASCAR Heat 5', 'Sword Art Online: Alicization Lycoris', \"Dweller's Empty Path\", 'Death Stranding', 'Rocket Arena', 'Story of Seasons: Friends of Mineral Town', 'Dragon Quest Tact', 'Superhot: Mind Control Delete', 'Death Come True', 'Ghost of Tsushima', 'Paper Mario: The Origami King', 'Rock of Ages 3: Make & Break', 'Creaks', 'Carrion', 'Crysis Remastered', 'Tannenberg', 'Aggretsuko: The Short Timer Strikes Back', 'Cuphead', 'Destroy All Humans!', 'Lost Wing', 'Othercide', 'Samurai Shodown NeoGeo Collection', 'Lost Wing', 'Doraemon Story of Seasons', 'Hakuoki Shinkai: Ginsei no Shō', 'Hellpoint', 'Mobile Suit Gundam Extreme VS. Maxiboost ON', 'Root Film', 'Yakuza Kiwami 2', 'Yoru, Tomosu', 'Cat Quest + Cat Quest II Pawsome Pack', 'Fairy Tail', 'Lost Wing', 'Monster Crown', 'Fall Guys: Ultimate Knockout', 'Fast & Furious Crossroads', 'Horizon Zero Dawn', 'The Henry Stickmin Collection', 'Hyper Scape', 'Risk of Rain 2', 'A Total War Saga: Troy', 'Boomerang Fu', 'Collar × Malice: Unlimited', 'Dragon Quest Rivals Ace', 'EA Sports UFC 4', 'Factorio', 'Microsoft Flight Simulator', 'Mortal Shell', 'Spiritfarer', 'Raji: An Ancient Epic', 'Battletoads', 'Cupid Parasite', 'Danganronpa 2: Goodbye Despair Anniversary Edition', 'Phoenotopia: Awakening', 'Aokana: Four Rhythm Across the Blue', \"New Super Lucky's Tale\", 'PGA Tour 2K21', 'Samurai Jack: Battle Through Time', 'Cinders', 'Kandagawa Jet Girls', 'No Straight Roads', 'Cinders', 'Final Fantasy Crystal Chronicles: Remastered Edition', 'The Last Campfire', 'The Legend of Heroes: Trails into Reverie', 'Moon: Remix RPG Adventure', 'Surgeon Simulator 2', 'Tell Me Why: Chapter One', 'Captain Tsubasa: Rise of New Champions', 'Drake Hollow', 'Immortal Realms: Vampire Wars', 'Jump Force: Deluxe Edition', 'Madden NFL 21', 'Project CARS 3', 'Wasteland 3', 'Windbound', 'Ary and the Secret of Seasons', 'Crusader Kings III', 'Iron Harvest', 'MX vs. ATV All Out', 'Super Bomberman R Online', 'Phoenotopia: Awakening', 'Spellbreak', 'Tell Me Why: Chapter Two', 'WRC 9', 'Doraemon Story of Seasons', \"Marvel's Avengers\", 'NBA 2K21', \"Tony Hawk's Pro Skater 1 + 2\", \"World's End Club\", 'AVICII Invector', 'Kingdoms of Amalur: Re-Reckoning', 'RPG Maker MV', 'Star Renegades', 'Metal Max Xeno: Reborn', 'Tell Me Why: Chapter Three', 'Vampire: The Masquerade – Shadows of New York', 'BPM: Bullets Per Minute', 'Fight Crab', \"Leisure Suit Larry: Wet Dreams Don't Dry\", 'Spelunky 2', 'Azur Lane: Crosswave', 'Hades', 'Ori and the Will of the Wisps', 'Welcome to Elk', 'Biped', 'Commandos 2 - HD Remaster', 'Crysis Remastered', 'Praetorians - HD Remaster', 'Super Mario 3D All-Stars', 'WWE 2K Battlegrounds', '13 Sentinels: Aegis Rim', 'Art of Rally', 'Kirby Fighters 2', 'Dungreed', 'Ginga Force', 'RollerCoaster Tycoon 3: Complete Edition', 'Serious Sam 4', 'Tennis World Tour 2', 'Vampire: The Masquerade – Night Road', 'Mafia: Definitive Edition', 'Panzer Dragoon: Remake', 'Genshin Impact', 'Panzer Dragoon: Remake', 'Re:Turn – One Way Trip', 'Spelunky 2', 'Umihara Kawase BaZooKa!!', 'The Walking Dead Onslaught', 'WARSAW', 'Super Mario Bros. 35', 'WWE 2K21', 'WARSAW', \"Crash Bandicoot 4: It's About Time\", 'Star Wars: Squadrons', 'WARSAW', 'Nickelodeon Kart Racers 2: Grand Prix', 'I Am Dead', 'Ikenfell', 'Ride 4', 'Ben 10: Power Trip', 'FIFA 21', 'G.I. Joe: Operation Blackout', 'Remothered: Broken Porcelain', 'Robotics;Notes DaSH', 'Robotics;Notes Elite', 'Torchlight III', 'Werewolf: The Apocalypse – Heart of the Forest', 'Cook, Serve, Delicious! 3', 'Age of Empires III: Definitive Edition', 'Batbarian: Testament of the Primordials', 'Big Brother: The Game', 'Cake Bash', 'Cloudpunk', 'The Jackbox Party Pack 7', \"Shantae: Risky's Revenge – Director's Cut\", 'Tennis World Tour 2', 'Crown Trick', 'NHL 21', 'Mario Kart Live: Home Circuit', 'Postal Redux', 'Zoids Wild: Blast Unleashed', 'Amnesia: Rebirth', 'Rogue', 'Bless Unleashed', 'Disc Room', 'If Found...', 'The Red Lantern', 'Torchlight III', 'Leisure Suit Larry: Wet Dreams Dry Twice', 'Monster Prom 2: Monster Camp', 'Transformers: Battlegrounds', 'Cobra Kai: The Karate Kid Saga Continues', 'Ghostrunner', 'The Legend of Heroes: Trails of Cold Steel IV', \"Oddworld: New 'n' Tasty!\", 'Stories Untold', 'beatmania IIDX 28 BISTROVER', 'Control: Ultimate Edition – Cloud Version', 'The Last Blade: Beyond the Destiny', 'No More Heroes', 'No More Heroes 2: Desperate Struggle', 'Part Time UFO', 'Pacer', 'Shin Megami Tensei III: Nocturne HD Remaster', 'Watch Dogs: Legion', 'Wraith: The Oblivion – The Orpheus Device', 'Angry Video Game Nerd I & II Deluxe', 'The Dark Pictures Anthology: Little Hope', 'Mad Rat Dead', 'Pikmin 3 Deluxe', 'Umihara Kawase Fresh!', 'Visage', 'Bakugan: Champions of Vestroia', 'Jurassic World Evolution: Complete Edition', 'Söldner-X 2: Final Prototype Definitive Edition', 'Chicken Police: Paint It Red!', \"Shadowverse: Champion's Battle\", 'Descenders', 'Dirt 5', 'Need for Speed: Hot Pursuit Remastered', 'Tropico 6', 'Ark: Survival Evolved', \"Assassin's Creed Valhalla\", 'Borderlands 3', 'Bright Memory', 'Dead by Daylight', 'Destiny 2: Beyond Light', 'Devil May Cry 5: Special Edition', 'Dirt 5', 'Enlisted', 'Evergate', 'The Falconeer', 'Fortnite', 'Forza Horizon 4', 'Fuser', 'Gears 5', 'Gears Tactics', 'Manifold Garden', 'Maneater', 'NBA 2K21', \"No Man's Sky\", 'Observer: System Redux', 'Ori and the Will of the Wisps', 'Overcooked: All You Can Eat', 'Planet Coaster: Console Edition', 'Rogue Company', 'Sakuna: Of Rice and Ruin', 'Sea of Thieves', 'Spacelords', 'Tetris Effect: Connected', 'Warhammer: Chaosbane', 'Watch Dogs: Legion', 'XIII', 'Yakuza: Like a Dragon', \"Assassin's Creed Valhalla\", \"Astro's Playroom\", 'Borderlands 3', 'Bugsnax', 'Dead by Daylight', 'Death Come True', \"Demon's Souls\", 'Devil May Cry 5: Special Edition', 'Dirt 5', 'Fortnite', 'Godfall', 'Maneater', 'NBA 2K21', \"No Man's Sky\", 'Observer: System Redux', 'Overcooked: All You Can Eat', 'The Pathless', 'Planet Coaster: Console Edition', 'Just Dance 2021', 'Sackboy: A Big Adventure', 'Spacelords', 'Spider-Man: Miles Morales', 'Spider-Man: Remastered', 'Warhammer: Chaosbane', 'Watch Dogs: Legion', 'WRC 9', 'Call of Duty: Black Ops Cold War', 'Kingdom Hearts: Melody of Memory', 'Need for Speed: Hot Pursuit Remastered', 'Bubble Bobble 4 Friends: The Baron is Back', 'Halo: The Master Chief Collection', 'Mars Horizon', 'Mortal Kombat 11 Ultimate', 'Serious Sam Collection', 'Sniper Elite 4', 'Bridge Constructor: The Walking Dead', 'Bubble Bobble 4 Friends: The Baron is Back', 'Cake Bash', 'Mortal Kombat 11 Ultimate', 'Star Renegades', 'Hyrule Warriors: Age of Calamity', 'Katamari Damacy Reroll', 'World of Warcraft: Shadowlands', 'Just Dance 2021', 'Star Renegades', 'Phoenotopia: Awakening', 'Spirit of the North: Enhanced Edition', 'Warframe', 'Chronos: Before the Ashes', 'Empire of Sin', 'Football Manager 2021', 'Frostpoint VR: Proving Grounds', \"Tom Clancy's Rainbow Six Siege\", 'Twin Mirror', 'Worms Rumble', 'Sam & Max Save the World Remastered', 'Shiren the Wanderer: The Tower of Fortune and the Dice of Fate', 'State of Decay 2', 'Absolute Drift', 'Atelier Ryza 2: Lost Legends & the Secret Fairy', 'Haven', 'Immortals Fenyx Rising', 'Morbid: The Seven Acolytes', 'Phogs!', 'Startup Panic', 'Taiko no Tatsujin: Rhythmic Adventure Pack!', 'Wildfire', 'DARQ: Complete Edition', 'Dragon Quest XI S: Definitive Edition', 'Commandos 2 - HD Remaster', 'FIFA 21', 'Fire Emblem: Shadow Dragon and the Blade of Light', 'Fitness Boxing 2: Rhythm & Exercise', 'John Wick Hex', 'Madden NFL 21', 'Suzerain', 'Tanuki Sunset', 'Drawn to Life: Two Realms', 'Call of the Sea', 'Destiny 2', 'Doom Eternal', 'Puyo Puyo Tetris 2', 'Ghostrunner', 'Brigandine: The Legend of Runersia', 'Cyberpunk 2077', \"Orwell's Animal Farm\", 'Medal of Honor: Above and Beyond', 'Panzer Dragoon: Remake', 'Among Us', 'Collection of SaGa: Final Fantasy Legend', 'MXGP 2020', 'Deemo: Reborn', 'Abyss of the Sacrifice', 'Neptunia ReVerse', 'Double Dragon Neon', 'Override 2: Super Mech League', 'Fatal Fury: First Contact', 'Super Meat Boy Forever', \"Who's Your Daddy?\", 'Earth Defense Force: World Brothers', 'Omori', 'The Hong Kong Massacre', 'Werewolf: The Apocalypse – Heart of the Forest', 'Iris.Fall', \"Five Nights at Freddy's: Core Collection\", 'MXGP 2020', 'Scott Pilgrim vs. the World: The Game – Complete Edition', 'Hitman 3', 'Skul: The Hero Slayer', 'Phoenotopia: Awakening', 'Ride 4', 'Bladed Fury', 'Woodsalt', 'Age of Empires II: Definitive Edition – Lords of the West', 'Atelier Ryza 2: Lost Legends & the Secret Fairy', 'Fearless and United Guards', 'Cyber Shadow', 'Dragon Quest Tact', 'Devour', 'Disgaea 6: Defiance of Destiny', 'Gal*Gun Returns', 'Märchen Forest: Mylne and the Forest Gift', 'The Medium', 'Mobile Suit Gundam: Battle Operation 2', 'Olija', 'Sword of the Necromancer', 'The Yakuza Remastered Collection', 'Annalynn', 'Bonkies', 'Buddy Mission: Bond', 'Gods Will Fall', 'The Pedestrian', 'Re:Zero − Starting Life in Another World: The Prophecy of the Throne', 'Control: Ultimate Edition', 'Cultist Simulator', 'Destruction AllStars', 'Ys IX: Monstrum Nox', 'Habroxia 2', 'Haven', 'Skyforge', 'Werewolf: The Apocalypse – Earthblood', 'Bokuhime Project', 'Nioh Remastered - The Complete Edition', 'Nioh 2 - The Complete Edition', 'Nioh 2 Remastered - The Complete Edition', 'Little Nightmares II', 'Gal*Gun Returns', \"Super Mario 3D World + Bowser's Fury\", 'Azur Lane: Crosswave', 'Fallen Legion: Revenants', 'Speed Limit', 'Capcom Arcade Stadium', 'SNK vs. Capcom: The Match of the Millennium', 'Speed Limit', 'The 25th Ward: The Silver Case', 'Anodyne 2: Return to Dust', 'Speed Limit', 'The Silver Case', 'Void Terrarium Plus', 'Speed Limit', 'Thomas Was Alone', 'Curse of the Dead Gods', 'Horned Knight', 'Persona 5 Strikers', 'Rogue Heroes: Ruins of Tasos', 'We Were Here', 'Horned Knight', 'Cotton Reboot!', 'Darius Cozmic Revelation', 'Forward to the Sky', \"Ghosts 'n Goblins Resurrection\", 'Hellpoint', 'Yakuza: Like a Dragon', 'Bravely Default 2', 'Horned Knight', 'Rhythm Doctor', 'Harvest Moon: One World', 'Neptunia Virtual Stars', 'Maquette', 'Yakuza: Like a Dragon', 'Ar Nosurge DX', 'Ciel Nosurge DX', 'Everhood', 'Gnosia', 'Loop Hero', 'Mortal Shell: Enhanced Edition', \"Sea of Solitude: Director's Cut\", 'Postal Redux', 'Two Point Hospital: Jumbo Edition', 'Apex Legends', 'Gensou SkyDrift', 'Stronghold: Warlords', \"If On A Winter's Night, Four Travelers\", 'Monster Energy Supercross: The Official Videogame 4', 'A-Train: All Aboard! Tourism', \"Crash Bandicoot 4: It's About Time\", 'Phoenotopia: Awakening', 'Kingdoms of Amalur: Re-Reckoning', 'Mundaun', 'R.B.I. Baseball 21', 'Samurai Shodown', 'Saviors of Sapphire Wings & Stranger of Sword City Revisited', 'Stubbs the Zombie in Rebel Without a Pulse', 'Undertale', 'In Rays of the Light', 'DARQ: Complete Edition', 'Caravan Stories', 'Gloria Union: Twin Fates in Blue Ocean FHD Edition', 'Jack Jeanne', 'The Legend of Heroes: Trails of Cold Steel IV', 'Maglam Lord', \"Marvel's Avengers\", \"Can't Drive This\", 'Plants vs. Zombies: Battle for Neighborville – Complete Edition', 'Root Film', 'Vaporum: Lockdown', 'Overcooked! All You Can Eat', 'Puyo Puyo Tetris 2', 'Story of Seasons: Pioneers of Olive Town', 'Paradise Lost', 'Love Live! School Idol Festival: After School Activity Wai-Wai! Home Meeting!!', 'Tales from the Borderlands', \"Where's Samantha?\", 'Black Legend', 'Evil Inside', 'Dandy Ace', 'DARQ: Complete Edition', \"Them's Fightin' Herds\", 'Yakuza 6: The Song of Life', 'Balan Wonderworld', \"Crash Bandicoot 4: It's About Time\", 'It Takes Two', 'Kaze and the Wild Masks', 'Monster Hunter Rise', 'Subverse', \"Tony Hawk's Pro Skater 1 + 2\", 'Spacebase Startopia', 'Record of Lodoss War: Deedlit in Wonder Labyrinth', 'Neptunia Virtual Stars', 'Disco Elysium: The Final Cut', 'Evil Genius 2: World Domination', 'Kingdom Hearts HD 1.5 Remix', 'Kingdom Hearts HD 2.5 Remix', 'Kingdom Hearts HD 2.8 Final Chapter Prologue', 'Kingdom Hearts III + Re Mind', 'Kingdom Hearts: Melody of Memory', 'Narita Boy', 'Rogue Company', 'The Binding of Isaac: Repentance', 'Fighting EX Layer: Another Dash', 'Outriders', 'Resident Evil 7: Biohazard', 'Lost Words: Beyond the Page', 'Oddworld: Soulstorm', 'Star Wars: Republic Commando', 'Pac-Man 99', 'Astrodogs', 'Backbone', 'Before Your Eyes', 'Island', 'What the Dub?', 'The Legend of Heroes: Trails of Cold Steel IV', 'Poison Control', 'Tasomachi: Behind the Twilight', 'SaGa Frontier Remastered', 'Shadow Man Remastered', 'Stitchy in Tooki Trouble', 'Super Meat Boy Forever', 'MLB The Show 21', 'Atelier Mysterious Trilogy Deluxe Pack', 'MotoGP 21', 'ScourgeBringer', 'Smelter', 'Wonder Boy: Asha in Monster World', 'Wraith: The Oblivion – Afterlife', 'Judgment', 'Nier Replicant ver.1.22474487139...', 'Death end re;Quest', 'Genshin Impact', 'R-Type Final 2', 'Total War: Rome Remastered', 'New Pokémon Snap', 'Returnal', 'R-Type Final 2', 'Terminator: Resistance Enhanced', 'Dragon Quest Builders 2', 'Wreckfest', 'Raiden IV x MIKADO remix', 'Skate City', \"Baldur's Gate: Dark Alliance\", 'Resident Evil Village', 'Hood: Outlaws & Legends', 'Call of the Sea', 'Lost Ruins', 'RWBY: Grimm Eclipse – Definitive Edition', 'Famicom Detective Club: The Missing Heir', 'Famicom Detective Club: The Girl Who Stands Behind', 'Mass Effect Legendary Edition', 'Subnautica', 'Subnautica: Below Zero', 'Arcaea', 'Days Gone', 'Geminose: Animal Popstars', 'Leisure Suit Larry: Wet Dreams Dry Twice', 'SnowRunner', 'Void Terrarium Plus', 'PowerWash Simulator', \"Akiba's Trip: Hellbound & Debriefed\", 'Angelique Luminarise', \"Baldur's Gate: Dark Alliance\", 'Layers of Fear 2', 'Manifold Garden', 'Rune Factory 5', 'Just Die Already', 'Uncharted Waters 4 with Power-Up Kit HD Version', 'An Airport for Aliens Currently Run by Dogs', 'Knockout City', 'Miitopia', 'Rust', 'Biomutant', 'Capcom Arcade Stadium', 'Final Fantasy XIV', 'King of Seas', 'Maneater', 'Saints Row: The Third Remastered', 'Shin Megami Tensei III: Nocturne HD Remaster', 'Earth Defense Force: World Brothers', 'Fighting EX Layer: Another Dash', 'MechWarrior 5: Mercenaries', 'Super Bomberman R Online', 'Tantei Bokumetsu', 'Warhammer Age of Sigmar: Storm Ground', 'Loopers', 'Song of Horror', \"World's End Club\", 'Wonder Boy: Asha in Monster World', \"Ghosts 'n Goblins Resurrection\", 'Griftlands', 'Necromunda: Hired Gun', \"Spirit: Lucky's Big Adventure\", 'Stonefly', 'Virtua Fighter 5: Ultimate Showdown', 'Overboard!', 'Astalon: Tears of the Earth', 'Winds of Change', 'Wing of Darkness', 'DC Super Hero Girls: Teen Power', 'Evergate', 'Griftlands', 'The Persistence Enhanced', 'Sniper Ghost Warrior Contracts 2', 'Mighty Goose', 'Backbone', 'Chivalry 2', 'Edge of Eternity', 'Neptunia ReVerse', 'Alba: A Wildlife Adventure', 'No More Heroes', 'No More Heroes 2: Desperate Struggle', 'Phantasy Star Online 2: New Genesis', 'Chicory: A Colorful Tale', 'Final Fantasy VII Remake Intergrade', 'Ninja Gaiden: Master Collection', 'Game Builder Garage', 'Guilty Gear Strive', 'Ratchet & Clank: Rift Apart', 'Star Wars Jedi: Fallen Order', 'Dark Deity', 'The Elder Scrolls Online', 'Wildermyth', 'Roguebook', 'Metro Exodus Complete Edition', 'Alex Kidd in Miracle World DX', 'Ender Lilies: Quietus of the Knights', 'Dungeons & Dragons: Dark Alliance', 'Olympic Games Tokyo 2020 - The Official Video Game', 'Worms Rumble', 'The Caligula Effect 2', 'The Cruel King and the Great Hero', 'Legend of Mana', 'Nayuta no Kiseki Kai', 'Samurai Warriors 5', 'Mario Golf: Super Rush', 'Scarlet Nexus', \"Tony Hawk's Pro Skater 1 + 2\", 'Chicken Police: Paint It Red!', 'Destroy All Humans!', 'Disgaea 6: Defiance of Destiny', 'Ender Lilies: Quietus of the Knights', 'Ghoul Patrol', 'Sky: Children of the Light', 'Wonder Boy: Asha in Monster World', 'Zombies Ate My Neighbors', 'Doki Doki Literature Club Plus!', 'Blaster Master Zero', 'Phoenotopia: Awakening', 'The 25th Ward: The Silver Case', 'A Plague Tale: Innocence', 'The Silver Case', 'Ys IX: Monstrum Nox', 'Boomerang X', 'Crash Drive 3', 'Fuuraiki 4', \"Layton's Mystery Journey: Katrielle and The Millionaires' Conspiracy DX+\", \"Sam & Max: This Time It's Virtual\", 'Monster Hunter Stories 2: Wings of Ruin', 'Blaster Master Zero 2', 'Trials of Mana', 'F1 2021', 'The Legend of Zelda: Skyward Sword HD', \"Akiba's Trip: Hellbound & Debriefed\", 'Ender Lilies: Quietus of the Knights', 'Cotton Reboot!', 'Cris Tales', \"Death's Door\", 'Loopers', 'Pokémon Unite', 'Last Stop', 'Orcs Must Die! 3', 'Idol Manager', 'The Great Ace Attorney Chronicles', 'Hell Let Loose', 'Neo: The World Ends with You', 'Microsoft Flight Simulator', 'Samurai Warriors 5', 'Tribes of Midgard', 'Chernobylite', 'The Forgotten City', 'Unbound: Worlds Apart', 'The Ascent', 'Blaster Master Zero 3', 'Blaster Master Zero Trilogy: MetaFight Chronicle', 'Eldest Souls', 'Fuga: Melodies of Steel', 'Omno', 'Paint the Town Red', 'Age of Empires III: Definitive Edition – The African Royals', 'Grime', 'In Sound Mind', 'The Falconeer: Warrior Edition', 'Zengeon', \"Hellblade: Senua's Sacrifice\", 'I Am Dead', 'Age of Empires II: Definitive Edition - Dawn of the Dukes', 'Black Book', 'Ever Forward', 'Godfall', \"Shadowverse: Champion's Battle\", 'Axiom Verge 2', 'Boyfriend Dungeon', 'Garden Story', 'Art of Rally', 'Foreclosed', 'Hades', 'Paw Patrol The Movie: Adventure City Calls', 'Road 96', 'Humankind', 'Recompile', 'RiMS Racing', 'Twelve Minutes', 'Yuoni', 'Arietta of Spirits', \"Ghost of Tsushima Director's Cut\", 'Madden NFL 22', 'Aliens: Fireteam Elite', \"King's Bounty II\", 'Sniper Ghost Warrior Contracts 2', 'Murder Mystery Machine', 'Phoenotopia: Awakening', 'Psychonauts 2', 'Hotel Life: A Resort Simulator', 'The Legend of Heroes: Trails into Reverie', 'Spelunky', 'Spelunky 2', 'Super Animal Royale', 'Baldo', 'No More Heroes III', 'Tormented Souls', 'The Big Con', 'Jumanji: The Curse Returns', 'Cloud Gardens', 'Lake', 'Smelter', 'Bravely Default 2', 'Demon Gaze Extra', 'Kitaria Fables', 'WRC 10', 'Big Rumble Boxing: Creed Champions', 'The Medium', 'Bus Simulator 21', 'Chernobylite', 'F.I.S.T.: Forged In Shadow Torch', 'Sonic Colors: Ultimate', 'The Artful Escape', 'Life Is Strange: True Colors', 'Lost in Random', 'NBA 2K22', 'Tales of Arise', 'WarioWare: Get It Together!', \"Cruis'n Blast\", 'Deathloop', 'Tomb Rumble', 'BanG Dream! Girls Band Party!', 'Eastward', 'Metallic Child', 'Skatebird', 'Aragami 2', 'Deltarune: Chapter 2', \"Ni no Kuni II: Revenant Kingdom – Prince's Edition\", 'Tails of Iron', 'Toem', 'Beast Breaker', 'Kena: Bridge of Spirits', 'World War Z: Aftermath', 'Pokémon Unite', 'Castlevania Advance Collection', 'Diablo II: Resurrected', 'The Forgotten City', 'Sable', 'Staxel', \"Death Stranding Director's Cut\", 'Dragon Ball Z: Kakarot', 'Lost Judgment', 'AWAY: The Survival Series', 'Dandy Ace', \"Dragon Quest The Adventure of Dai: A Hero's Bonds\", 'Ghostrunner', 'Lemnis Gate', 'Neo: The World Ends with You', 'New World', 'Outer Wilds: Echoes of the Eye', 'Centipede: Recharged', 'Insurgency: Sandstorm', 'Astria Ascending', 'Darksiders III', 'The Eternal Cylinder', 'eFootball 2022', 'Hot Wheels Unleashed', 'The Legend of Heroes: Trails Through Daybreak', 'Mary Skelter Finale', 'Melty Blood: Type Lumina', 'FIFA 22', 'Alan Wake Remastered', 'BPM: Bullets Per Minute', 'Exophobia', 'Hell Let Loose', 'Jett: The Far Shore', 'Lego Marvel Super Heroes', 'Nickelodeon All-Star Brawl', 'Super Monkey Ball Banana Mania', 'Art of Rally', 'Far Cry 6', 'Metroid Dread', 'Tetris Effect: Connected', 'Back 4 Blood', 'Disco Elysium: The Final Cut', 'Lone Echo II', 'Monster Crown', 'Poppy Playtime', 'Aeon Must Die!', 'Dungeon Encounters', 'The Idolmaster: Starlit Season', 'The Jackbox Party Pack 8', 'Monark', 'Crysis Remastered Trilogy', 'Demon Slayer: Kimetsu no Yaiba – The Hinokami Chronicles', 'The Good Life', 'NHL 22', 'Nuclear Blaze', 'The Caligula Effect 2', 'Dying Light: Platinum Edition', 'Inscryption', 'Corpse Party', 'Klang 2', 'Disciples: Liberation', 'Echo Generation', 'Evertried', 'Skul: The Hero Slayer', 'Toy Soldiers HD', 'Carrion', 'The Dark Pictures Anthology: House of Ashes', 'My Friend Peppa Pig', 'Guardians of the Galaxy', 'Iron Harvest Complete Edition', 'Age of Empires IV', 'Doctor Who: The Edge of Reality', 'Dusk', 'Fatal Frame: Maiden of Black Water', 'Happy Game', 'Riders Republic', 'Saint Kotar', 'Undernauts: Labyrinth of Yomi', 'Voice of Cards: The Isle Dragon Roars', 'Crab Game', 'Mario Party Superstars', 'Cupid Parasite', 'Knockout City', 'World War Z', 'A Boy and His Blob', 'The Binding of Isaac: Repentance', 'Demon Turf', 'Just Dance 2022', 'Tales of Luminaria', 'Mr. Driller Drill Land', 'Where Cards Fall', 'Call of Duty: Vanguard', 'Fast & Furious: Spy Racers Rise of SH1FT3R', 'Blue Reflection: Second Light', 'Football Manager 2022', 'Forza Horizon 5', 'Jurassic World Evolution 2', \"Tiny Tina's Assault on Dragon Keep: A Wonderlands One-Shot Adventure\", 'The Elder Scrolls V: Skyrim Anniversary Edition', 'Grand Theft Auto: The Trilogy – The Definitive Edition', 'PUBG: New State', 'Star Wars: Knights of the Old Republic', 'Shin Megami Tensei V', 'Grow: Song of the Evertree', 'Hextech Mayhem: A League of Legends Story', 'The Last Stand: Aftermath', 'Light Fairytale Episode II', 'Ruined King: A League of Legends Story', 'Sherlock Holmes: Chapter One', 'Surviving the Aftermath', 'The Waylanders', 'Final Fantasy VII: The First Soldier', 'Gunfire Reborn', 'Klang 2', 'Kid A Mnesia Exhibition', 'Microsoft Flight Simulator: Game of the Year Edition', 'Battlefield 2042', 'Pokémon Brilliant Diamond', 'Re:Legend', \"Death's Door\", 'Deeer Simulator', 'Beyond a Steel Sky', 'Clockwork Aquario', 'Evil Genius 2: World Domination', 'Propnight', 'Dairoku: Agents of Sakuratani', 'Solar Ash', 'Big Brain Academy: Brain vs. Brain', 'Chorus', 'Danganronpa Decadence', 'Disney Magical World 2: Enchanted Edition', \"Happy's Humble Burger Farm\", 'Icarus', 'Choro 2021', \"Shadow Tactics: Blades of the Shogun - Aiko's Choice\", 'Final Fantasy XIV: Endwalker', 'Life Is Strange: True Colors', 'Rune Factory 4 Special', 'Serious Sam 4', 'SpellForce 3 Reforced', 'Twelve Minutes', 'Halo Infinite', 'Sam & Max Beyond Time and Space Remastered', 'GTFO', 'Loop Hero', 'Monster Rancher 1 & 2 DX', 'Suika Game', 'A Year Of Springs', 'The Legend of Nayuta: Boundless Trails', 'Praey for the Gods', 'Alfred Hitchcock – Vertigo', 'Alien: Isolation', 'Final Fantasy VII Remake Intergrade', \"Five Nights at Freddy's: Security Breach\", 'The Gunk', 'Record of Lodoss War: Deedlit in Wonder Labyrinth', \"Baldur's Gate: Dark Alliance\", 'Dynasty Warriors 9: Empires', 'Freddi Fish 3: The Case of the Stolen Conch Shell', 'Putt-Putt Travels Through Time', 'Deep Rock Galactic', 'The Pedestrian', 'Demon Gaze Extra', 'QuickSpot', 'Japanese Rail Sim: Journey to Kyoto', 'Picross S7', 'Monster Hunter Rise', 'SNK vs. Capcom: Card Fighters Clash', 'Astroneer', 'Boomerang Fu', 'Deemo II', 'Eschatos', 'Mary Skelter 2', 'Nova-111', 'Shadow Man Remastered', 'Spelunky 2', 'God of War', 'Shadow Man Remastered', 'Nobody Saves the World', 'River City Girls', 'Hatsune Miku Logic Paint S', 'Yu-Gi-Oh! Master Duel', 'Aquamarine', 'Dimension Tripper Neptune: TOP NEP', 'Disney Twisted-Wonderland', 'Expeditions: Rome', 'Hitman Trilogy', 'Pupperazzi', 'RPGolf Legends', \"Tom Clancy's Rainbow Six Extraction\", 'Windjammers 2', 'MouseCraft', 'Needy Streamer Overload', 'Strange Horticulture', 'Technoroid Unison Heart', 'Gnosia', 'Archetype Arcadia', 'The Artful Escape', 'Cannibal Cuisine', 'Fast & Furious: Spy Racers Rise of SH1FT3R', 'Not For Broadcast', 'Serious Sam: Siberian Mayhem', 'Trollhunters: Defenders of Arcadia', 'Elasto Mania Remastered', 'Bravely Default: Brilliant Lights', 'Cadavers for Dinner', 'Circuit Superstars', 'Gunvolt Chronicles: Luminous Avenger iX 2', 'Hatsune Miku Connecting Puzzle Tamagotori', 'The Longest Road on Earth', 'Rugby 22', 'Taiko no Tatsujin: The Drum Master!', 'Yu-Gi-Oh! Master Duel', 'Pokémon Legends: Arceus', 'Record of Lodoss War: Deedlit in Wonder Labyrinth', 'Uncharted: Legacy of Thieves Collection', 'Hextech Mayhem', 'Life Is Strange Remastered Collection', 'MotoGP 21', 'The Waylanders', 'Webbed', 'Genkai Tokki: Seven Pirates H', 'Sherlock Holmes: Crimes & Punishments', 'Yu-Gi-Oh! Master Duel', 'Ziggurat 2', 'Dying Light 2 Stay Human', 'Maglam Lord', 'Ziggurat 2', 'Death End Request 2', 'OlliOlli World', 'Sifu', 'Backbone', 'Cotton Guardian Force Saturn Tribute', 'Getsu Fūma Den: Undying Moon', 'Unbound: Worlds Apart', 'Breakout: Recharged', 'CrossfireX', 'Edge of Eternity', 'Heaven Burns Red', 'Kingdom Hearts Integrum Masterpiece for Cloud', 'My Hero: Ultra Impact', \"Pajama Sam 2: Thunder and Lightning Aren't so Frightening\", \"Pajama Sam: No Need to Hide When It's Dark Outside\", 'PowerSlave: Exhumed', 'Putt-Putt Saves the Zoo', 'Spy Fox in \"Dry Cereal\"', 'Death End Request 2', 'Lost Ark', \"Oddworld: Stranger's Wrath HD\", 'Unbound: Worlds Apart', 'Ziggurat 2', 'Heart of the Woods', 'Infernax', 'Monster Prom 2: Monster Camp', 'River City Girls Zero', 'Cyberpunk 2077', 'Dynasty Warriors 9: Empires', 'Shadow Madness', 'Star Wars: The Old Republic: Legacy of the Sith', \"Assassin's Creed: The Ezio Collection\", 'Getsu Fūma Den: Undying Moon', 'The King of Fighters XV', 'Touken Ranbu Warriors', 'Total War: Warhammer III', 'Voice of Cards: The Forsaken Maiden', 'Horizon Forbidden West', 'Puzzle & Dragons Nintendo Switch Edition', 'Destiny 2: The Witch Queen', 'Monark', 'Monster Crown', 'Sol Cresta', 'Edge of Eternity', 'Final Fantasy VI Pixel Remaster', \"Sam & Max: This Time It's Virtual!\", 'Atelier Sophie 2: The Alchemist of the Mysterious Dream', 'Assetto Corsa Competizione', 'Chaos;Child', 'Chaos;Head Noah', 'Crystar', 'Dusk Diver 2', 'Edens Zero: Pocket Galaxy', 'Martha is Dead', 'Never Alone: Arctic Edition', 'Raiden IV x MIKADO remix', 'Roguebook', 'Taito Milestones', 'Atelier Sophie 2: The Alchemist of the Mysterious Dream', 'Elden Ring', 'Grid Legends', 'Monark', 'Moto Roader MC', 'Guild Wars 2: End of Dragons', 'Aperture Desk Job', 'Conan Chop Chop', 'Dawn of the Monsters', 'ELEX II', 'Far: Changing Tides', 'Ghostwire: Tokyo - Prelude', 'Puzzle Quest 3', 'Shadow Warrior 3', \"Babylon's Fall\", 'Gran Turismo 7', 'Triangle Strategy', 'Ghostwire: Tokyo - Prelude', 'SpellForce 3 Reforced', '.hack//G.U. Last Recode', 'Century: Age of Ashes', 'Chocobo GP', 'Distant Worlds 2', 'Iron Lung', 'République: Anniversary Edition', 'Submerged: Hidden Depths', 'Chex Quest HD', 'Poppy Playtime', 'WWE 2K22', 'Bleach: Brave Souls', 'Dawn of the Monsters', 'Grand Theft Auto Online', 'Grand Theft Auto V', 'Phantom Breaker: Omnia', 'Paradise Killer', 'Tunic', 'Dance Dance Revolution A3', 'Dark Deity', 'Gal Gun: Double Peace', 'Monster Energy Supercross: The Official Videogame 5', 'Neptuna x Senran Kagura: Ninja Wars', 'Persona 4 Arena Ultimax', 'Kowloon High-School Chronicle', 'Stranger of Paradise: Final Fantasy Origin', 'Syberia: The World Before', 'Rune Factory 5', 'Tempest 4000', 'Hatsune Miku Jigsaw Puzzle', 'A Memoir Blue', 'The Ascent', \"Miss Kobayashi's Dragon Maid: Sakuretsu!! Chorogon Breath\", 'Norco', 'Relayer', 'Tentacular', 'Adventure Time: Pirates of the Enchiridion', 'Andro Dunos II', 'Ghostwire: Tokyo', 'Kirby and the Forgotten Land', 'Rune Factory 5', \"Tiny Tina's Wonderlands\", 'Kowloon High-School Chronicle', 'Apex Legends', 'Crusader Kings III', 'Crystar', \"Patrick's Parabox\", 'Shiren the Wanderer: The Tower of Fortune and the Dice of Fate', 'WRC 10', 'Big Bang Pro Wrestling', \"Dead Man's Diary\", \"Death Stranding Director's Cut\", 'Cosmonious High', 'G-Darius HD', 'Hero Dice', 'Lawn Mowing Simulator', 'Moss: Book 2', 'Real Heroes: Firefighter HD', 'Tropico 6', 'Weird West', 'Crystar', 'Before We Leave', 'Lego Star Wars: The Skywalker Saga', 'MLB The Show 22', 'World War Z: Aftermath', 'Chinatown Detective Agency', 'Chrono Cross: The Radical Dreamers Edition', 'Eschatos', 'Godfall: Ultimate Edition', 'The House of the Dead: Remake', 'Knights in the Nightmare Remaster', \"Sherlock Holmes: The Devil's Daughter\", 'Total War: Medieval II', 'Lake', 'Metal Dogs', 'Serious Sam: Tormental', 'Danganronpa V3: Killing Harmony Anniversary Edition', 'Ib', '13 Sentinels: Aegis Rim', \"Don't Starve Together\", 'Battle Spirits: Connected Battlers', 'Demon Turf: Neon Splash', 'Golf with Your Friends', 'Gotta Protectors: Cart of Darkness', 'Nobody Saves the World', 'Road 96', 'Winning Post 9 2022', 'Turnip Boy Commits Tax Evasion', \"Lego Builder's Journey\", 'Neptuna x Senran Kagura: Ninja Wars', 'Liberated: Enhanced Edition', 'Postal 4: No Regerts', 'Star Wars: The Force Unleashed', 'Chernobylite', 'eBASEBALL Powerful Pro Baseball 2022', 'Hyperdimension Neptunia: Sisters vs. Sisters', 'Lumote: The Mastermote Chronicles', 'MotoGP 22', 'Pocky & Rocky Reshrined', 'Roguebook', 'Teardown', 'Yomawari 3', 'Ganryu 2: Hakuma Kojiro', 'Ragnorium', 'Demon Gaze Extra', \"King Arthur: Knight's Tale\", 'Galactic Civilizations IV', 'Zombie Army 4: Dead War', 'Echoes of Mana', 'The Stanley Parable: Ultra Deluxe', 'Vampire: The Masquerade – Bloodhunt', 'Age of Empires II: Definitive Edition – Dynasties of India', 'Bugsnax', 'Cricket 22', 'Dorfromantik', 'Haiku the Robot', 'Layer Section & Galactic Attack S-Tribute', 'Parkasaurus', 'Rogue Legacy 2', 'Sherlock Holmes Chapter One', 'The House of the Dead: Remake', 'Deadly Dozen Reloaded', 'Nintendo Switch Sports', 'Ravenous Devils', 'Space Warlord Organ Trading Simulator', 'Lumote: The Mastermote Chronicles', 'Takkoman: Kouzatsu World', 'Dungeon Defenders: Awakened', 'Loot River', 'Wildcat Gun Machine', 'Citizen Sleeper', 'Overcooked: All You Can Eat Edition', 'Poppy Playtime: Chapter Two', 'RiffTrax: The Game', 'Trek to Yomi', 'Warhammer 40,000: Chaos Gate - Daemonhunters', 'Elemental War 2', 'Valkyrie of Phantasm Prelude', 'Danganronpa 2: Goodbye Despair Anniversary Edition', 'Eiyuden Chronicle: Rising', 'Prinny Presents NIS Classics Volume 2', 'Salt and Sacrifice', 'This War of Mine: Final Cut', 'Unpacking', 'We Were Here Forever', 'Wolfstride', 'Brigandine: The Legend of Runersia', 'Gibbon: Beyond the Trees', 'Neptuna x Senran Kagura: Ninja Wars', 'Mini Motorways', 'Opus: Echo of Starsong - Full Bloom Edition', 'Soundfall', 'Source of Madness', 'The Centennial Case: A Shijima Story', 'Seven Pirates H', 'Gravitar: Recharged', 'Ninja JaJaMaru: The Great Yokai Battle + Hell', 'Vesper: Zero Light Edition', 'Evil Dead: The Game', 'Prinny Presents NIS Classics Volume 2', 'Apex Legends Mobile', 'Cities: Skylines', 'Far Cry Primal', 'Outward: Definitive Edition', 'Umurangi Generation: Special Edition', 'Gibbon: Beyond the Trees', 'Gunfire Reborn', \"A Monster's Expedition\", 'Contract Killer', 'Deadcraft', 'Endzone - A World Apart: Survivor Edition', 'Eternal Threads', 'Fire Dragon Fist Master Xiao-Mei', 'Norn9: Last Era', 'Norn9: Nonette', 'Old World', 'Snow Bros. Special', 'Taiko Risshiden V DX', \"The Future You've Been Dreaming Of\", 'They Always Run', 'Vampire: The Masquerade – Swansong', 'Cotton Fantasy', 'Dolmen', 'Drainus', 'Floppy Knights', 'Hardspace: Shipbreaker', 'Streets of Rage 4', 'Touken Ranbu Warriors', 'Turnip Boy Commits Tax Evasion', 'Catalyst Black', 'Ni no Kuni: Cross Worlds', 'Roller Champions', 'Yurukill: The Calumniation Games', 'Age of Empires III: Definitive Edition – Knights of the Mediterranean', 'Biomotor Unitron', 'Dragon Quest Builders', 'Hatsune Miku: Project DIVA Mega Mix+', 'The Legend of Nayuta: Boundless Trails', 'Radiant Tale', 'Senren Banka: A Thousand Colors of Love', 'Sniper Elite 5', 'Arcade Spirits: The New Challengers', 'fault - StP - Lightkravte', 'Kao the Kangaroo', 'My Little Pony: A Maretime Bay Adventure', 'Pac-Man Museum +', \"Unexplored 2: The Wayfarer's Legacy\", 'Destroy All Humans! Clone Carnage', 'SnowRunner', 'Deathrun TV', 'Deliver Us the Moon', 'Lake', 'Silt', 'The Big Con: Grift of the Year Edition', 'Through the Darkest of Times', 'Behind the Frame: The Finest Scenery', 'Card Shark', 'Diablo Immortal', 'Fishing Paradiso', 'Gigapocalypse', 'Gravitar: Recharged', 'Jim Power: The Lost Dimension in 3-D', 'Souldiers', 'Tokoyo: The Tower of Perpetuity', 'Frogger and the Rumbling Ruins', 'Loopers', 'Five Memories of My Time with You', \"Unexplored 2: The Wayfarer's Legacy\", 'Wonder Boy Collection', 'Kemono Friends 3', 'Lost Ruins', 'The Elder Scrolls Online: High Isle', 'Disc Room', 'Spacelines from the Far Out', 'The Cycle: Frontier', 'My Lovely Wife', 'Noel the Mortal Fate', 'Star Wars Knights of the Old Republic II: The Sith Lords', 'Super Impossible Road', 'Demon Slayer: Kimetsu no Yaiba – The Hinokami Chronicles', 'Even If Tempest', 'Industria', 'Orcs Must Die! 3', 'Postal: Brain Damaged', 'Pro Cycling Manager 2022', 'Spacelines from the Far Out', 'Tour de France 22', 'Demon Slayer: Kimetsu no Yaiba – The Hinokami Chronicles', 'Freshly Frosted', 'Mario Strikers: Battle League', 'Metal Max Xeno Reborn', 'Meteor World Actor: Badge & Dagger', 'The Origin: Blind Maid', 'Poinpy', 'The Quarry', 'Symphony of War: The Nephilim Saga', 'Deadly Premonition 2: A Blessing in Disguise', 'LumbearJack', 'Jumanji: The Curse Returns', 'Resident Evil 2', 'Resident Evil 3', 'Resident Evil 7: Biohazard', 'Discovery Tour: Viking Age', 'Kids on Site Hard Hat Edition', 'LumbearJack', 'The Hand of Merlin', 'Blackguards 2', 'Deathrun TV', 'Astro Aqua Kitty', 'Autonauts', 'Cloud Gardens', 'Disgaea 6 Complete', 'Frozenheim', 'Horgihugh and Friends', 'Neon White', 'Overlord: Escape from Nazarick', 'Redout 2', 'Starship Troopers: Terran Command', \"Teenage Mutant Ninja Turtles: Shredder's Revenge\", 'The Gardens Between', 'Zorro - The Chronicles', 'Cooking Mama: Cuisine!', 'Final Fantasy VII Remake Intergrade', 'Final Vendetta', 'Omori', 'Raft', 'Fall Guys', 'Milky Way Prince - The Vampire Star', 'Roller Champions', 'Shadowrun Trilogy', 'The Elder Scrolls Online: High Isle', 'The Game of Life 2', \"The King of Fighters '98 Ultimate Match Final Edition\", 'Wreckfest', \"Firegirl: Hack 'n Splash Rescue DX\", '9-Nine', 'Aiyoku no Eustia', 'Blade Runner: Enhanced Edition', 'Deathsmiles I & II', 'Deliver Us the Moon', 'Disney Mirrorverse', 'Elysion: Feeling of Release', 'Hatsune Miku Jigsaw Puzzle', 'Inscryption', 'Japanese Rail Sim: Journey to Kyoto', 'Naraka: Bladepoint', 'Sonic Origins', 'The Caligula Effect 2', 'AI: The Somnium Files – Nirvana Initiative', 'Air Twister', 'Capcom Fighting Collection', 'Fadeout: Underground', 'Fire Emblem Warriors: Three Hopes', 'Omori', 'Pocky & Rocky Reshrined', 'Birushana: Rising Flower of Genpei', 'Disgaea 6 Complete', 'DNF Duel', 'Fobia - St. Dinfna Hotel', 'Little Noah: Scion of Paradise', 'MX vs. ATV Legends', 'My Little Pony: A Maretime Bay Adventure', 'Portal: Companion Collection', 'Azure Striker Gunvolt', 'The Legend of Bum-bo', 'Cuphead: The Delicious Last Course', 'EVE ghost enemies', 'The Galactic Junkers', 'Ground Divers', 'Hourglass', 'Infinity Souls', 'The Jackbox Party Starter', 'Monster Hunter Rise: Sunbreak', 'Of Bird and Cage', 'Outriders Worldslayer', 'Psikyo Shooting Stars Alpha', 'Rabbids: Party of Legends', 'void tRrLM2(); //Void Terrarium 2', 'Archetype Arcadia', 'Birushana: Rising Flower of Genpei', 'Centipede: Recharged', 'F1 22', \"Five Nights at Freddy's: Security Breach\", 'Gamedec', 'Roguebook', 'Those Who Remain', 'Worms W.M.D', 'Arcadegeddon', 'Yurukill: The Calumniation Games', \"Let's Play! Oink Games\", 'Dicey Dungeons', 'DJMax Respect V', 'Far Cry 3: Blood Dragon Classic Edition', 'Gwent: Rogue Mage', 'Klonoa Phantasy Reverie Series', 'Matchpoint - Tennis Championships', 'My Girlfriend is a Mermaid!? Refine', 'Oita Beppu Mystery Guide: The Warped Bamboo Lantern', 'Ruinsmagus', 'AI: The Somnium Files – Nirvana Initiative', 'Klonoa Phantasy Reverie Series', 'Madison', 'Yurukill: The Calumniation Games', 'Century: Age of Ashes', 'F.I.S.T.: Forged In Shadow Torch', 'Garden Story', 'Hellpoint', 'Krut: The Mythic Wings', 'Monument Valley: Panoramic Edition', 'Monument Valley 2: Panoramic Edition', 'Time on Frog Island', 'XEL', 'Loopmancer', 'Rune Factory 5', 'The Tale of Bistun', 'Azure Striker Gunvolt 2', 'Chickip Dancers: Norinori Dance de Kokoro mo Odoru', 'Escape Academy', 'Eyes in the Dark: The Curious Case of One Victoria Bloom', 'G-Mode Archives+: Megami Tensei Gaiden: Shinyaku Last Bible', 'Mothmen 1966', \"Pascal's Wager: Definitive Edition\", 'PowerWash Simulator', 'Running on Magic', 'Spidersaurs', 'Valiant Hearts: The Great War', 'Worth Life', 'XEL', 'DC League of Super-Pets: The Adventures of Krypto and Ace', 'Dreadout 2', \"The Future You've Been Dreaming Of\", 'House Party', 'Running on Magic', 'As Dusk Falls', 'Endling: Extinction is Forever', 'Fallen Angel', 'Forza Horizon 5: Hot Wheels', 'Into the Breach', 'Stray', \"Baldur's Gate: Dark Alliance II\", 'Dreadout 2', 'Hazel Sky', 'Kanda Alice mo Suiri Suru.', 'Muv-Luv Alternative Total Eclipse Remastered', 'Severed Steel', 'Bail or Jail', 'Bright Memory: Infinite', 'Bunny Must Die! Chelsea and the 7 Devils', 'Coromon', 'Danganronpa S: Ultimate Summer Camp', \"Fragment's Note Plus\", 'Hell Pie', \"Nobunaga's Ambition: Rebirth\", 'River City Saga: Three Kingdoms', 'Severed Steel', 'Summer Pockets Reflection Blue', 'Wayward Strand', 'Capcom Arcade 2nd Stadium', 'Live A Live', 'Senses: Midnight', 'Severed Steel', 'Before Your Eyes', 'Noel the Mortal Fate', 'Story of Seasons: Pioneers of Olive Town', 'Fire Commander', 'Octopath Traveler: Champions of the Continent', 'Anonymous;Code', 'Azure Striker Gunvolt 3', 'Bear and Breakfast', 'Captain Velvet Meteor: The Jump+ Dimensions', 'Digimon Survive', 'Dungeon Munchies', 'The Forgotten City', 'GrimGrimoire OnceMore', 'HajiLove: Making Lovers', 'Himemiya-san wa Kamaitai', 'Hohokum', 'Koumajou Remilia: Scarlet Symphony', 'Lost Epic', 'Psikyo Shooting Stars Bravo', 'Re:LieF ~Dear You~ FoR SwitcH', 'Sen no Hatou, Tsukisome no Kouki', 'Strange Horticulture', 'Transiruby', 'Vestaria Saga II: The Sacred Sword of Silvanister', 'What Remains of Edith Finch', 'Yuoni', 'Avenging Spirit', 'Digimon Survive', 'Madison', 'RimWorld Console Edition', 'Story of Seasons: Pioneers of Olive Town', 'Turrican Anthology Vol. 1 & 2', 'Xenoblade Chronicles 3', 'beat refle', 'Hellpoint', 'Azure Striker Gunvolt 3', 'Frogun', 'Monster Boy and the Cursed Kingdom', 'Hooked on You: A Dead by Daylight Dating Sim', 'Mega Man Battle & Fighters', 'South of the Circle', 'Apathy: Narugami Gakuen Nana Fushigi', 'Descenders', 'Fullmetal Alchemist Mobile', 'Gesshizu: Minna de Chokomaka Muradukuri', 'Hard West II', 'Hindsight', 'Kokoro Clover Season 1', 'Sword and Fairy: Together Forever', 'Picross X: Picbits vs. Uzboross', 'Vanaris Tactics', 'Amazing Bomberman', 'Bokura', 'Burrow of the Fallen Bear', 'GigaBash', 'Papers, Please', 'The 13th Month', 'Oita Beppu Mystery Guide: The Warped Bamboo Lantern', \"Tyrant's Blessing\", 'Axiom Verge 2', 'Timothy and the Tower of Mu', 'Two Point Campus', 'Heaven Burns Red', 'Lost in Play', 'Tower of Fantasy', 'Arcade Paradise', 'Axiom Verge 2', 'Cult of the Lamb', 'Rumbleverse', 'Shin-chan: Me and the Professor on Summer Vacation – The Endless Seven-Day Journey', 'Undernauts: Labyrinth of Yomi', \"Marvel's Spider-Man Remastered\", 'Super Bullet Break', 'Spark the Electric Jester 3', 'Fashion Police Squad', 'Blossom Tales II: The Minotaur Prince', 'Rollerdrome', 'Tribes of Midgard', 'Way of the Hunter', \"Kirby's Dream Buffet\", 'Little League World Series Baseball 2022', 'Automatoys', 'Cursed to Golf', 'Quake Champions', 'RPG Time: The Legend of Wright', 'Scar of the Doll', 'Slaycation Paradise', 'Thymesia', 'We Are OFK', 'A Tale of Paper: Refolded', 'Cloudpunk', 'Jetpack Joyride 2', 'Lair Land Story', 'Madden NFL 23', 'Tribal Hunter', 'Are You Smarter Than a Fifth Grader?', 'Fallen Legion Revenants', 'Fallen Legion: Rise to Glory', 'Midnight Fight Express', 'Saints Row', 'Yars: Recharged', 'Islets', \"Alice's Warped Wonderland: REcollection\", 'The Bridge Curse: Road to Salvation', 'Earth Defense Force 6', 'Haak', 'I Was a Teenage Exocolonist', 'Idol Manager', \"Miss Kobayashi's Dragon Maid: Sakuretsu!! Chorogon Breath\", 'Monster Outbreak', 'Opus: Echo of Starsong - Full Bloom Edition', 'SD Gundam Battle Alliance', 'Shin-chan: Me and the Professor on Summer Vacation – The Endless Seven-Day Journey', 'Soul Hackers 2', 'Brok the InvestiGator', 'The Company Man', 'Fallen Legion Revenants', 'Fallen Legion: Rise to Glory', 'Nexomon + Nexomon: Extinction: Complete Collection', 'Pac-Man World Re-Pac', 'Soul Hackers 2', 'Commandos 3 - HD Remaster', 'Destroy All Humans! 2: Reprobed', 'Dusk Diver 2', 'F1 Manager 2022', 'Immortality', 'Inscryption', 'Prinny Presents NIS Classics Volume 3', 'Teenage Mutant Ninja Turtles: The Cowabunga Collection', 'Tinykin', 'Zero Escape: Zero Time Dilemma', 'Call of the Wild: The Angler', 'Phantasy Star Online 2', 'Phantasy Star Online 2: New Genesis', 'Scathe', 'Shin-chan: Me and the Professor on Summer Vacation – The Endless Seven-Day Journey', 'ANNO: Mutationem', 'Chenso Club', 'Gerda: A Flame in Winter', 'Made in Abyss: Binary Star Falling into Darkness', 'Ooblets', \"JoJo's Bizarre Adventure: All Star Battle R\", 'The Last of Us Part I', 'Lego Brawls', 'Lunistice', 'Made in Abyss: Binary Star Falling into Darkness', 'Prinny Presents NIS Classics Volume 3', 'Biomutant', 'Circus Electrique', 'Horizon Chase 2', 'Railbound', 'Re:Legend', 'Temtem', 'The Tomorrow Children: Phoenix Edition', 'Train Sim World 3', 'Adventure Academia: The Fractured Continent', 'Alice Gear Aegis CS: Concerto of Simulatrix', 'BPM: Bullets Per Minute', 'The Fox Awaits Me', 'Jack Move', 'Lucky Luna', 'Steelrising', 'Tower Princess', 'White Day: A Labyrinth Named School', 'NBA 2K23', 'Oita Beppu Mystery Guide: The Warped Bamboo Lantern', 'Splatoon 3', 'Roadwarden', 'Freedom Planet 2', 'Isonzo', 'Little Orpheus', 'Radiant Silvergun', 'SCP: Secret Files', 'Sunday Gold', 'Voice of Cards: The Beasts of Burden', 'XIII', 'Bear and Breakfast', 'Blind Fate: Edo No Yami', \"Despot's Game\", 'Dragon Quest X Offline', 'Dungeons 3', 'Fairy Fencer F: Refrain Chord', 'fault - StP - Lightkravte', 'Foretales', 'Metal: Hellsinger', 'Outer Wilds', 'SBK 22', 'Trombone Champ', 'Trinity Trigger', 'Return to Monkey Island', 'There is No Light', 'Amnesia: Memories', 'Amnesia: Later×Crowd', 'Construction Simulator', 'Deathloop', 'Hardspace: Shipbreaker', 'Jack Move', 'Soulstice', 'Gundam Evolution', 'The Outbound Ghost', 'Beacon Pines', 'Bullet Soul Double Pack', 'The Diofield Chronicle', 'Jyuzaengi: Engetsu Sangokuden 1&2', 'My Teen Romantic Comedy SNAFU Game Collection', 'No Place for Bravery', 'OneShot: World Machine Edition', 'Piofiore: Episodio 1926', 'Potion Permit', 'River City Girls Zero', 'Serial Cleaners', 'Session: Skate Sim', 'Valis: The Fantasm Soldier Collection II', 'DreamWorks Dragons: Legends of the Nine Realms', 'Prodeus', 'Shovel Knight Dig', 'Taiko no Tatsujin: Rhythm Festival', 'The Spirit and the Mouse', 'Alfred Hitchcock – Vertigo', 'Black Witchcraft', 'Desta: The Memories Between', 'Dome Keeper', 'Dual Universe', 'Grounded', 'Hokko Life', 'The Legend of Heroes: Trails from Zero', 'Life Is Strange: Arcadia Bay Collection', 'Moonscars', 'Tunic', 'Deathverse: Let It Die', 'Foxhole', 'NeverAwake', 'Road Redemption Mobile', 'Bullet Soul', 'Bullet Soul: Infinite Burst', 'Desta: The Memories Between', 'Dorfromantik', 'Harvest OverRay + Ano Ko wa Ore kara Hanarenai', \"KonoSuba: God's Blessing on this Wonderful World! Cursed Relic and the Perplexed Adventurers\", 'La Campanella della Eterno', 'Labyrinth of Zangetsu', 'The Legend of Heroes: Kuro no Kiseki II -CRIMSON SiN-', 'Little Witch Nobeta', \"New Prince of Tennis LET'S GO!! ~Daily Life~ from RisingBeat\", 'Pathfinder: Wrath of the Righteous', 'Post Void', 'Railgrade', 'Bonelab', 'Sam & Max Beyond Time and Space Remastered', 'Sam & Max Save the World Remastered', 'Valkyrie Elysium', 'Airoheart', 'Blade Assault', 'Bunny Park', 'FIFA 23', 'Lemon Cake', 'My Little Pony: A Maretime Bay Adventure', 'Paw Patrol: Grand Prix', 'Stella of the End', 'Alfred Hitchcock – Vertigo', 'Dakar Desert Rally', 'Deathverse: Let It Die', 'Nier: Automata The End of Yorha Edition', 'No More Heroes III', 'Touch Detective: Rina and the Funghi Case Files', 'Chaos;Head Noah / Chaos;Child Double Pack', 'Chaos;Head Noah', \"L.O.L. Surprise! B.B's Born\", \"No Man's Sky\", 'Nickelodeon Kart Racers 3: Slime Speedway', 'Asterigos: Curse of the Stars', 'Kamiwaza: Way of the Thief', 'No More Heroes III', 'Lego Bricktales', 'PC Building Simulator 2', 'Undecember', 'Asterix & Obelix XXXL: The Ram From Hibernia', 'Azure Striker Gunvolt 3', 'Bus Simulator City Ride', 'The Case of the Golden Idol', 'Cultic', 'The Darkest Tales', 'Dragon Ball: The Breakers', 'The Eternal Cylinder', 'The Last Oricru', 'Lost Eidolons', 'Triangle Strategy', 'Trifox', \"The Witch's House MV\", 'Dragon Ball: The Breakers', 'Kamiwaza: Way of the Thief', 'McPixel 3', 'NHL 23', 'No More Heroes III', 'PGA Tour 2K23', 'Saint Kotar', 'Scorn', 'Star Trek Prodigy: Supernova', 'Trifox', 'Figment 2: Creed Valley', 'A Plague Tale: Requiem', 'Ghostbusters: Spirits Unleashed', 'Marvel Snap', \"Them's Fightin' Herds\", 'The Last Hero of Nostalgaia', 'The Last Worker', 'Uncharted: Legacy of Thieves Collection', 'Alan Wake Remastered', 'Batora: Lost Haven', 'Dragon Quest X Online All In One Package version 1-6', 'The Jackbox Party Pack 9', 'Mario + Rabbids Sparks of Hope', 'Ultra Kaiju Monster Rancher', 'Vampire Survivors', 'Warhammer 40,000: Shootas, Blood & Teef', 'Faith: The Unholy Trinity - Chapter III', 'Gotham Knights', 'New Tales from the Borderlands', 'Persona 5 Royal', 'Mount & Blade II: Bannerlord', 'Victoria 3', 'Yomawari: Lost in the Dark', 'Return to Monkey Island', 'Ace Angler: Fishing Spirits', 'Aquarium.', 'Da Capo 4 Fortunate Departures', 'Gunfire Reborn', 'Needy Streamer Overload', 'Paradigm Paradox', 'Relayer Advanced', 'Sackboy: A Big Adventure', 'Signalis', 'Spiritfarer', 'Star Ocean: The Divine Force', 'Ace Angler: Fishing Spirits', 'Bayonetta 3', 'Call of Duty: Modern Warfare II', 'Crystarise', 'Dungeon Munchies', 'Resident Evil RE:Verse', 'Yomawari: Lost in the Dark', 'The Darkest Tales', 'Lonesome Village', 'Doraemon Story of Seasons: Friends of the Great Kingdom', 'Sumikko Gurashi: Minna de Rhythm Party', 'Tanuki Sunset', 'A Memoir Blue', 'How to Say Goodbye', 'The Chant', 'Endling: Extinction is Forever', 'Ghost Song', 'Iron Man VR', 'Space Tail: Every Journey Leads Home', 'Totally Accurate Battle Simulator', 'WRC Generations', 'Harvestella', 'Goddess of Victory: Nikke', 'It Takes Two', 'Tanuki Sunset', 'A Little to the Left', 'Cobra Kai 2: Dojos Rising', 'Football Manager 2023', 'Return to Monkey Island', 'Sifu', 'Sonic Frontiers', 'A Little to the Left', 'God of War Ragnarök', 'Once Upon a Jester', 'Rogue Legacy 2', 'Among Us VR', 'Garfield Lasagna Party', 'Hakoniwa Bokujou Hitsuji Mura', 'I-Chu', 'Kowloon High-School Chronicle', 'Police Simulator: Patrol Officers', 'Vampire Survivors', 'Atari 50: The Anniversary Celebration', 'Shadows Over Loathing', 'Tactics Ogre: Reborn', 'Valkyrie Elysium', 'NASCAR Rivals', 'Bendy and the Dark Revival', 'Bravery & Greed', 'Floodland', 'Garfield Lasagna Party', 'The Lord of the Rings Online: Before the Shadow', 'Pentiment', 'RWBY: Arrowfell', 'Somerville', 'Ys VIII: Lacrimosa of Dana', 'Wreckfest', 'Cardfight!! Vanguard Dear Days', 'Cyanotype Daydream: The Girl Who Dreamed the World', 'Goat Simulator 3', 'Goodbye World', 'Monochrome Mobius: Rights and Wrongs Forgotten', 'Opus: Echo of Starsong', 'Return to Shironagasu Island', 'SympathyKiss', 'Wobbledogs', 'The Dark Pictures Anthology: The Devil in Me', 'Finding Paradise', 'Oddworld: Soulstorm - Oddtimized Edition', 'Spider-Man: Miles Morales', 'Pokémon Scarlet and Violet', 'Ys VIII: Lacrimosa of Dana', 'Superliminal', 'Evil West', \"Five Nights at Freddy's: Security Breach\", 'Gungrave G.O.R.E.', 'Just Dance 2023 Edition', 'Ship of Fools', 'Trifox', 'World of Warcraft: Dragonflight', 'Disgaea 4: A Promise Revisited', 'The Knight Witch', 'Reigns: Three Kingdoms', 'Soccer Story', 'Gundam Evolution', 'Front Mission 1st: Remake', 'The Outbound Ghost', 'Sword of the Vagrant', 'Warhammer 40,000: Darktide', 'Elevator Action Returns S-Tribute', 'Inscryption', 'The Outbound Ghost', 'Railbound', 'River City Girls 2', 'Romancing SaGa: Minstrel Song Remastered', 'Samurai Maiden', 'Spirit Hunter: Death Mark II', 'The Walking Dead: Saints & Sinners – Chapter 2: Retribution', 'WRC Generations', \"Yu-Gi-Oh! Rush Duel: Dawn of the Battle Royale!! Let's Go! Go Rush!!\", 'The Callisto Protocol', \"Marvel's Midnight Suns\", 'Need for Speed Unbound', 'Hello Neighbor 2', 'Hindsight', 'Sky: Children of the Light', 'Ixion', 'Chained Echoes', 'Idol Janshi Suchie-Pai Saturn Tribute', 'The Rumble Fish 2', 'Samurai Maiden', 'Soukai Tenki', 'Suzerain', 'Vampire Survivors', 'Witch on the Holy Night', 'Adventure Academia: The Fractured Continent', 'Choo-Choo Charles', 'Dragon Quest Treasures', 'Jitsu Squad', 'Crisis Core: Final Fantasy VII Reunion', 'High on Life', 'Kentucky Route Zero', 'Neon White', 'Potion Craft: Alchemist Simulator', 'Twelve Minutes', 'Lil Gator Game', 'The Witcher 3: Wild Hunt', 'Aka', 'Akai Katana Shin', 'Azure Striker Gunvolt 3', 'Blacktail', 'Grime', 'River City Girls 2', 'Megaton Musashi X', 'Iron Lung', 'Mortal Shell: Complete Edition', 'Super Lesbian Animal RPG', 'Turnip Boy Commits Tax Evasion', 'Sail Forth', 'Fitness Boxing Fist of the North Star', 'Hyper Gunsport', 'Majestic Majolical', 'Naraka: Bladepoint', 'Uta no Prince-sama All Star After Secret', 'Valkyrie Profile: Lenneth', 'Sports Story', 'Hyper Gunsport']\n"
     ]
    }
   ],
   "source": [
    "#Url initial : https://en.wikipedia.org/wiki/2023_in_video_games\n",
    "Liste_VG = []\n",
    "\n",
    "d = {17: 11, 18 : 9, 19 : 9, 20: 12, 21: 11, 22 : 7}\n",
    "for i in range(17, 23) :\n",
    "    \n",
    "    \n",
    "    response = requests.get(url=\"https://en.wikipedia.org/wiki/20\"+str(i)+\"_in_video_games\")\n",
    "    soup = bs4.BeautifulSoup(response.content, 'html.parser')\n",
    "    tableau_participants = soup.findAll('table', {'class' : 'wikitable'})\n",
    "    for j in range(d[i], d[i]+4) :\n",
    "        rows = tableau_participants[j].find_all('tr')\n",
    "        first = True\n",
    "        for row in rows :\n",
    "            if first :\n",
    "                first = False\n",
    "            else:\n",
    "                title = row.find('i')\n",
    "                if title != None :\n",
    "                    Liste_VG.append((row.find('i').text))\n",
    "                \n",
    "                    \n",
    "print(Liste_VG)\n"
   ]
  },
  {
   "cell_type": "code",
   "execution_count": 5,
   "metadata": {},
   "outputs": [
    {
     "name": "stdout",
     "output_type": "stream",
     "text": [
      "[<th>Month</th>, <th>Day</th>, <th>Title</th>, <th>Platform(s)</th>, <th>Genre(s)</th>, <th>Developer(s)</th>, <th>Publisher(s)</th>, <th><abbr title=\"Reference(s)\">Ref.</abbr>\n",
      "</th>]\n"
     ]
    }
   ],
   "source": [
    "print(tableau_participants[8].find_all('th'))\n",
    "\n",
    "#ce que j'ai rajouté pour extraire les autres trucs de wikipédia mais pue un peu la merde\n",
    "#col = row.find_all(['td', 'th'])\n",
    "                #if len(col) >= 2 and title != None and col[1].name and col[2] != None :\n",
    "                    #Liste_VG.append([title.text, col[1].text, col[2].text])\n",
    "\n",
    "\n",
    "#print(platforms[0].text)"
   ]
  },
  {
   "cell_type": "markdown",
   "metadata": {},
   "source": [
    "## I/B Récupération des notes des jeux\n",
    "\n",
    "L'objectif de cette partie est d'extraire du site \"Métacritic\", un site spécialisé qui répertorie les avis de professionnels et d'utilisateurs sur les nouvelles sorties jeux vidéos. Pour chaque jeu dans la base de données du site, une note sur 100 est attribuée (moyenne des reviews de sites spécialisés jeux vidéos) et une note sur 10 attribuée par les utilisateurs du site. Nous allons ici récupérer pour chaque jeu ses notes Métacritic qui deviendront les variables que nous tenteront de prédire par la suite. \n",
    "\n",
    "On remarque que l'on peut atteindre la review du jeu à partir de l'URL, il suffit d'indiquer le titre du jeu dans l'URL, en faisant attention aux espaces. \n",
    "\n",
    "Ici, nous allons remarquer que l'accès à Métacritic est interdit via la bibliothèque Beautifoul Soup"
   ]
  },
  {
   "cell_type": "code",
   "execution_count": 13,
   "metadata": {},
   "outputs": [],
   "source": [
    "#URL du site : https://www.metacritic.com/game/\n",
    "#URL d'une recherche : https://www.metacritic.com/search/gran%20theft%20auto/\n",
    "#URL d'une review : https://www.metacritic.com/game/grand-theft-auto-v/\n",
    "#URL d'une review d'un autre site spécialisé : https://www.ign.com/games/grand-theft-auto-v\n",
    "\n",
    "#Base URL de toutes les reviews\n",
    "URL = \"https://www.metacritic.com/game/\"\n",
    "\n",
    "#user_agent = {'User-agent': 'Mozilla/5.0 (Windows NT 10.0; Win64; x64) AppleWebKit/537.36 (KHTML, like Gecko) Chrome/62.0.3202.94 Safari/537.36'}\n",
    "#site = requests.get(URLbis, user_agent)\n",
    "#print(site.status_code)"
   ]
  },
  {
   "cell_type": "markdown",
   "metadata": {},
   "source": [
    "On crée une fonction afin de reformater les titres des jeux pour qu'ils correspondent au format des URL Métacritic"
   ]
  },
  {
   "cell_type": "code",
   "execution_count": 214,
   "metadata": {},
   "outputs": [],
   "source": [
    "def title_to_slug(title):\n",
    "    \n",
    "    title = title.lower()\n",
    "    title = title.replace(':', '')\n",
    "    title = title.replace('•', '-')\n",
    "    title = title.replace(' – ', '')\n",
    "    #ce ne sont pas exactement les mêmes tirets ici\n",
    "    title = title.replace(' — ', '')\n",
    "    title = title.replace(' - ', '')\n",
    "    title = title.replace('/', '-')\n",
    "    title = title.replace('.', '')\n",
    "    title = title.replace('&', 'and')\n",
    "    title = title.replace(\"'\", '')\n",
    "    title = title.replace('+', 'plus')\n",
    "    title = title.replace('ō', 'o')\n",
    "    title = title.replace(' ', '-')\n",
    "    \n",
    "    return(str(title))\n"
   ]
  },
  {
   "cell_type": "markdown",
   "metadata": {},
   "source": [
    "On définit cette fonction qui va, pour une liste de titres de jeux donnée, récupérer les notes Métacritic sur la page web de la review du jeu en question. Ce sont ces notes que nous allons essayer de prédire par la suite car elles correspondent globablement à la mesure de l'accueil et de la qualité du jeu par les joueurs. \n",
    "\n",
    "Afin d'accélérer le code et sachant que nous allons utiliser uniquement le métascore qui reflète les avis de professionnels du milieu du jeu vidéo, nous allons ajouter à l'utilisateur la possibilité de choisir d'extraire le métascore ou le userscore"
   ]
  },
  {
   "cell_type": "code",
   "execution_count": 202,
   "metadata": {},
   "outputs": [
    {
     "name": "stdout",
     "output_type": "stream",
     "text": [
      "False\n"
     ]
    }
   ],
   "source": [
    "print('—' == '–')"
   ]
  },
  {
   "cell_type": "code",
   "execution_count": 180,
   "metadata": {},
   "outputs": [
    {
     "name": "stdout",
     "output_type": "stream",
     "text": [
      "False\n"
     ]
    }
   ],
   "source": [
    "print('-' == '–')"
   ]
  },
  {
   "cell_type": "code",
   "execution_count": 234,
   "metadata": {},
   "outputs": [],
   "source": [
    "def recup_metascore(list, param) : \n",
    "    session = HTMLSession()\n",
    "    liste_ratings = []\n",
    "\n",
    "    if param == 1 :\n",
    "\n",
    "        for i in range(len(list)) :\n",
    "            #on reformate les titres extraits pour qu'ils aient le format des URL Métacritic\n",
    "            title = unidecode(list[i])\n",
    "            Url = URL + title_to_slug(title) + '/'\n",
    "\n",
    "            #on get l'url\n",
    "            DOM_Html = session.get(Url)\n",
    "            chemin_metascore = DOM_Html.html.find('#__layout > div > div.c-layoutDefault_page > div.c-pageProductGame > div:nth-child(1) > div > div \\\n",
    "                                    > div.c-productHero_player-scoreInfo.u-grid.g-grid-container > \\\n",
    "                                    div.c-productHero_score-container.u-flexbox.u-flexbox-column.g-bg-white > \\\n",
    "                                    div.c-productHero_scoreInfo.g-inner-spacing-top-medium.g-outer-spacing-bottom-medium.g-outer-spacing-top-medium \\\n",
    "                                    > div:nth-child(1) > div > div.c-productScoreInfo_scoreContent.u-flexbox.u-flexbox-alignCenter.u-flexbox-justifyFlexEnd.g-width-100.u-flexbox-nowrap > \\\n",
    "                                    div.c-productScoreInfo_scoreNumber.u-float-right > div > div', first = True)\n",
    "            #on extrait le rating\n",
    "            if chemin_metascore != None :\n",
    "                metacritic_rating_inter = chemin_metascore.attrs['title']\n",
    "                metacritic_rating = metacritic_rating_inter.split(' ')[1]\n",
    "            else : \n",
    "                metacritic_rating = 'N/A'\n",
    "\n",
    "            liste_ratings.append([list[i], metacritic_rating])\n",
    "\n",
    "    elif param == 2 : \n",
    "\n",
    "        for i in range(len(list)) :\n",
    "            #on reformate les titres extraits pour qu'ils aient le format des URL Métacritic\n",
    "            title = unidecode(list[i])\n",
    "            Url = URL + title_to_slug(title) + '/'\n",
    "\n",
    "            #on get l'url\n",
    "            DOM_Html = session.get(Url)\n",
    "            chemin_userscore = DOM_Html.html.find('#__layout > div > div.c-layoutDefault_page > div.c-pageProductGame > div:nth-child(1) > div > div > \\\n",
    "                                      div.c-productHero_player-scoreInfo.u-grid.g-grid-container > div.c-productHero_score-container.u-flexbox.u-flexbox-column.g-bg-white > \\\n",
    "                                      div.c-productHero_scoreInfo.g-inner-spacing-top-medium.g-outer-spacing-bottom-medium.g-outer-spacing-top-medium > \\\n",
    "                                      div.c-productScoreInfo.u-clearfix > div.c-productScoreInfo_scoreContent.u-flexbox.u-flexbox-alignCenter.u-flexbox-justifyFlexEnd.g-width-100.u-flexbox-nowrap > \\\n",
    "                                      div.c-productScoreInfo_scoreNumber.u-float-right > div > div' , first = True)\n",
    "            #On extrait le rating\n",
    "            if chemin_userscore != None :  \n",
    "                users_ratings_inter = chemin_userscore.attrs['title']\n",
    "                users_ratings = float(users_ratings_inter.split(' ')[2])\n",
    "            else:\n",
    "                users_ratings = 'N/A'\n",
    "        \n",
    "            liste_ratings.append([list[i],  users_ratings])\n",
    "\n",
    "\n",
    "    return liste_ratings\n",
    "\n",
    "    "
   ]
  },
  {
   "cell_type": "markdown",
   "metadata": {},
   "source": [
    "Pas trop capté ici"
   ]
  },
  {
   "cell_type": "code",
   "execution_count": 207,
   "metadata": {},
   "outputs": [],
   "source": [
    "#from igdb.wrapper import IGDBWrapper\n",
    "wrapper = IGDBWrapper(\"wlqlv1d19z5t69oqlf9xx69znfahze\", \"o2strnp2xj90l3p982n4jg9ko1utad\")"
   ]
  },
  {
   "cell_type": "markdown",
   "metadata": {},
   "source": [
    "Création du dictionnaire des différents genres de jeux : chaque genre est associé à un Id qui nous permettra de nous repérer dans le base"
   ]
  },
  {
   "cell_type": "code",
   "execution_count": 357,
   "metadata": {},
   "outputs": [
    {
     "name": "stdout",
     "output_type": "stream",
     "text": [
      "{4: 'Fighting', 5: 'Shooter', 7: 'Music', 8: 'Platform', 9: 'Puzzle', 10: 'Racing', 11: 'Real Time Strategy (RTS)', 12: 'Role-playing (RPG)', 13: 'Simulator', 14: 'Sport', 15: 'Strategy', 16: 'Turn-based strategy (TBS)', 24: 'Tactical', 26: 'Quiz/Trivia', 25: \"Hack and slash/Beat 'em up\", 30: 'Pinball', 31: 'Adventure', 33: 'Arcade', 34: 'Visual Novel', 32: 'Indie', 35: 'Card & Board Game', 36: 'MOBA', 2: 'Point-and-click'}\n"
     ]
    }
   ],
   "source": [
    "from igdb.igdbapi_pb2 import GenreResult\n",
    "byte_array = wrapper.api_request(\n",
    "            'genres.pb',\n",
    "            'fields *; limit 100;'\n",
    "          )\n",
    "genres_message = GenreResult()\n",
    "genres_message.ParseFromString(byte_array) # Fills the protobuf message object with the response\n",
    "genres = genres_message.genres\n",
    "genre_nbr = len(genres)\n",
    "genre_dictionnary = {}\n",
    "\n",
    "for i in range(genre_nbr) :\n",
    "    genre_dictionnary[genres[i].id] = genres[i].name\n",
    "print(genre_dictionnary)"
   ]
  },
  {
   "cell_type": "markdown",
   "metadata": {},
   "source": [
    "Même chose pour le thème principal du jeu"
   ]
  },
  {
   "cell_type": "code",
   "execution_count": 358,
   "metadata": {},
   "outputs": [
    {
     "name": "stdout",
     "output_type": "stream",
     "text": [
      "{20: 'Thriller', 18: 'Science fiction', 1: 'Action', 19: 'Horror', 21: 'Survival', 17: 'Fantasy', 22: 'Historical', 23: 'Stealth', 27: 'Comedy', 28: 'Business', 31: 'Drama', 32: 'Non-fiction', 35: 'Kids', 33: 'Sandbox', 38: 'Open world', 39: 'Warfare', 41: '4X (explore, expand, exploit, and exterminate)', 34: 'Educational', 43: 'Mystery', 40: 'Party', 44: 'Romance', 42: 'Erotic'}\n"
     ]
    }
   ],
   "source": [
    "from igdb.igdbapi_pb2 import ThemeResult\n",
    "byte_array = wrapper.api_request(\n",
    "            'themes.pb',\n",
    "            'fields *; limit 100;'\n",
    "          )\n",
    "themes_message = ThemeResult()\n",
    "themes_message.ParseFromString(byte_array)# Fills the protobuf message object with the response\n",
    "themes = themes_message.themes\n",
    "theme_nbr = len(themes)\n",
    "theme_dictionnary = {}\n",
    "\n",
    "for i in range(theme_nbr) :\n",
    "    theme_dictionnary[themes[i].id] = themes[i].name\n",
    "print(theme_dictionnary)"
   ]
  },
  {
   "cell_type": "code",
   "execution_count": 448,
   "metadata": {},
   "outputs": [
    {
     "ename": "AttributeError",
     "evalue": "'int' object has no attribute 'artworks'",
     "output_type": "error",
     "traceback": [
      "\u001b[0;31m---------------------------------------------------------------------------\u001b[0m",
      "\u001b[0;31mAttributeError\u001b[0m                            Traceback (most recent call last)",
      "\u001b[0;32m/var/folders/sg/lxw89kss0x727nlhml9vq0nm0000gn/T/ipykernel_65572/4094919827.py\u001b[0m in \u001b[0;36m<module>\u001b[0;34m\u001b[0m\n\u001b[1;32m      6\u001b[0m \u001b[0martwork_message\u001b[0m \u001b[0;34m=\u001b[0m \u001b[0mArtworkResult\u001b[0m\u001b[0;34m(\u001b[0m\u001b[0;34m)\u001b[0m\u001b[0;34m\u001b[0m\u001b[0;34m\u001b[0m\u001b[0m\n\u001b[1;32m      7\u001b[0m \u001b[0martwork_message\u001b[0m \u001b[0;34m=\u001b[0m \u001b[0martwork_message\u001b[0m\u001b[0;34m.\u001b[0m\u001b[0mParseFromString\u001b[0m\u001b[0;34m(\u001b[0m\u001b[0mbyte_array\u001b[0m\u001b[0;34m)\u001b[0m\u001b[0;34m\u001b[0m\u001b[0;34m\u001b[0m\u001b[0m\n\u001b[0;32m----> 8\u001b[0;31m \u001b[0martworks\u001b[0m \u001b[0;34m=\u001b[0m \u001b[0martwork_message\u001b[0m\u001b[0;34m.\u001b[0m\u001b[0martworks\u001b[0m\u001b[0;34m\u001b[0m\u001b[0;34m\u001b[0m\u001b[0m\n\u001b[0m",
      "\u001b[0;31mAttributeError\u001b[0m: 'int' object has no attribute 'artworks'"
     ]
    }
   ],
   "source": [
    "from igdb.igdbapi_pb2 import ArtworkResult\n",
    "byte_array = wrapper.api_request(\n",
    "            'artworks.pb',\n",
    "            'fields animated; where game = 26732;'\n",
    "          )\n",
    "artwork_message = ArtworkResult()\n",
    "artwork_message = artwork_message.ParseFromString(byte_array)\n",
    "artworks = artwork_message.artworks"
   ]
  },
  {
   "cell_type": "markdown",
   "metadata": {},
   "source": [
    "Ici, il s'agit de la requête que l'on fait à l'API qui va extraire, à partir du nom du jeu, les informations correspondantes dans sa base de données. "
   ]
  },
  {
   "cell_type": "code",
   "execution_count": 429,
   "metadata": {},
   "outputs": [],
   "source": [
    "import datetime\n",
    "\n",
    "def game_API_Info(game_slug) :\n",
    "\n",
    "    #Protobuf API request\n",
    "    from igdb.igdbapi_pb2 import GameResult\n",
    "    #On fait cela non pas pour préciser si le jeu n'ai pas dispo sur l'api mais si jamais des caractères dans son titre empêchent sa lecture \n",
    "    #(utile pour affiner la fonction de reformatage des titres)\n",
    "    try : \n",
    "        byte_array = wrapper.api_request(\n",
    "                'games.pb',\n",
    "                'fields first_release_date, franchise, genres, hypes, language_supports, platforms, themes, age_ratings, collection, artworks, \\\n",
    "                involved_companies, multiplayer_modes, player_perspectives, similar_games, summary, storyline \\\n",
    "                ; where slug = \"'+ game_slug +'\";'\n",
    "              )\n",
    "    except: \n",
    "        print(f\"Une erreur d'extraction s'est produite pour le jeu {game_slug}\")\n",
    "        return([\"NA\"])\n",
    "    games_message = GameResult()\n",
    "    games_message.ParseFromString(byte_array) # Fills the protobuf message object with the response\n",
    "    games = games_message.games\n",
    "    \n",
    "    if len(games) == 0 :\n",
    "        return([\"NA\"])\n",
    "    unix_time = games[0].first_release_date\n",
    "    seconds = unix_time.seconds\n",
    "    dt_object = datetime.datetime.utcfromtimestamp(seconds)\n",
    "    year = dt_object.year\n",
    "    \n",
    "    genres_nbr = len(games[0].genres)\n",
    "    genres_names_list = []\n",
    "    for j in range(genres_nbr):\n",
    "        genres_names_list.append(genre_dictionnary[games[0].genres[j].id])\n",
    "\n",
    "\n",
    "    themes_nbr = len(games[0].themes)\n",
    "    themes_names_list = []\n",
    "    for j in range(themes_nbr):\n",
    "        themes_names_list.append(theme_dictionnary[games[0].themes[j].id])\n",
    "    \n",
    "    return([games[0].id, year, games[0].age_ratings, games[0].franchise, genres_names_list, games[0].hypes, len(games[0].language_supports), \\\n",
    "            len(games[0].platforms), themes_names_list, games[0].collection, games[0].artworks, \\\n",
    "            games[0].involved_companies, games[0].multiplayer_modes, games[0].player_perspectives, \\\n",
    "            games[0].similar_games, games[0].summary, games[0].storyline])"
   ]
  },
  {
   "cell_type": "markdown",
   "metadata": {},
   "source": [
    "Ici on va créer le dataframe qui rassemble les informations disponibles sur la base de l'API ainsi que les notes Métacritic des jeux"
   ]
  },
  {
   "cell_type": "code",
   "execution_count": 430,
   "metadata": {},
   "outputs": [],
   "source": [
    "def creation_dataframe(list) : \n",
    "    np_df = []\n",
    "    k = 0\n",
    "\n",
    "    for i in tqdm(range(len(list))) :\n",
    "        data_recup = recup_metascore([Liste_VG[i]], 1)\n",
    "        titre = data_recup[0][0]\n",
    "        metascore = data_recup[0][1]\n",
    "        slug = title_to_slug(Liste_VG[i])\n",
    "        vect_info_jeu = game_API_Info(slug)\n",
    "        #Ici on vient filtrer les jeux qui ne sont pas répertoriés dans la base de données (vecteur d'informations = 'NA')\n",
    "        \n",
    "        if len([titre] + [metascore] + vect_info_jeu) == 19 : \n",
    "            np_df.append([titre] + [metascore] + game_API_Info(slug))\n",
    "        elif vect_info_jeu == ['NA'] : \n",
    "            k += 1\n",
    "        \n",
    "    print([titre] + [metascore] + game_API_Info(slug))\n",
    "    np_DF = pd.DataFrame(np.array(np_df), columns = ['Title', 'Note', 'Id', 'Release_Date', 'PEGI', 'Franchise', 'Genres', 'Hypes', 'nb_languages', \\\n",
    "                                                    'nb_platforms', 'Themes', 'Collection', 'Graphismes', 'Publisher', 'Multiplayer', \\\n",
    "                                                    'Perspective', 'Similar Games', 'Summary', 'Storyline'])\n",
    "    \n",
    "    print(f\"La proportion de jeux qui ont matché avec la base de l'API est de {int(1000*(len(list) - k)/len(list))/10} %\")\n",
    "    return(np_DF)"
   ]
  },
  {
   "cell_type": "code",
   "execution_count": 322,
   "metadata": {},
   "outputs": [
    {
     "data": {
      "text/plain": [
       "19"
      ]
     },
     "execution_count": 322,
     "metadata": {},
     "output_type": "execute_result"
    }
   ],
   "source": [
    "len(game_API_Info(title_to_slug(Liste_VG[0])))"
   ]
  },
  {
   "cell_type": "code",
   "execution_count": 431,
   "metadata": {},
   "outputs": [
    {
     "name": "stderr",
     "output_type": "stream",
     "text": [
      "100%|██████████| 2/2 [00:04<00:00,  2.39s/it]\n"
     ]
    },
    {
     "name": "stdout",
     "output_type": "stream",
     "text": [
      "['Hatsune Miku: Project DIVA Future Tone', 'N/A', 25821, 2016, [id: 10533\n",
      ", id: 33097\n",
      ", id: 47615\n",
      ", id: 47616\n",
      "], , ['Music'], 0, 5, 1, ['Action'], id: 1292\n",
      ", [id: 63106\n",
      "], [id: 222786\n",
      ", id: 239228\n",
      "], [], [id: 2\n",
      "], [id: 4052\n",
      ", id: 11711\n",
      ", id: 18981\n",
      ", id: 28010\n",
      ", id: 57296\n",
      ", id: 57372\n",
      ", id: 63793\n",
      ", id: 63933\n",
      ", id: 77720\n",
      ", id: 78969\n",
      "], 'Hatsune Miku: Project Diva Future Tone is a home console port of Hatsune Miku: Project Diva Arcade Future Tone for the PlayStation 4, containing over 200 songs and 300 modules to collect.', 'August 31, 2007 marks the 10th anniversary of the birth of Hatsune Miku. It starts here again.']\n",
      "La proportion de jeux qui ont matché avec la base de l'API est de 100.0 %\n"
     ]
    },
    {
     "name": "stderr",
     "output_type": "stream",
     "text": [
      "/var/folders/sg/lxw89kss0x727nlhml9vq0nm0000gn/T/ipykernel_65572/716728829.py:19: VisibleDeprecationWarning: Creating an ndarray from ragged nested sequences (which is a list-or-tuple of lists-or-tuples-or ndarrays with different lengths or shapes) is deprecated. If you meant to do this, you must specify 'dtype=object' when creating the ndarray.\n",
      "  np_DF = pd.DataFrame(np.array(np_df), columns = ['Title', 'Note', 'Id', 'Release_Date', 'PEGI', 'Franchise', 'Genres', 'Hypes', 'nb_languages', \\\n"
     ]
    },
    {
     "data": {
      "text/html": [
       "<div>\n",
       "<style scoped>\n",
       "    .dataframe tbody tr th:only-of-type {\n",
       "        vertical-align: middle;\n",
       "    }\n",
       "\n",
       "    .dataframe tbody tr th {\n",
       "        vertical-align: top;\n",
       "    }\n",
       "\n",
       "    .dataframe thead th {\n",
       "        text-align: right;\n",
       "    }\n",
       "</style>\n",
       "<table border=\"1\" class=\"dataframe\">\n",
       "  <thead>\n",
       "    <tr style=\"text-align: right;\">\n",
       "      <th></th>\n",
       "      <th>Title</th>\n",
       "      <th>Note</th>\n",
       "      <th>Id</th>\n",
       "      <th>Release_Date</th>\n",
       "      <th>PEGI</th>\n",
       "      <th>Franchise</th>\n",
       "      <th>Genres</th>\n",
       "      <th>Hypes</th>\n",
       "      <th>nb_languages</th>\n",
       "      <th>nb_platforms</th>\n",
       "      <th>Themes</th>\n",
       "      <th>Collection</th>\n",
       "      <th>Graphismes</th>\n",
       "      <th>Publisher</th>\n",
       "      <th>Multiplayer</th>\n",
       "      <th>Perspective</th>\n",
       "      <th>Similar Games</th>\n",
       "      <th>Summary</th>\n",
       "      <th>Storyline</th>\n",
       "    </tr>\n",
       "  </thead>\n",
       "  <tbody>\n",
       "    <tr>\n",
       "      <th>0</th>\n",
       "      <td>Milkmaid of the Milky Way</td>\n",
       "      <td>74</td>\n",
       "      <td>26732</td>\n",
       "      <td>2017</td>\n",
       "      <td>[id: 41279\\n, id: 57763\\n, id: 119184\\n, id: 1...</td>\n",
       "      <td></td>\n",
       "      <td>[Point-and-click, Puzzle, Adventure, Indie]</td>\n",
       "      <td>0</td>\n",
       "      <td>6</td>\n",
       "      <td>6</td>\n",
       "      <td>[Fantasy, Science fiction]</td>\n",
       "      <td></td>\n",
       "      <td>[id: 15977\\n]</td>\n",
       "      <td>[id: 96211\\n]</td>\n",
       "      <td>[]</td>\n",
       "      <td>[id: 4\\n]</td>\n",
       "      <td>[id: 236\\n, id: 11367\\n, id: 18011\\n, id: 2442...</td>\n",
       "      <td>Milkmaid of the Milky Way is a classic puzzle ...</td>\n",
       "      <td></td>\n",
       "    </tr>\n",
       "    <tr>\n",
       "      <th>1</th>\n",
       "      <td>Hatsune Miku: Project DIVA Future Tone</td>\n",
       "      <td>N/A</td>\n",
       "      <td>25821</td>\n",
       "      <td>2016</td>\n",
       "      <td>[id: 10533\\n, id: 33097\\n, id: 47615\\n, id: 47...</td>\n",
       "      <td></td>\n",
       "      <td>[Music]</td>\n",
       "      <td>0</td>\n",
       "      <td>5</td>\n",
       "      <td>1</td>\n",
       "      <td>[Action]</td>\n",
       "      <td>id: 1292\\n</td>\n",
       "      <td>[id: 63106\\n]</td>\n",
       "      <td>[id: 222786\\n, id: 239228\\n]</td>\n",
       "      <td>[]</td>\n",
       "      <td>[id: 2\\n]</td>\n",
       "      <td>[id: 4052\\n, id: 11711\\n, id: 18981\\n, id: 280...</td>\n",
       "      <td>Hatsune Miku: Project Diva Future Tone is a ho...</td>\n",
       "      <td>August 31, 2007 marks the 10th anniversary of ...</td>\n",
       "    </tr>\n",
       "  </tbody>\n",
       "</table>\n",
       "</div>"
      ],
      "text/plain": [
       "                                    Title Note     Id Release_Date  \\\n",
       "0               Milkmaid of the Milky Way   74  26732         2017   \n",
       "1  Hatsune Miku: Project DIVA Future Tone  N/A  25821         2016   \n",
       "\n",
       "                                                PEGI Franchise  \\\n",
       "0  [id: 41279\\n, id: 57763\\n, id: 119184\\n, id: 1...             \n",
       "1  [id: 10533\\n, id: 33097\\n, id: 47615\\n, id: 47...             \n",
       "\n",
       "                                        Genres Hypes nb_languages  \\\n",
       "0  [Point-and-click, Puzzle, Adventure, Indie]     0            6   \n",
       "1                                      [Music]     0            5   \n",
       "\n",
       "  nb_platforms                      Themes  Collection     Graphismes  \\\n",
       "0            6  [Fantasy, Science fiction]              [id: 15977\\n]   \n",
       "1            1                    [Action]  id: 1292\\n  [id: 63106\\n]   \n",
       "\n",
       "                      Publisher Multiplayer Perspective  \\\n",
       "0                 [id: 96211\\n]          []   [id: 4\\n]   \n",
       "1  [id: 222786\\n, id: 239228\\n]          []   [id: 2\\n]   \n",
       "\n",
       "                                       Similar Games  \\\n",
       "0  [id: 236\\n, id: 11367\\n, id: 18011\\n, id: 2442...   \n",
       "1  [id: 4052\\n, id: 11711\\n, id: 18981\\n, id: 280...   \n",
       "\n",
       "                                             Summary  \\\n",
       "0  Milkmaid of the Milky Way is a classic puzzle ...   \n",
       "1  Hatsune Miku: Project Diva Future Tone is a ho...   \n",
       "\n",
       "                                           Storyline  \n",
       "0                                                     \n",
       "1  August 31, 2007 marks the 10th anniversary of ...  "
      ]
     },
     "execution_count": 431,
     "metadata": {},
     "output_type": "execute_result"
    }
   ],
   "source": [
    "creation_dataframe(Liste_VG[:2])"
   ]
  },
  {
   "cell_type": "code",
   "execution_count": null,
   "metadata": {},
   "outputs": [],
   "source": []
  }
 ],
 "metadata": {
  "kernelspec": {
   "display_name": "Python 3 (ipykernel)",
   "language": "python",
   "name": "python3"
  },
  "language_info": {
   "codemirror_mode": {
    "name": "ipython",
    "version": 3
   },
   "file_extension": ".py",
   "mimetype": "text/x-python",
   "name": "python",
   "nbconvert_exporter": "python",
   "pygments_lexer": "ipython3",
   "version": "3.9.7"
  }
 },
 "nbformat": 4,
 "nbformat_minor": 4
}
